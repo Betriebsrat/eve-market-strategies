{
 "cells": [
  {
   "cell_type": "markdown",
   "metadata": {},
   "source": [
    "### Example 12 - Finding Bid Targets\n",
    "\n",
    "In this example, we'll attempt to find good candidates for placing bid limit orders in the hope of generating profitable scrapmetal arbitrage opportunities.  We demonstrate the search for these candidates by running a back test on a single day of market data, similar to our search in Example 9.  If you recall, that example required significant time to execute due to the large number of asset types eligible for scrapmetal processing.  In this example, however, we'll only search asset types which are likely to be good limit order targets.  That is, we will pre-filter for assets which are:\n",
    "\n",
    "* liquid, as defined below; and,\n",
    "* at least 30% of inferred trades are sells.\n",
    "\n",
    "The first part of this example will focus on filtering scrapmetal eligible asset types according to this criteria.  The second part of the example will then evaluate these types to determine whether the best bid is close enough to a target price we need to hit in order to be profitable."
   ]
  },
  {
   "cell_type": "code",
   "execution_count": 1,
   "metadata": {
    "collapsed": true
   },
   "outputs": [],
   "source": [
    "# Standard imports\n",
    "import pandas as pd\n",
    "import numpy as np\n",
    "from pandas import DataFrame, Series\n",
    "import matplotlib.pyplot as plt\n",
    "import datetime\n",
    "%matplotlib inline\n",
    "# EveKit imports\n",
    "from evekit.reference import Client\n",
    "from evekit.util import convert_raw_time"
   ]
  },
  {
   "cell_type": "code",
   "execution_count": 2,
   "metadata": {
    "collapsed": false
   },
   "outputs": [
    {
     "name": "stdout",
     "output_type": "stream",
     "text": [
      "Using region_id=10000002, station_id=60003760 at 2017-01-10 00:00:00\n"
     ]
    }
   ],
   "source": [
    "# As in previous examples, we'll consider opportunities in The Forge at the busiest station in Jita.\n",
    "sde_client = Client.SDE.get()\n",
    "region_query = \"{values: ['The Forge']}\"\n",
    "station_query = \"{values: ['Jita IV - Moon 4 - Caldari Navy Assembly Plant']}\"\n",
    "region_id = sde_client.Map.getRegions(regionName=region_query).result()[0][0]['regionID']\n",
    "station_id = sde_client.Station.getStations(stationName=station_query).result()[0][0]['stationID']\n",
    "compute_date = datetime.datetime(2017, 1, 10)\n",
    "print(\"Using region_id=%d, station_id=%d at %s\" % (region_id, station_id, str(compute_date)))"
   ]
  },
  {
   "cell_type": "code",
   "execution_count": 3,
   "metadata": {
    "collapsed": false
   },
   "outputs": [],
   "source": [
    "# Now retrieve scrapmetal processing eligible types\n",
    "material_map = {}\n",
    "source_types = {}\n",
    "for next_type in Client.SDE.load_complete(sde_client.Inventory.getTypeMaterials):\n",
    "    typeID = next_type['typeID']\n",
    "    if typeID not in material_map.keys():\n",
    "        material_map[typeID] = {}\n",
    "    material_map[typeID][next_type['materialTypeID']] = next_type\n",
    "#\n",
    "# and resolve type information\n",
    "#\n",
    "type_list = list(material_map.keys())\n",
    "for i in range(0, len(type_list), 100):\n",
    "    next_batch = type_list[i:min(i+100, len(type_list))]\n",
    "    type_query = \"{values:[\" + \",\".join([str(x) for x in next_batch]) + \"]}\"\n",
    "    for next_type in Client.SDE.load_complete(sde_client.Inventory.getTypes, typeID=type_query):\n",
    "        typeID = next_type['typeID']\n",
    "        source_types[typeID] = next_type\n",
    "        source_types[typeID]['material_map'] = material_map[typeID]\n",
    "#\n",
    "# Finally, remove the ore and ice types from the source types\n",
    "#\n",
    "material_group_names = [ 'Veldspar', 'Scordite', 'Pyroxeres', 'Plagioclase', 'Omber', 'Kernite', 'Jaspet', \n",
    "                         'Hemorphite', 'Hedbergite', 'Gneiss', 'Dark Ochre', 'Spodumain', 'Crokite', \n",
    "                         'Bistot', 'Arkonor', 'Mercoxit', 'Ice' ]\n",
    "group_name_query = \"{values:[\" + \",\".join(map(lambda x : \"'\" + x + \"'\", material_group_names)) + \"]}\"\n",
    "material_groups = Client.SDE.load_complete(sde_client.Inventory.getGroups, groupName=group_name_query)\n",
    "group_id_query = \"{values:[\" + \",\".join([str(x['groupID']) for x in material_groups]) + \"]}\"\n",
    "for next_type in Client.SDE.load_complete(sde_client.Inventory.getTypes, groupID=group_id_query):\n",
    "    if next_type['typeID'] in source_types.keys():\n",
    "        del source_types[next_type['typeID']]"
   ]
  },
  {
   "cell_type": "code",
   "execution_count": 4,
   "metadata": {
    "collapsed": false
   },
   "outputs": [
    {
     "name": "stdout",
     "output_type": "stream",
     "text": [
      "Retrieving 2016-10-12 00:00:00...done\n",
      "Retrieving 2016-10-13 00:00:00...done\n",
      "Retrieving 2016-10-14 00:00:00...done\n",
      "Retrieving 2016-10-15 00:00:00...done\n",
      "Retrieving 2016-10-16 00:00:00...done\n",
      "Retrieving 2016-10-17 00:00:00...done\n",
      "Retrieving 2016-10-18 00:00:00...done\n",
      "Retrieving 2016-10-19 00:00:00...done\n",
      "Retrieving 2016-10-20 00:00:00...done\n",
      "Retrieving 2016-10-21 00:00:00...done\n",
      "Retrieving 2016-10-22 00:00:00...done\n",
      "Retrieving 2016-10-23 00:00:00...done\n",
      "Retrieving 2016-10-24 00:00:00...done\n",
      "Retrieving 2016-10-25 00:00:00...done\n",
      "Retrieving 2016-10-26 00:00:00...done\n",
      "Retrieving 2016-10-27 00:00:00...done\n",
      "Retrieving 2016-10-28 00:00:00...done\n",
      "Retrieving 2016-10-29 00:00:00...done\n",
      "Retrieving 2016-10-30 00:00:00...done\n",
      "Retrieving 2016-10-31 00:00:00...done\n",
      "Retrieving 2016-11-01 00:00:00...done\n",
      "Retrieving 2016-11-02 00:00:00...done\n",
      "Retrieving 2016-11-03 00:00:00...done\n",
      "Retrieving 2016-11-04 00:00:00...done\n",
      "Retrieving 2016-11-05 00:00:00...done\n",
      "Retrieving 2016-11-06 00:00:00...done\n",
      "Retrieving 2016-11-07 00:00:00...done\n",
      "Retrieving 2016-11-08 00:00:00...done\n",
      "Retrieving 2016-11-09 00:00:00...done\n",
      "Retrieving 2016-11-10 00:00:00...done\n",
      "Retrieving 2016-11-11 00:00:00...done\n",
      "Retrieving 2016-11-12 00:00:00...done\n",
      "Retrieving 2016-11-13 00:00:00...done\n",
      "Retrieving 2016-11-14 00:00:00...done\n",
      "Retrieving 2016-11-15 00:00:00...done\n",
      "Retrieving 2016-11-16 00:00:00...done\n",
      "Retrieving 2016-11-17 00:00:00...done\n",
      "Retrieving 2016-11-18 00:00:00...done\n",
      "Retrieving 2016-11-19 00:00:00...done\n",
      "Retrieving 2016-11-20 00:00:00...done\n",
      "Retrieving 2016-11-21 00:00:00...done\n",
      "Retrieving 2016-11-22 00:00:00...done\n",
      "Retrieving 2016-11-23 00:00:00...done\n",
      "Retrieving 2016-11-24 00:00:00...done\n",
      "Retrieving 2016-11-25 00:00:00...done\n",
      "Retrieving 2016-11-26 00:00:00...done\n",
      "Retrieving 2016-11-27 00:00:00...done\n",
      "Retrieving 2016-11-28 00:00:00...done\n",
      "Retrieving 2016-11-29 00:00:00...done\n",
      "Retrieving 2016-11-30 00:00:00...done\n",
      "Retrieving 2016-12-01 00:00:00...done\n",
      "Retrieving 2016-12-02 00:00:00...done\n",
      "Retrieving 2016-12-03 00:00:00...done\n",
      "Retrieving 2016-12-04 00:00:00...done\n",
      "Retrieving 2016-12-05 00:00:00...done\n",
      "Retrieving 2016-12-06 00:00:00...done\n",
      "Retrieving 2016-12-07 00:00:00...done\n",
      "Retrieving 2016-12-08 00:00:00...done\n",
      "Retrieving 2016-12-09 00:00:00...done\n",
      "Retrieving 2016-12-10 00:00:00...done\n",
      "Retrieving 2016-12-11 00:00:00...done\n",
      "Retrieving 2016-12-12 00:00:00...done\n",
      "Retrieving 2016-12-13 00:00:00...done\n",
      "Retrieving 2016-12-14 00:00:00...done\n",
      "Retrieving 2016-12-15 00:00:00...done\n",
      "Retrieving 2016-12-16 00:00:00...done\n",
      "Retrieving 2016-12-17 00:00:00...done\n",
      "Retrieving 2016-12-18 00:00:00...done\n",
      "Retrieving 2016-12-19 00:00:00...done\n",
      "Retrieving 2016-12-20 00:00:00...done\n",
      "Retrieving 2016-12-21 00:00:00...done\n",
      "Retrieving 2016-12-22 00:00:00...done\n",
      "Retrieving 2016-12-23 00:00:00...done\n",
      "Retrieving 2016-12-24 00:00:00...done\n",
      "Retrieving 2016-12-25 00:00:00...done\n",
      "Retrieving 2016-12-26 00:00:00...done\n",
      "Retrieving 2016-12-27 00:00:00...done\n",
      "Retrieving 2016-12-28 00:00:00...done\n",
      "Retrieving 2016-12-29 00:00:00...done\n",
      "Retrieving 2016-12-30 00:00:00...done\n",
      "Retrieving 2016-12-31 00:00:00...done\n",
      "Retrieving 2017-01-01 00:00:00...done\n",
      "Retrieving 2017-01-02 00:00:00...done\n",
      "Retrieving 2017-01-03 00:00:00...done\n",
      "Retrieving 2017-01-04 00:00:00...done\n",
      "Retrieving 2017-01-05 00:00:00...done\n",
      "Retrieving 2017-01-06 00:00:00...done\n",
      "Retrieving 2017-01-07 00:00:00...done\n",
      "Retrieving 2017-01-08 00:00:00...done\n",
      "Retrieving 2017-01-09 00:00:00...done\n"
     ]
    }
   ],
   "source": [
    "# Now we'll load market history for the date range.  It is strongly suggested that you download data\n",
    "# to local storage first.  The code below assumes you've done that.  If you'd prefer to skip the \n",
    "# download and use online sources, you can remove the \"local_storage\" parameter from below.\n",
    "#\n",
    "# We're using a date range for the last 90 days up to the day before our target date.  This reflects\n",
    "# the fact that market history would not be available for the current day and therefore shouldn't\n",
    "# be included in our liquidity filter.\n",
    "#\n",
    "from evekit.marketdata import MarketHistory\n",
    "date_range = pd.date_range(compute_date - datetime.timedelta(days=90), compute_date - datetime.timedelta(days=1))\n",
    "market_history = MarketHistory.get_data_frame(dates=date_range, types=source_types.keys(), regions=[region_id], \n",
    "                                              config=dict(local_storage=\".\", tree=True, skip_missing=True, verbose=True))"
   ]
  },
  {
   "cell_type": "code",
   "execution_count": 5,
   "metadata": {
    "collapsed": true
   },
   "outputs": [],
   "source": [
    "# Since our first task will be to filter for liquidity, we need our liquidity filter\n",
    "# framework from the first chapter.  Here it is again.  Consult the documentation\n",
    "# in the previous example as needed.\n",
    "#\n",
    "def liquid_types(history, liquidp, verbose=False):\n",
    "    # Result is map from region to set of liquid types for that region\n",
    "    # Iterate through all types contained in the history object\n",
    "    liquid_map = {}\n",
    "    count = 0\n",
    "    # Iterate through all regions and types\n",
    "    for next_region in history.region_id.unique():\n",
    "        liquid_set = set()\n",
    "        by_region = history[history.region_id == next_region]\n",
    "        for next_type in by_region.type_id.unique():\n",
    "            by_type = by_region[by_region.type_id == next_type]\n",
    "            if liquidp(next_region, next_type, by_type):\n",
    "                liquid_set.add(next_type)\n",
    "            count += 1\n",
    "            if count % 1000 == 0 and verbose:\n",
    "                print(\"Tested %d (region, type) pairs\" % count)\n",
    "        liquid_map[next_region] = liquid_set\n",
    "    return liquid_map"
   ]
  },
  {
   "cell_type": "code",
   "execution_count": 6,
   "metadata": {
    "collapsed": true
   },
   "outputs": [],
   "source": [
    "# Our liquidity filter for this example will be defined as follows:\n",
    "#\n",
    "# 1. Market history must exist for a minimum number of days\n",
    "# 2. Average ISK volume must exceed a threshold\n",
    "# 3. Volume must exceed a certain threshold\n",
    "#\n",
    "# The following functor will generate the required filter.\n",
    "#\n",
    "def liquidity_filter(min_days, min_isk_volume, min_volume):\n",
    "    def liquidp(region_id, type_id, history):\n",
    "        return len(history) >= min_days and \\\n",
    "               len(history[(history.avg_price * history.volume) < min_isk_volume]) == 0 and \\\n",
    "               len(history[history.volume < min_volume]) == 0\n",
    "    return liquidp"
   ]
  },
  {
   "cell_type": "code",
   "execution_count": 7,
   "metadata": {
    "collapsed": true
   },
   "outputs": [],
   "source": [
    "# We'll use the following values to parameterize the liquidity filter\n",
    "#\n",
    "# Minimum number of units exchanged per day\n",
    "min_volume = 1000\n",
    "# Minimum daily trade volume (avg. price * volume) per day\n",
    "min_volume_isk = 100000000\n",
    "# Each type we consider must have at least this many days worth of history\n",
    "min_values = len(market_history.index.unique()) - 2\n",
    "#\n",
    "# These liquidity settings make it likely that enough interesting volume is \n",
    "# traded in a given day for profitability (assuming enough orders are also\n",
    "# sells into the best bid)."
   ]
  },
  {
   "cell_type": "code",
   "execution_count": 8,
   "metadata": {
    "collapsed": false
   },
   "outputs": [
    {
     "data": {
      "text/plain": [
       "130"
      ]
     },
     "execution_count": 8,
     "metadata": {},
     "output_type": "execute_result"
    }
   ],
   "source": [
    "# Now we can go ahead and compute the liquid types among the set of scrapmetal\n",
    "# processing eligible types.  As you may recall, the result will be a map\n",
    "# from region to the set of liquid types in that region.\n",
    "#\n",
    "liquid_type_map = liquid_types(market_history, liquidity_filter(min_values, min_volume_isk, min_volume))\n",
    "len(liquid_type_map[region_id])"
   ]
  },
  {
   "cell_type": "code",
   "execution_count": 9,
   "metadata": {
    "collapsed": false
   },
   "outputs": [
    {
     "name": "stdout",
     "output_type": "stream",
     "text": [
      "Retrieving 2017-01-10 00:00:00...done\n"
     ]
    }
   ],
   "source": [
    "# Our next step is to infer trades for our liquid types from a day of market data.  We're doing\n",
    "# this to determine how many trades are sells into the best bid.  Note that we only need to \n",
    "# load market data for the liquid types and the refined materials they product, so this should \n",
    "# go much faster.\n",
    "#\n",
    "from evekit.marketdata import OrderBook\n",
    "required_types = set(liquid_type_map[region_id])\n",
    "for next_type in liquid_type_map[region_id]:\n",
    "    required_types = required_types.union(source_types[next_type]['material_map'].keys())\n",
    "order_book = OrderBook.get_data_frame(dates=[compute_date], types=required_types, regions=[region_id], \n",
    "                                      config=dict(local_storage=\".\", tree=True, skip_missing=True, verbose=True))"
   ]
  },
  {
   "cell_type": "code",
   "execution_count": 10,
   "metadata": {
    "collapsed": true
   },
   "outputs": [],
   "source": [
    "# We'll use a slightly modified version of our trade inferrer from Example 4.\n",
    "# This version uses market history to compute a per-order volume threshold \n",
    "# based on a rolling average of recent history over a five day window.  We use\n",
    "# this threshold to decide whether removed orders represent fills (orders\n",
    "# with sizes below the threshold) or cancels (orders with sizes above the\n",
    "# threshold).\n",
    "#\n",
    "def infer_trades(type_set, order_book, market_history):\n",
    "    inferred_trades = []\n",
    "    # Compute per-type volume threshold\n",
    "    volume_threshold_map = {}\n",
    "    for next_type in type_set:\n",
    "        by_type = market_history[market_history.type_id == next_type]\n",
    "        thresh_series = (by_type.volume / by_type.order_count).rolling(window=5, center=False).mean()\n",
    "        volume_threshold_map[next_type] = thresh_series[-1]    \n",
    "    # We need to iterate over consecutive order book snapshots looking for changes between snapshots.\n",
    "    # To do this, we'll group by snapshot time as we did in Example 2, then iterate over \n",
    "    # consecutive pairs of groups.\n",
    "    snap_list = list(order_book.groupby(order_book.index))\n",
    "    snap_pairs = zip(snap_list, snap_list[1:])\n",
    "    for current, next in snap_pairs:\n",
    "        current_snap = current[1]\n",
    "        next_snap = next[1]\n",
    "        # First, look for orders present in both snapshots but have their volume changed\n",
    "        merged = pd.merge(current_snap, next_snap, on=\"order_id\")\n",
    "        changed_orders = merged[merged.volume_x != merged.volume_y]\n",
    "        for next_change in changed_orders.index:\n",
    "            # Create the trade object\n",
    "            next_line = changed_orders.ix[next_change]\n",
    "            if next_line.type_id_x not in type_set:\n",
    "                continue\n",
    "            amount = next_line.volume_x - next_line.volume_y \n",
    "            location = next_line.location_id_x\n",
    "            if next_line.buy_x and next_line.order_range_x != 'station':\n",
    "                # For buy orders, we can't be certain where the trade occurred unless the buy is limited to a station\n",
    "                location = None\n",
    "            inferred_trades.append({\n",
    "                'timestamp': next[0],\n",
    "                'type_id': next_line.type_id_x,\n",
    "                'actual': True,\n",
    "                'buy': next_line.buy_x, \n",
    "                'order_id': next_line.order_id, \n",
    "                'price': next_line.price_y,\n",
    "                'volume': amount, \n",
    "                'location': str(location)})                \n",
    "        # Second, look for orders which are removed between snapshots.\n",
    "        removed_orders = set(current_snap.order_id).difference(set(next_snap.order_id))\n",
    "        for order_id in removed_orders:\n",
    "            next_line = current_snap[current_snap.order_id == order_id].ix[current[0]]\n",
    "            if next_line.type_id not in type_set:\n",
    "                continue\n",
    "            # If the volume of a removed order does not exceed the threshold, then keep it.\n",
    "            volume_threshold = volume_threshold_map[next_line.type_id]\n",
    "            if next_line.volume <= volume_threshold:\n",
    "                location = next_line.location_id\n",
    "                if next_line.buy and next_line.order_range != 'station':\n",
    "                    # See above\n",
    "                    location = None\n",
    "                inferred_trades.append({\n",
    "                    'timestamp': next[0],\n",
    "                    'type_id': next_line.type_id,\n",
    "                    'actual': False,\n",
    "                    'buy': next_line.buy, \n",
    "                    'order_id': order_id, \n",
    "                    'price': next_line.buy,\n",
    "                    'volume': next_line.volume, \n",
    "                    'location': str(location)})                \n",
    "    # Return result\n",
    "    return DataFrame(inferred_trades, index=[x['timestamp'] for x in inferred_trades])"
   ]
  },
  {
   "cell_type": "code",
   "execution_count": 11,
   "metadata": {
    "collapsed": false
   },
   "outputs": [],
   "source": [
    "# Now compute the set of inferred trades\n",
    "inferred = infer_trades(liquid_type_map[region_id], order_book, market_history)"
   ]
  },
  {
   "cell_type": "code",
   "execution_count": 12,
   "metadata": {
    "collapsed": false
   },
   "outputs": [
    {
     "data": {
      "text/plain": [
       "129"
      ]
     },
     "execution_count": 12,
     "metadata": {},
     "output_type": "execute_result"
    }
   ],
   "source": [
    "# Now that we have our set of inferred trades, we can apply our last filter which is\n",
    "# to only retain types in which some minimum percentage of trades are sells at our\n",
    "# target station.  These will be sells into limit buy orders which is what we want\n",
    "# to capture\n",
    "#\n",
    "# We set our sell threshold to 30% of all trades at the target station\n",
    "sell_threshold = 0.3\n",
    "#\n",
    "promising_types = set()\n",
    "for next_type in set(inferred.type_id):\n",
    "    by_type = inferred[inferred.type_id == next_type]\n",
    "    by_location = by_type[by_type.location == str(station_id)]\n",
    "    all_trades = len(by_location)\n",
    "    sell_trades = len(by_location[by_location.buy == False])\n",
    "    if all_trades > 0 and sell_trades / all_trades >= sell_threshold:\n",
    "        promising_types.add(next_type)\n",
    "#\n",
    "len(promising_types)"
   ]
  },
  {
   "cell_type": "code",
   "execution_count": 13,
   "metadata": {
    "collapsed": false
   },
   "outputs": [],
   "source": [
    "# Finally, we can search for the set of types where the best bid at our target\n",
    "# station is at or below the current target price we compute based on our \n",
    "# desired return.  Lowering desired return will admit more types to this \n",
    "# strategy.\n",
    "#\n",
    "desired_return = 0.05\n",
    "#\n",
    "# Since we're placing limit orders, we also need to know the broker fee percentage.\n",
    "# The value below is typical for an NPC station at max skills.\n",
    "#\n",
    "broker_fee = 0.025"
   ]
  },
  {
   "cell_type": "code",
   "execution_count": 14,
   "metadata": {
    "collapsed": false
   },
   "outputs": [],
   "source": [
    "# To check whether target price is where we need it to be, we'll use a modified \n",
    "# version of our opportunity finder which computes the target price in the \n",
    "# current snapshot, then returns True if the current top of book for the type\n",
    "# is at or below the target.  First, include some utility functions we need from\n",
    "# previous examples.\n",
    "\n",
    "# Function to extract buy orders for the given type from the given order book snapshot.\n",
    "#\n",
    "def extract_buy_orders(snapshot, type_id):\n",
    "    by_type = snapshot[snapshot.type_id == type_id]\n",
    "    by_side = by_type[by_type.buy == True]\n",
    "    return [next_order[1] for next_order in by_side.iterrows()]\n",
    "\n",
    "# Return best bid that can be sold to for the given region, location and\n",
    "# buy order list.  Returns the best bid price, or None.\n",
    "#\n",
    "from evekit.marketdata import TradingUtil\n",
    "def get_best_bid(sell_region_id, sell_location_id, buy_order_list):\n",
    "    # Set to true if you need to match against orders placed in Citadels\n",
    "    config = dict(use_citadel=False)\n",
    "    potential = []\n",
    "    for next_order in buy_order_list:\n",
    "        try:\n",
    "            if TradingUtil.check_range(sell_region_id, sell_location_id, next_order['location_id'], \n",
    "                                       next_order['order_range'], config):\n",
    "                # Found an order we can sell to, return the price\n",
    "                return next_order['price']\n",
    "        except:\n",
    "            # We'll get an exception if TradingUtil can't find the location of a player-owned\n",
    "            # station.  We'll ignore those for now.  Change \"use_citadeL\" to True above\n",
    "            # if you'd like to attempt to resolve the location of these stations from a \n",
    "            # third party source.\n",
    "            pass\n",
    "    # We never found an order we could sell into\n",
    "    return None"
   ]
  },
  {
   "cell_type": "code",
   "execution_count": 15,
   "metadata": {
    "collapsed": true
   },
   "outputs": [],
   "source": [
    "# Check whether the given type has a best bid at the given station at or below the target\n",
    "# price as computed from the desired return.  Returns the following structure:\n",
    "#\n",
    "# {\n",
    "#   target_price: computed target price, or None if insufficient data\n",
    "#   best_bid: best bid if available, or None  if insufficient data\n",
    "# }\n",
    "#\n",
    "def check_valid_price(snapshot, type_id, region_id, station_id, type_map, tax_rate, efficiency, \n",
    "                      station_tax, broker_fee, target_return):\n",
    "    # Extract minimum reprocessing volume\n",
    "    by_type = snapshot[snapshot.type_id == type_id]\n",
    "    required_volume = type_map[type_id]['portionSize']\n",
    "    #\n",
    "    # Create refined materials buy order lists.\n",
    "    buy_order_map = {}\n",
    "    for next_mat in type_map[type_id]['material_map'].values():\n",
    "        mat_type_id = next_mat['materialTypeID']\n",
    "        buy_order_map[mat_type_id] = extract_buy_orders(snapshot, mat_type_id)\n",
    "    #\n",
    "    # Compute target price as described in the text\n",
    "    denom = required_volume * (1 + broker_fee) * (1 + target_return)\n",
    "    numer = 0\n",
    "    for next_mat_id in buy_order_map.keys():\n",
    "        sell_volume = int(type_map[type_id]['material_map'][next_mat_id]['quantity'] * efficiency)\n",
    "        best_bid = get_best_bid(region_id, station_id, buy_order_map[next_mat_id])\n",
    "        if best_bid is None:\n",
    "            # Can't compute target price, exit\n",
    "            return dict(target_price=None, best_bid=None)\n",
    "        numer += sell_volume * ((1 - tax_rate) * best_bid - station_tax * (1 + target_return) * best_bid)\n",
    "    target_price = numer / denom;\n",
    "    #\n",
    "    # Return target and best bid prices\n",
    "    buy_order_list = extract_buy_orders(snapshot, type_id)\n",
    "    best_bid = get_best_bid(region_id, station_id, buy_order_list)\n",
    "    return dict(target_price=target_price, best_bid=best_bid)"
   ]
  },
  {
   "cell_type": "code",
   "execution_count": 16,
   "metadata": {
    "collapsed": true
   },
   "outputs": [],
   "source": [
    "# This function is a modified version of our opportunity finder which instead records\n",
    "# which snapshots have an acceptable best bid price for a set of types based on a\n",
    "# target return.  The result is a DataFrame indexed by snapshot time with columns\n",
    "# recording type, best bid, and target price.  We only retain entries for which best \n",
    "# bid is below the target price.\n",
    "#\n",
    "def find_acceptable_bids(order_book, target_types, type_map, station_id, region_id, efficiency, sales_tax, \n",
    "                         station_tax, broker_fee, target_return, verbose=False):\n",
    "    total_snapshots = len(order_book.groupby(order_book.index))\n",
    "    if verbose:\n",
    "        print(\"Checking %d snapshots for bids\" % total_snapshots, flush=True)\n",
    "    bid_entries = []\n",
    "    count = 0\n",
    "    for snapshot_group in order_book.groupby(order_book.index):\n",
    "        #\n",
    "        # Each group is a pair (snapshot_time, snapshot_dataframe)\n",
    "        snapshot_time = snapshot_group[0]\n",
    "        snapshot = snapshot_group[1]\n",
    "        if verbose:\n",
    "            print(\"X\", end='', flush=True)\n",
    "            count += 1\n",
    "            if count % 72 == 0:\n",
    "                print()\n",
    "        #\n",
    "        # Iterate through each source type looking for bids we could place\n",
    "        for next_type in target_types:\n",
    "            source_type = type_map[next_type]\n",
    "            check = check_valid_price(snapshot, next_type, region_id, station_id, type_map, sales_tax,\n",
    "                                      efficiency, station_tax, broker_fee, target_return)\n",
    "            if check['target_price'] != None and check['best_bid'] != None and check['best_bid'] <= check['target_price']:\n",
    "                bid_entries.append(dict(time=snapshot_time, type_id=next_type, \n",
    "                                        target=check['target_price'], bid=check['best_bid']))\n",
    "    if verbose:\n",
    "        print(flush=True)\n",
    "    return pd.DataFrame(bid_entries, index=[x['time'] for x in bid_entries])"
   ]
  },
  {
   "cell_type": "code",
   "execution_count": 17,
   "metadata": {
    "collapsed": true
   },
   "outputs": [],
   "source": [
    "# As with the full opportunity finder, we need to set efficiency and tax rates.\n",
    "#\n",
    "# This is the efficiency at a typical NPC station with max skills for scrapmetal reprocessing\n",
    "efficiency = 0.5 * 1.1\n",
    "\n",
    "# This is the sales tax at a typical NPC station with max skills\n",
    "tax_rate = 0.01\n",
    "\n",
    "# Station tax can be no greater than 0.05.  This value is zero if standings are 6.67 or better.\n",
    "# As noted in the text, we're substituting order price for adjusted price.  From empirical observation,\n",
    "# setting station_tax to 0.04 roughly approximates a station_tax of 0.05 with true adjusted prices.\n",
    "# So we'll set station tax to 0.04 here.\n",
    "station_tax = 0.04"
   ]
  },
  {
   "cell_type": "code",
   "execution_count": 18,
   "metadata": {
    "collapsed": false
   },
   "outputs": [
    {
     "name": "stdout",
     "output_type": "stream",
     "text": [
      "Checking 288 snapshots for bids\n",
      "XXXXXXXXXXXXXXXXXXXXXXXXXXXXXXXXXXXXXXXXXXXXXXXXXXXXXXXXXXXXXXXXXXXXXXXX\n",
      "XXXXXXXXXXXXXXXXXXXXXXXXXXXXXXXXXXXXXXXXXXXXXXXXXXXXXXXXXXXXXXXXXXXXXXXX\n",
      "XXXXXXXXXXXXXXXXXXXXXXXXXXXXXXXXXXXXXXXXXXXXXXXXXXXXXXXXXXXXXXXXXXXXXXXX\n",
      "XXXXXXXXXXXXXXXXXXXXXXXXXXXXXXXXXXXXXXXXXXXXXXXXXXXXXXXXXXXXXXXXXXXXXXXX\n",
      "\n"
     ]
    }
   ],
   "source": [
    "# Now gather acceptable bid data.  This won't take as long to run as the more typical scrapmetal\n",
    "# back test because we're checking far fewer types.  On our equipment, this cell takes about\n",
    "# 30 minutes to complete.\n",
    "#\n",
    "acceptable_bids = find_acceptable_bids(order_book, promising_types, source_types, station_id, region_id, efficiency, \n",
    "                                       tax_rate, station_tax, broker_fee, desired_return, verbose=True)"
   ]
  },
  {
   "cell_type": "code",
   "execution_count": 19,
   "metadata": {
    "collapsed": false
   },
   "outputs": [
    {
     "data": {
      "text/html": [
       "<div>\n",
       "<table border=\"1\" class=\"dataframe\">\n",
       "  <thead>\n",
       "    <tr style=\"text-align: right;\">\n",
       "      <th></th>\n",
       "      <th>bid</th>\n",
       "      <th>target</th>\n",
       "      <th>time</th>\n",
       "      <th>type_id</th>\n",
       "    </tr>\n",
       "  </thead>\n",
       "  <tbody>\n",
       "    <tr>\n",
       "      <th>2017-01-10 05:55:00</th>\n",
       "      <td>108021.47</td>\n",
       "      <td>108641.478244</td>\n",
       "      <td>2017-01-10 05:55:00</td>\n",
       "      <td>5955</td>\n",
       "    </tr>\n",
       "    <tr>\n",
       "      <th>2017-01-10 06:00:00</th>\n",
       "      <td>108021.47</td>\n",
       "      <td>108641.478244</td>\n",
       "      <td>2017-01-10 06:00:00</td>\n",
       "      <td>5955</td>\n",
       "    </tr>\n",
       "    <tr>\n",
       "      <th>2017-01-10 07:40:00</th>\n",
       "      <td>430199.74</td>\n",
       "      <td>430941.456836</td>\n",
       "      <td>2017-01-10 07:40:00</td>\n",
       "      <td>5945</td>\n",
       "    </tr>\n",
       "    <tr>\n",
       "      <th>2017-01-10 07:40:00</th>\n",
       "      <td>108021.47</td>\n",
       "      <td>109760.078606</td>\n",
       "      <td>2017-01-10 07:40:00</td>\n",
       "      <td>5955</td>\n",
       "    </tr>\n",
       "    <tr>\n",
       "      <th>2017-01-10 07:40:00</th>\n",
       "      <td>109069.11</td>\n",
       "      <td>109760.078606</td>\n",
       "      <td>2017-01-10 07:40:00</td>\n",
       "      <td>35657</td>\n",
       "    </tr>\n",
       "    <tr>\n",
       "      <th>2017-01-10 07:45:00</th>\n",
       "      <td>430199.74</td>\n",
       "      <td>430941.456836</td>\n",
       "      <td>2017-01-10 07:45:00</td>\n",
       "      <td>5945</td>\n",
       "    </tr>\n",
       "    <tr>\n",
       "      <th>2017-01-10 07:45:00</th>\n",
       "      <td>108021.47</td>\n",
       "      <td>109760.078606</td>\n",
       "      <td>2017-01-10 07:45:00</td>\n",
       "      <td>5955</td>\n",
       "    </tr>\n",
       "    <tr>\n",
       "      <th>2017-01-10 07:45:00</th>\n",
       "      <td>109069.11</td>\n",
       "      <td>109760.078606</td>\n",
       "      <td>2017-01-10 07:45:00</td>\n",
       "      <td>35657</td>\n",
       "    </tr>\n",
       "    <tr>\n",
       "      <th>2017-01-10 10:55:00</th>\n",
       "      <td>108148.00</td>\n",
       "      <td>109810.541714</td>\n",
       "      <td>2017-01-10 10:55:00</td>\n",
       "      <td>5955</td>\n",
       "    </tr>\n",
       "    <tr>\n",
       "      <th>2017-01-10 10:55:00</th>\n",
       "      <td>109069.11</td>\n",
       "      <td>109810.541714</td>\n",
       "      <td>2017-01-10 10:55:00</td>\n",
       "      <td>35657</td>\n",
       "    </tr>\n",
       "    <tr>\n",
       "      <th>2017-01-10 11:00:00</th>\n",
       "      <td>108148.00</td>\n",
       "      <td>108335.105784</td>\n",
       "      <td>2017-01-10 11:00:00</td>\n",
       "      <td>5955</td>\n",
       "    </tr>\n",
       "    <tr>\n",
       "      <th>2017-01-10 11:05:00</th>\n",
       "      <td>108148.00</td>\n",
       "      <td>108335.105784</td>\n",
       "      <td>2017-01-10 11:05:00</td>\n",
       "      <td>5955</td>\n",
       "    </tr>\n",
       "    <tr>\n",
       "      <th>2017-01-10 11:10:00</th>\n",
       "      <td>108148.00</td>\n",
       "      <td>108335.105784</td>\n",
       "      <td>2017-01-10 11:10:00</td>\n",
       "      <td>5955</td>\n",
       "    </tr>\n",
       "    <tr>\n",
       "      <th>2017-01-10 11:15:00</th>\n",
       "      <td>108148.00</td>\n",
       "      <td>108335.105784</td>\n",
       "      <td>2017-01-10 11:15:00</td>\n",
       "      <td>5955</td>\n",
       "    </tr>\n",
       "    <tr>\n",
       "      <th>2017-01-10 11:20:00</th>\n",
       "      <td>108148.00</td>\n",
       "      <td>108335.105784</td>\n",
       "      <td>2017-01-10 11:20:00</td>\n",
       "      <td>5955</td>\n",
       "    </tr>\n",
       "    <tr>\n",
       "      <th>2017-01-10 14:05:00</th>\n",
       "      <td>108148.00</td>\n",
       "      <td>108330.437352</td>\n",
       "      <td>2017-01-10 14:05:00</td>\n",
       "      <td>5955</td>\n",
       "    </tr>\n",
       "    <tr>\n",
       "      <th>2017-01-10 14:10:00</th>\n",
       "      <td>108148.00</td>\n",
       "      <td>108340.655052</td>\n",
       "      <td>2017-01-10 14:10:00</td>\n",
       "      <td>5955</td>\n",
       "    </tr>\n",
       "    <tr>\n",
       "      <th>2017-01-10 14:15:00</th>\n",
       "      <td>108148.00</td>\n",
       "      <td>108321.241422</td>\n",
       "      <td>2017-01-10 14:15:00</td>\n",
       "      <td>5955</td>\n",
       "    </tr>\n",
       "    <tr>\n",
       "      <th>2017-01-10 14:20:00</th>\n",
       "      <td>108148.00</td>\n",
       "      <td>108321.241422</td>\n",
       "      <td>2017-01-10 14:20:00</td>\n",
       "      <td>5955</td>\n",
       "    </tr>\n",
       "    <tr>\n",
       "      <th>2017-01-10 14:25:00</th>\n",
       "      <td>108148.00</td>\n",
       "      <td>108321.769923</td>\n",
       "      <td>2017-01-10 14:25:00</td>\n",
       "      <td>5955</td>\n",
       "    </tr>\n",
       "    <tr>\n",
       "      <th>2017-01-10 14:30:00</th>\n",
       "      <td>108148.00</td>\n",
       "      <td>108407.404822</td>\n",
       "      <td>2017-01-10 14:30:00</td>\n",
       "      <td>5955</td>\n",
       "    </tr>\n",
       "    <tr>\n",
       "      <th>2017-01-10 14:35:00</th>\n",
       "      <td>108148.00</td>\n",
       "      <td>108407.404822</td>\n",
       "      <td>2017-01-10 14:35:00</td>\n",
       "      <td>5955</td>\n",
       "    </tr>\n",
       "    <tr>\n",
       "      <th>2017-01-10 14:40:00</th>\n",
       "      <td>108148.00</td>\n",
       "      <td>108610.789909</td>\n",
       "      <td>2017-01-10 14:40:00</td>\n",
       "      <td>5955</td>\n",
       "    </tr>\n",
       "    <tr>\n",
       "      <th>2017-01-10 14:45:00</th>\n",
       "      <td>108148.00</td>\n",
       "      <td>108610.789909</td>\n",
       "      <td>2017-01-10 14:45:00</td>\n",
       "      <td>5955</td>\n",
       "    </tr>\n",
       "    <tr>\n",
       "      <th>2017-01-10 14:50:00</th>\n",
       "      <td>108148.00</td>\n",
       "      <td>108649.899038</td>\n",
       "      <td>2017-01-10 14:50:00</td>\n",
       "      <td>5955</td>\n",
       "    </tr>\n",
       "    <tr>\n",
       "      <th>2017-01-10 14:55:00</th>\n",
       "      <td>108148.00</td>\n",
       "      <td>108648.436850</td>\n",
       "      <td>2017-01-10 14:55:00</td>\n",
       "      <td>5955</td>\n",
       "    </tr>\n",
       "    <tr>\n",
       "      <th>2017-01-10 15:00:00</th>\n",
       "      <td>108148.00</td>\n",
       "      <td>108562.202983</td>\n",
       "      <td>2017-01-10 15:00:00</td>\n",
       "      <td>5955</td>\n",
       "    </tr>\n",
       "    <tr>\n",
       "      <th>2017-01-10 15:05:00</th>\n",
       "      <td>108148.00</td>\n",
       "      <td>108706.589659</td>\n",
       "      <td>2017-01-10 15:05:00</td>\n",
       "      <td>5955</td>\n",
       "    </tr>\n",
       "    <tr>\n",
       "      <th>2017-01-10 15:10:00</th>\n",
       "      <td>108148.00</td>\n",
       "      <td>108562.202983</td>\n",
       "      <td>2017-01-10 15:10:00</td>\n",
       "      <td>5955</td>\n",
       "    </tr>\n",
       "    <tr>\n",
       "      <th>2017-01-10 15:15:00</th>\n",
       "      <td>108148.00</td>\n",
       "      <td>108562.202983</td>\n",
       "      <td>2017-01-10 15:15:00</td>\n",
       "      <td>5955</td>\n",
       "    </tr>\n",
       "    <tr>\n",
       "      <th>2017-01-10 15:20:00</th>\n",
       "      <td>108148.00</td>\n",
       "      <td>108561.533547</td>\n",
       "      <td>2017-01-10 15:20:00</td>\n",
       "      <td>5955</td>\n",
       "    </tr>\n",
       "    <tr>\n",
       "      <th>2017-01-10 15:25:00</th>\n",
       "      <td>108148.00</td>\n",
       "      <td>108561.533547</td>\n",
       "      <td>2017-01-10 15:25:00</td>\n",
       "      <td>5955</td>\n",
       "    </tr>\n",
       "    <tr>\n",
       "      <th>2017-01-10 15:30:00</th>\n",
       "      <td>108148.00</td>\n",
       "      <td>108745.522620</td>\n",
       "      <td>2017-01-10 15:30:00</td>\n",
       "      <td>5955</td>\n",
       "    </tr>\n",
       "    <tr>\n",
       "      <th>2017-01-10 15:35:00</th>\n",
       "      <td>108148.00</td>\n",
       "      <td>108658.830718</td>\n",
       "      <td>2017-01-10 15:35:00</td>\n",
       "      <td>5955</td>\n",
       "    </tr>\n",
       "    <tr>\n",
       "      <th>2017-01-10 15:40:00</th>\n",
       "      <td>108148.00</td>\n",
       "      <td>108658.830718</td>\n",
       "      <td>2017-01-10 15:40:00</td>\n",
       "      <td>5955</td>\n",
       "    </tr>\n",
       "    <tr>\n",
       "      <th>2017-01-10 15:45:00</th>\n",
       "      <td>108148.00</td>\n",
       "      <td>108658.830718</td>\n",
       "      <td>2017-01-10 15:45:00</td>\n",
       "      <td>5955</td>\n",
       "    </tr>\n",
       "    <tr>\n",
       "      <th>2017-01-10 15:50:00</th>\n",
       "      <td>108148.00</td>\n",
       "      <td>108697.728446</td>\n",
       "      <td>2017-01-10 15:50:00</td>\n",
       "      <td>5955</td>\n",
       "    </tr>\n",
       "    <tr>\n",
       "      <th>2017-01-10 15:55:00</th>\n",
       "      <td>108148.00</td>\n",
       "      <td>108697.728446</td>\n",
       "      <td>2017-01-10 15:55:00</td>\n",
       "      <td>5955</td>\n",
       "    </tr>\n",
       "    <tr>\n",
       "      <th>2017-01-10 16:00:00</th>\n",
       "      <td>108148.00</td>\n",
       "      <td>108600.431275</td>\n",
       "      <td>2017-01-10 16:00:00</td>\n",
       "      <td>5955</td>\n",
       "    </tr>\n",
       "    <tr>\n",
       "      <th>2017-01-10 17:10:00</th>\n",
       "      <td>109069.11</td>\n",
       "      <td>109483.531261</td>\n",
       "      <td>2017-01-10 17:10:00</td>\n",
       "      <td>35657</td>\n",
       "    </tr>\n",
       "    <tr>\n",
       "      <th>2017-01-10 17:15:00</th>\n",
       "      <td>109069.11</td>\n",
       "      <td>109500.866118</td>\n",
       "      <td>2017-01-10 17:15:00</td>\n",
       "      <td>35657</td>\n",
       "    </tr>\n",
       "    <tr>\n",
       "      <th>2017-01-10 17:40:00</th>\n",
       "      <td>110159.00</td>\n",
       "      <td>110455.639749</td>\n",
       "      <td>2017-01-10 17:40:00</td>\n",
       "      <td>5955</td>\n",
       "    </tr>\n",
       "    <tr>\n",
       "      <th>2017-01-10 17:40:00</th>\n",
       "      <td>109069.11</td>\n",
       "      <td>110455.639749</td>\n",
       "      <td>2017-01-10 17:40:00</td>\n",
       "      <td>35657</td>\n",
       "    </tr>\n",
       "    <tr>\n",
       "      <th>2017-01-10 18:45:00</th>\n",
       "      <td>109069.11</td>\n",
       "      <td>109291.297561</td>\n",
       "      <td>2017-01-10 18:45:00</td>\n",
       "      <td>35657</td>\n",
       "    </tr>\n",
       "    <tr>\n",
       "      <th>2017-01-10 18:55:00</th>\n",
       "      <td>109070.21</td>\n",
       "      <td>109480.298592</td>\n",
       "      <td>2017-01-10 18:55:00</td>\n",
       "      <td>35657</td>\n",
       "    </tr>\n",
       "    <tr>\n",
       "      <th>2017-01-10 19:20:00</th>\n",
       "      <td>433143.00</td>\n",
       "      <td>439636.023972</td>\n",
       "      <td>2017-01-10 19:20:00</td>\n",
       "      <td>5945</td>\n",
       "    </tr>\n",
       "    <tr>\n",
       "      <th>2017-01-10 19:20:00</th>\n",
       "      <td>110183.03</td>\n",
       "      <td>112524.230801</td>\n",
       "      <td>2017-01-10 19:20:00</td>\n",
       "      <td>5955</td>\n",
       "    </tr>\n",
       "    <tr>\n",
       "      <th>2017-01-10 19:20:00</th>\n",
       "      <td>109070.21</td>\n",
       "      <td>112524.230801</td>\n",
       "      <td>2017-01-10 19:20:00</td>\n",
       "      <td>35657</td>\n",
       "    </tr>\n",
       "    <tr>\n",
       "      <th>2017-01-10 19:20:00</th>\n",
       "      <td>433090.00</td>\n",
       "      <td>439636.023972</td>\n",
       "      <td>2017-01-10 19:20:00</td>\n",
       "      <td>35661</td>\n",
       "    </tr>\n",
       "    <tr>\n",
       "      <th>2017-01-10 19:20:00</th>\n",
       "      <td>433188.00</td>\n",
       "      <td>439636.023972</td>\n",
       "      <td>2017-01-10 19:20:00</td>\n",
       "      <td>35662</td>\n",
       "    </tr>\n",
       "    <tr>\n",
       "      <th>2017-01-10 21:20:00</th>\n",
       "      <td>109070.21</td>\n",
       "      <td>112952.052962</td>\n",
       "      <td>2017-01-10 21:20:00</td>\n",
       "      <td>35657</td>\n",
       "    </tr>\n",
       "    <tr>\n",
       "      <th>2017-01-10 21:25:00</th>\n",
       "      <td>109070.21</td>\n",
       "      <td>112952.052962</td>\n",
       "      <td>2017-01-10 21:25:00</td>\n",
       "      <td>35657</td>\n",
       "    </tr>\n",
       "  </tbody>\n",
       "</table>\n",
       "</div>"
      ],
      "text/plain": [
       "                           bid         target                time  type_id\n",
       "2017-01-10 05:55:00  108021.47  108641.478244 2017-01-10 05:55:00     5955\n",
       "2017-01-10 06:00:00  108021.47  108641.478244 2017-01-10 06:00:00     5955\n",
       "2017-01-10 07:40:00  430199.74  430941.456836 2017-01-10 07:40:00     5945\n",
       "2017-01-10 07:40:00  108021.47  109760.078606 2017-01-10 07:40:00     5955\n",
       "2017-01-10 07:40:00  109069.11  109760.078606 2017-01-10 07:40:00    35657\n",
       "2017-01-10 07:45:00  430199.74  430941.456836 2017-01-10 07:45:00     5945\n",
       "2017-01-10 07:45:00  108021.47  109760.078606 2017-01-10 07:45:00     5955\n",
       "2017-01-10 07:45:00  109069.11  109760.078606 2017-01-10 07:45:00    35657\n",
       "2017-01-10 10:55:00  108148.00  109810.541714 2017-01-10 10:55:00     5955\n",
       "2017-01-10 10:55:00  109069.11  109810.541714 2017-01-10 10:55:00    35657\n",
       "2017-01-10 11:00:00  108148.00  108335.105784 2017-01-10 11:00:00     5955\n",
       "2017-01-10 11:05:00  108148.00  108335.105784 2017-01-10 11:05:00     5955\n",
       "2017-01-10 11:10:00  108148.00  108335.105784 2017-01-10 11:10:00     5955\n",
       "2017-01-10 11:15:00  108148.00  108335.105784 2017-01-10 11:15:00     5955\n",
       "2017-01-10 11:20:00  108148.00  108335.105784 2017-01-10 11:20:00     5955\n",
       "2017-01-10 14:05:00  108148.00  108330.437352 2017-01-10 14:05:00     5955\n",
       "2017-01-10 14:10:00  108148.00  108340.655052 2017-01-10 14:10:00     5955\n",
       "2017-01-10 14:15:00  108148.00  108321.241422 2017-01-10 14:15:00     5955\n",
       "2017-01-10 14:20:00  108148.00  108321.241422 2017-01-10 14:20:00     5955\n",
       "2017-01-10 14:25:00  108148.00  108321.769923 2017-01-10 14:25:00     5955\n",
       "2017-01-10 14:30:00  108148.00  108407.404822 2017-01-10 14:30:00     5955\n",
       "2017-01-10 14:35:00  108148.00  108407.404822 2017-01-10 14:35:00     5955\n",
       "2017-01-10 14:40:00  108148.00  108610.789909 2017-01-10 14:40:00     5955\n",
       "2017-01-10 14:45:00  108148.00  108610.789909 2017-01-10 14:45:00     5955\n",
       "2017-01-10 14:50:00  108148.00  108649.899038 2017-01-10 14:50:00     5955\n",
       "2017-01-10 14:55:00  108148.00  108648.436850 2017-01-10 14:55:00     5955\n",
       "2017-01-10 15:00:00  108148.00  108562.202983 2017-01-10 15:00:00     5955\n",
       "2017-01-10 15:05:00  108148.00  108706.589659 2017-01-10 15:05:00     5955\n",
       "2017-01-10 15:10:00  108148.00  108562.202983 2017-01-10 15:10:00     5955\n",
       "2017-01-10 15:15:00  108148.00  108562.202983 2017-01-10 15:15:00     5955\n",
       "2017-01-10 15:20:00  108148.00  108561.533547 2017-01-10 15:20:00     5955\n",
       "2017-01-10 15:25:00  108148.00  108561.533547 2017-01-10 15:25:00     5955\n",
       "2017-01-10 15:30:00  108148.00  108745.522620 2017-01-10 15:30:00     5955\n",
       "2017-01-10 15:35:00  108148.00  108658.830718 2017-01-10 15:35:00     5955\n",
       "2017-01-10 15:40:00  108148.00  108658.830718 2017-01-10 15:40:00     5955\n",
       "2017-01-10 15:45:00  108148.00  108658.830718 2017-01-10 15:45:00     5955\n",
       "2017-01-10 15:50:00  108148.00  108697.728446 2017-01-10 15:50:00     5955\n",
       "2017-01-10 15:55:00  108148.00  108697.728446 2017-01-10 15:55:00     5955\n",
       "2017-01-10 16:00:00  108148.00  108600.431275 2017-01-10 16:00:00     5955\n",
       "2017-01-10 17:10:00  109069.11  109483.531261 2017-01-10 17:10:00    35657\n",
       "2017-01-10 17:15:00  109069.11  109500.866118 2017-01-10 17:15:00    35657\n",
       "2017-01-10 17:40:00  110159.00  110455.639749 2017-01-10 17:40:00     5955\n",
       "2017-01-10 17:40:00  109069.11  110455.639749 2017-01-10 17:40:00    35657\n",
       "2017-01-10 18:45:00  109069.11  109291.297561 2017-01-10 18:45:00    35657\n",
       "2017-01-10 18:55:00  109070.21  109480.298592 2017-01-10 18:55:00    35657\n",
       "2017-01-10 19:20:00  433143.00  439636.023972 2017-01-10 19:20:00     5945\n",
       "2017-01-10 19:20:00  110183.03  112524.230801 2017-01-10 19:20:00     5955\n",
       "2017-01-10 19:20:00  109070.21  112524.230801 2017-01-10 19:20:00    35657\n",
       "2017-01-10 19:20:00  433090.00  439636.023972 2017-01-10 19:20:00    35661\n",
       "2017-01-10 19:20:00  433188.00  439636.023972 2017-01-10 19:20:00    35662\n",
       "2017-01-10 21:20:00  109070.21  112952.052962 2017-01-10 21:20:00    35657\n",
       "2017-01-10 21:25:00  109070.21  112952.052962 2017-01-10 21:25:00    35657"
      ]
     },
     "execution_count": 19,
     "metadata": {},
     "output_type": "execute_result"
    }
   ],
   "source": [
    "# From the table below, only a few types have bids priced where we need them.\n",
    "# Also, none of the types bid at or below the correct price for the entire day.\n",
    "#\n",
    "acceptable_bids"
   ]
  },
  {
   "cell_type": "code",
   "execution_count": 20,
   "metadata": {
    "collapsed": false
   },
   "outputs": [
    {
     "data": {
      "text/plain": [
       "array([ 5955,  5945, 35657, 35661, 35662], dtype=int64)"
      ]
     },
     "execution_count": 20,
     "metadata": {},
     "output_type": "execute_result"
    }
   ],
   "source": [
    "# In the end, only 5 types make the cut for this day\n",
    "#\n",
    "acceptable_bids.type_id.unique()"
   ]
  },
  {
   "cell_type": "code",
   "execution_count": 21,
   "metadata": {
    "collapsed": false
   },
   "outputs": [
    {
     "name": "stdout",
     "output_type": "stream",
     "text": [
      "['500MN Cold-Gas Enduring Microwarpdrive',\n",
      " '100MN Monopropellant Enduring Afterburner',\n",
      " '100MN Y-S8 Compact Afterburner',\n",
      " '500MN Y-T8 Compact Microwarpdrive',\n",
      " '500MN Quad LiF Restrained Microwarpdrive']\n"
     ]
    }
   ],
   "source": [
    "# Here are the names of the types we dound.\n",
    "#\n",
    "import pprint\n",
    "type_query = \"{values: [\" + \",\".join([str(x) for x in acceptable_bids.type_id.unique()]) + \"]}\"\n",
    "type_list = Client.SDE.load_complete(sde_client.Inventory.getTypes, typeID=type_query)\n",
    "pprint.pprint([x['typeName'] for x in type_list])"
   ]
  },
  {
   "cell_type": "code",
   "execution_count": 22,
   "metadata": {
    "collapsed": false
   },
   "outputs": [
    {
     "data": {
      "text/plain": [
       "(736339.0, 736339.9965277778)"
      ]
     },
     "execution_count": 22,
     "metadata": {},
     "output_type": "execute_result"
    },
    {
     "data": {
      "image/png": "[encoded data removed]",
      "text/plain": [
       "<matplotlib.figure.Figure at 0x1736eec57f0>"
      ]
     },
     "metadata": {},
     "output_type": "display_data"
    }
   ],
   "source": [
    "# Visualizing the data for a given type makes it clearer where the profitable regions lie.\n",
    "#\n",
    "ax = acceptable_bids[acceptable_bids.type_id == 5955].target.plot(style=\"D\", figsize=[15,5])\n",
    "acceptable_bids[acceptable_bids.type_id == 5955].bid.plot(style=\"D\")\n",
    "ax.set_xlim(datetime.datetime(2017,1,10,0,0,0), datetime.datetime(2017,1,10,23,55,0))"
   ]
  },
  {
   "cell_type": "markdown",
   "metadata": {},
   "source": [
    "Target price \\(blue diamonds\\) changes throughout the day, while best bid \\(orange diamonds\\) stays constant until late in the day.  There are two regions where the target and best bid are close.  This suggests you would need to change your target bid about three times this day to stay near the best bid, but not exceed the target price."
   ]
  },
  {
   "cell_type": "code",
   "execution_count": 23,
   "metadata": {
    "collapsed": false
   },
   "outputs": [
    {
     "name": "stdout",
     "output_type": "stream",
     "text": [
      "Checking 288 snapshots for bids\n",
      "XXXXXXXXXXXXXXXXXXXXXXXXXXXXXXXXXXXXXXXXXXXXXXXXXXXXXXXXXXXXXXXXXXXXXXXX\n",
      "XXXXXXXXXXXXXXXXXXXXXXXXXXXXXXXXXXXXXXXXXXXXXXXXXXXXXXXXXXXXXXXXXXXXXXXX\n",
      "XXXXXXXXXXXXXXXXXXXXXXXXXXXXXXXXXXXXXXXXXXXXXXXXXXXXXXXXXXXXXXXXXXXXXXXX\n",
      "XXXXXXXXXXXXXXXXXXXXXXXXXXXXXXXXXXXXXXXXXXXXXXXXXXXXXXXXXXXXXXXXXXXXXXXX\n",
      "\n"
     ]
    }
   ],
   "source": [
    "# As you might expect, results are sensitive to target return.  Let's lower our target by 1%\n",
    "# to see the difference.\n",
    "#\n",
    "acceptable_bids = find_acceptable_bids(order_book, promising_types, source_types, station_id, region_id, efficiency, \n",
    "                                       tax_rate, station_tax, broker_fee, desired_return - 0.01, verbose=True)"
   ]
  },
  {
   "cell_type": "code",
   "execution_count": 24,
   "metadata": {
    "collapsed": false
   },
   "outputs": [
    {
     "name": "stdout",
     "output_type": "stream",
     "text": [
      "['500MN Cold-Gas Enduring Microwarpdrive',\n",
      " '100MN Monopropellant Enduring Afterburner',\n",
      " '100MN Y-S8 Compact Afterburner',\n",
      " '500MN Y-T8 Compact Microwarpdrive',\n",
      " '500MN Quad LiF Restrained Microwarpdrive']\n"
     ]
    }
   ],
   "source": [
    "# The five available types do not change\n",
    "#\n",
    "import pprint\n",
    "type_query = \"{values: [\" + \",\".join([str(x) for x in acceptable_bids.type_id.unique()]) + \"]}\"\n",
    "type_list = Client.SDE.load_complete(sde_client.Inventory.getTypes, typeID=type_query)\n",
    "pprint.pprint([x['typeName'] for x in type_list])"
   ]
  },
  {
   "cell_type": "code",
   "execution_count": 25,
   "metadata": {
    "collapsed": false
   },
   "outputs": [
    {
     "data": {
      "text/plain": [
       "(736339.0, 736339.9965277778)"
      ]
     },
     "execution_count": 25,
     "metadata": {},
     "output_type": "execute_result"
    },
    {
     "data": {
      "image/png": "[encoded data removed]",
      "text/plain": [
       "<matplotlib.figure.Figure at 0x1736f039518>"
      ]
     },
     "metadata": {},
     "output_type": "display_data"
    }
   ],
   "source": [
    "# However, the range over which our sample type is profitable is much larger.\n",
    "#\n",
    "ax = acceptable_bids[acceptable_bids.type_id == 5955].target.plot(style=\"D\", figsize=[15,5])\n",
    "acceptable_bids[acceptable_bids.type_id == 5955].bid.plot(style=\"D\")\n",
    "ax.set_xlim(datetime.datetime(2017,1,10,0,0,0), datetime.datetime(2017,1,10,23,55,0))"
   ]
  },
  {
   "cell_type": "markdown",
   "metadata": {},
   "source": [
    "Lowering the return target further will likely increase the profitability range again, and may admit other types as well.\n",
    "\n",
    "We've only considered one day of history in this example.  A proper analysis would consider a longer time range before concluding that certain types can be traded profitably with limit buy orders.  Also, we have only considered scrapmetal processing, whereas similar opportunities may be available for ore and ice types.  We leave these straightforward variants as exercises for the reader."
   ]
  }
 ],
 "metadata": {
  "kernelspec": {
   "display_name": "Python 3",
   "language": "python",
   "name": "python3"
  },
  "language_info": {
   "codemirror_mode": {
    "name": "ipython",
    "version": 3
   },
   "file_extension": ".py",
   "mimetype": "text/x-python",
   "name": "python",
   "nbconvert_exporter": "python",
   "pygments_lexer": "ipython3",
   "version": "3.6.0"
  }
 },
 "nbformat": 4,
 "nbformat_minor": 2
}
