{
 "cells": [
  {
   "cell_type": "markdown",
   "metadata": {},
   "source": [
    "### Example 16 - Testing Market Making Strategies\n",
    "\n",
    "In this example, we'll create and test a simple market making strategy using the market making targets we discovered in Example 14.  There are three basic steps we need to perform to test a strategy:\n",
    "\n",
    "1. Prepare market data samples for the strategy.\n",
    "2. Write the strategy.  See the text for details on how strategies are written.\n",
    "3. Initialize and run the simulator with our prepared market data and our strategy.\n",
    "\n",
    "We'll work through these steps below, spending more time towards the end analyzing the output of our simulations.\n",
    "\n",
    "**NOTE:** our simulator uses the simpy package (https://simpy.readthedocs.io/) to implement discrete event simulation.  You'll need to import this package into your environment in order for the simulator to work correctly."
   ]
  },
  {
   "cell_type": "code",
   "execution_count": 1,
   "metadata": {
    "collapsed": false
   },
   "outputs": [],
   "source": [
    "# Standard imports\n",
    "import pandas as pd\n",
    "import numpy as np\n",
    "from pandas import DataFrame, Series\n",
    "import matplotlib.pyplot as plt\n",
    "import datetime\n",
    "import scipy.interpolate\n",
    "import numpy.random\n",
    "%matplotlib inline\n",
    "# EveKit imports\n",
    "from evekit.reference import Client\n",
    "from evekit.util import convert_raw_time\n",
    "# Simulation imports\n",
    "from evekit.sim import MMSimOMS, MMOrderStatus, MMSimStrategyBase\n",
    "import simpy"
   ]
  },
  {
   "cell_type": "code",
   "execution_count": 2,
   "metadata": {
    "collapsed": false
   },
   "outputs": [
    {
     "name": "stdout",
     "output_type": "stream",
     "text": [
      "Using region_id=10000002, station_id=60003760 from 2017-01-07 00:00:00 to 2017-05-20 00:00:00\n"
     ]
    }
   ],
   "source": [
    "# As in previous examples, we'll consider opportunities in The Forge at the busiest station in Jita.\n",
    "# Although our strategy will be written generically and should work with any asset type, we'll prepare\n",
    "# data for the eight types we discovered in Example 14.  We set the appropriate constants in the code below.\n",
    "#\n",
    "# We'll prepare the simulation using the same date range as in Example 14, namely every Saturday\n",
    "# from 2017-01-07 through 2017-05-20.\n",
    "#\n",
    "sde_client = Client.SDE.get()\n",
    "region_query = \"{values: ['The Forge']}\"\n",
    "station_query = \"{values: ['Jita IV - Moon 4 - Caldari Navy Assembly Plant']}\"\n",
    "region_id = sde_client.Map.getRegions(regionName=region_query).result()[0][0]['regionID']\n",
    "station_id = sde_client.Station.getStations(stationName=station_query).result()[0][0]['stationID']\n",
    "date_range = pd.date_range(datetime.datetime(2017, 1, 7), datetime.datetime(2017, 5, 20))\n",
    "sat_date_range = [x for x in date_range if x.weekday() == 5]\n",
    "sim_types = [8027, 8089, 8105, 8433, 8529, 11105, 16303, 16527]\n",
    "print(\"Using region_id=%d, station_id=%d from %s to %s\" % (region_id, station_id, str(date_range[0]), str(date_range[-1])))"
   ]
  },
  {
   "cell_type": "code",
   "execution_count": 3,
   "metadata": {
    "collapsed": false
   },
   "outputs": [
    {
     "data": {
      "text/plain": [
       "8"
      ]
     },
     "execution_count": 3,
     "metadata": {},
     "output_type": "execute_result"
    }
   ],
   "source": [
    "# Retrieve type information for our target types\n",
    "market_type_map = {}\n",
    "type_query = \"{values:[\" + \",\".join([str(x) for x in sim_types]) + \"]}\"\n",
    "for x in Client.SDE.load_complete(sde_client.Inventory.getTypes, typeID=type_query):\n",
    "    market_type_map[x['typeID']] = x\n",
    "len(market_type_map.keys())"
   ]
  },
  {
   "cell_type": "code",
   "execution_count": 4,
   "metadata": {
    "collapsed": false
   },
   "outputs": [
    {
     "name": "stdout",
     "output_type": "stream",
     "text": [
      "Retrieving 2016-12-10 00:00:00...done\n",
      "Retrieving 2016-12-17 00:00:00...done\n",
      "Retrieving 2016-12-24 00:00:00...done\n",
      "Retrieving 2016-12-31 00:00:00...done\n",
      "Retrieving 2017-01-07 00:00:00...done\n",
      "Retrieving 2017-01-14 00:00:00...done\n",
      "Retrieving 2017-01-21 00:00:00...done\n",
      "Retrieving 2017-01-28 00:00:00...done\n",
      "Retrieving 2017-02-04 00:00:00...done\n",
      "Retrieving 2017-02-11 00:00:00...done\n",
      "Retrieving 2017-02-18 00:00:00...done\n",
      "Retrieving 2017-02-25 00:00:00...done\n",
      "Retrieving 2017-03-04 00:00:00...done\n",
      "Retrieving 2017-03-11 00:00:00...done\n",
      "Retrieving 2017-03-18 00:00:00...done\n",
      "Retrieving 2017-03-25 00:00:00...done\n",
      "Retrieving 2017-04-01 00:00:00...done\n",
      "Retrieving 2017-04-08 00:00:00...done\n",
      "Retrieving 2017-04-15 00:00:00...done\n",
      "Retrieving 2017-04-22 00:00:00...done\n",
      "Retrieving 2017-04-29 00:00:00...done\n",
      "Retrieving 2017-05-06 00:00:00...done\n",
      "Retrieving 2017-05-13 00:00:00...done\n",
      "Retrieving 2017-05-20 00:00:00...done\n"
     ]
    }
   ],
   "source": [
    "# As in Example 14, we need to commpute a volume threshold series for each type which will help us distinguish \n",
    "# between large orders and cancels.  Note that our threshold computer requires a window of five days which means \n",
    "# we need to include the four Saturdays prior to the start of our date range.  We construct this extended range\n",
    "# and download appropriate market history for our target sim type.\n",
    "#\n",
    "from evekit.marketdata import MarketHistory\n",
    "ext_date_range = [datetime.datetime(2016, 12, 10), datetime.datetime(2016, 12, 17),\n",
    "                  datetime.datetime(2016, 12, 24), datetime.datetime(2016, 12, 31)] + sat_date_range\n",
    "market_history = MarketHistory.get_data_frame(dates=ext_date_range, types=sim_types, regions=[region_id], \n",
    "                                              config=dict(local_storage=\".\", tree=True, skip_missing=True, verbose=True))"
   ]
  },
  {
   "cell_type": "code",
   "execution_count": 5,
   "metadata": {
    "collapsed": true
   },
   "outputs": [],
   "source": [
    "# Now we can compute the thresholds we need for trade inferrence\n",
    "#\n",
    "volume_thresh_multiplier = 0.04\n",
    "volume_thresh_map = {}\n",
    "for next_type in market_history.groupby(market_history.type_id):\n",
    "    group_id = next_type[0]\n",
    "    group_df = next_type[1]\n",
    "    volume_thresh_map[group_id] = group_df.volume.rolling(window=5, center=False).mean() * volume_thresh_multiplier"
   ]
  },
  {
   "cell_type": "code",
   "execution_count": 6,
   "metadata": {
    "collapsed": true
   },
   "outputs": [],
   "source": [
    "# We're now ready to extract order information.  We'll use the order extractor we created in Example 15.\n",
    "#\n",
    "# The result of this function will be a tuple (ref_price, ref_spread, order_series, trade_series) \n",
    "# where ref_price is the reference price chosen for the day; ref_spread is the reference difference\n",
    "# between the best bid and ask for the chosen day; order_series is the series of orders \n",
    "# arriving, changed or canceled from the book; and, trade_series is the series of trades \n",
    "# inferred from the book.\n",
    "#\n",
    "def collect_book_changes(type_id, dt, order_book, volume_threshold_map):\n",
    "    order_series = []\n",
    "    trade_series = []\n",
    "    by_type = order_book[order_book.type_id == type_id]\n",
    "    vol_limit = volume_threshold_map[type_id][dt]\n",
    "    #\n",
    "    # Convenience function to copy an order\n",
    "    #\n",
    "    def copy_order(order):\n",
    "        return dict(buy=order['buy'], duration=order['duration'], issued=order['issued'], location_id=order['location_id'],\n",
    "                    min_volume=order['min_volume'], order_id=order['order_id'], region_id=order['region_id'], \n",
    "                    type_id=order['type_id'], volume=order['volume'], volume_entered=order['volume_entered'])\n",
    "    #\n",
    "    # Determine a reference price from the spread mid-point in the first snapshot.  The reference point can be\n",
    "    # arbitrary as long as we are consistent.\n",
    "    #\n",
    "    first_snap = by_type.ix[by_type.index[0]]\n",
    "    best_bid = first_snap[first_snap.buy == True]\n",
    "    best_ask = first_snap[first_snap.buy == False]\n",
    "    ref_price = 0\n",
    "    ref_spread = 0\n",
    "    if len(best_ask) > 0 and len(best_bid) > 0:\n",
    "        ref_price = (best_ask.ix[0].price + best_bid.ix[0].price) / 2\n",
    "        ref_spread = best_ask.ix[0].price - best_bid.ix[0].price\n",
    "    elif len(best_ask) > 0:\n",
    "        ref_price = best_ask.ix[0].price / 2\n",
    "        ref_spread = ref_price * 0.1\n",
    "    elif len(best_bid) > 0:\n",
    "        ref_price = best_bid.ix[0].price\n",
    "        ref_spread = ref_price * 0.1\n",
    "    #\n",
    "    # Iterate over consecutive book snapshots looking for order book changes.\n",
    "    #\n",
    "    snap_list = list(by_type.groupby(by_type.index))\n",
    "    snap_pairs = zip(snap_list, snap_list[1:])\n",
    "    for current, next in snap_pairs:\n",
    "        current_snap = current[1]\n",
    "        current_time = current[0]\n",
    "        next_snap = next[1]\n",
    "        next_time = next[0]\n",
    "        # Look for new orders added in the next snapshot\n",
    "        new_id_set = set(next_snap.order_id).difference(set(current_snap.order_id))\n",
    "        if len(new_id_set) > 0:\n",
    "            for next_row in next_snap.iterrows():\n",
    "                if next_row[1]['order_id'] in new_id_set:\n",
    "                    cp_order = copy_order(next_row[1])\n",
    "                    cp_order['time'] = next_time\n",
    "                    cp_order['action'] = 'new'\n",
    "                    # Indicate whether this order entereed at the top of the book\n",
    "                    by_side = next_snap[next_snap.buy == cp_order['buy']]\n",
    "                    cp_order['tob'] = by_side.ix[0]['order_id'] == cp_order['order_id']\n",
    "                    order_series.append(cp_order)\n",
    "        # Look for volume changes.  These are trades.\n",
    "        merged = pd.merge(current_snap, next_snap, on=\"order_id\")\n",
    "        changed_orders = merged[merged.volume_x != merged.volume_y]\n",
    "        for next_change in changed_orders.index:\n",
    "            # Create the trade object\n",
    "            next_line = changed_orders.ix[next_change]\n",
    "            amount = next_line.volume_x - next_line.volume_y \n",
    "            location = next_line.location_id_x\n",
    "            if next_line.buy_x and next_line.order_range_x != 'station':\n",
    "                # For buy orders, we can't be certain where the trade occurred unless the buy is limited to a station\n",
    "                location = None\n",
    "            trade_series.append(dict(time=next_time, buy=next_line.buy_x, order_id=next_line.order_id,\n",
    "                                     volume=amount, location=str(location)))\n",
    "        # Now handle order price changes.\n",
    "        changed_orders = merged[merged.price_x != merged.price_y]\n",
    "        for next_change in changed_orders.index:\n",
    "            # Create the order object\n",
    "            next_line = changed_orders.ix[next_change]\n",
    "            cp_order = dict(buy=next_line['buy_x'], duration=next_line['duration_x'], issued=next_line['issued_x'], \n",
    "                            location_id=next_line['location_id_x'], min_volume=next_line['min_volume_x'], \n",
    "                            order_id=next_line['order_id'], region_id=next_line['region_id_x'], \n",
    "                            type_id=next_line['type_id_x'], volume=next_line['volume_x'], \n",
    "                            volume_entered=next_line['volume_entered_x'], time=next_time, action='change')\n",
    "            order_series.append(cp_order)\n",
    "        # Look for removed orders.  These are either a fully filled order or a cancel.\n",
    "        removed_orders = set(current_snap.order_id).difference(set(next_snap.order_id))\n",
    "        for order_id in removed_orders:\n",
    "            next_line = current_snap[current_snap.order_id == order_id].ix[current[0]]\n",
    "            # If the volume of a removed order does not exceed the threshold, then keep it.\n",
    "            if next_line.volume <= vol_limit:\n",
    "                location = next_line.location_id\n",
    "                if next_line.buy and next_line.order_range != 'station':\n",
    "                    # See above\n",
    "                    location = None\n",
    "                trade_series.append(dict(time=next_time, buy=next_line.buy, order_id=next_line.order_id,\n",
    "                                         volume=next_line.volume, location=str(location)))\n",
    "            else:\n",
    "                # Save as a canceled order\n",
    "                cp_order = copy_order(next_line)\n",
    "                cp_order['time'] = next_time\n",
    "                cp_order['action'] = 'cancel'\n",
    "                order_series.append(cp_order)\n",
    "    # Return result\n",
    "    return (ref_price, ref_spread, order_series, trade_series)"
   ]
  },
  {
   "cell_type": "code",
   "execution_count": 7,
   "metadata": {
    "collapsed": false
   },
   "outputs": [
    {
     "name": "stdout",
     "output_type": "stream",
     "text": [
      "Retrieving 2017-01-07 00:00:00...done\n",
      "Retrieving 2017-01-14 00:00:00...done\n",
      "Retrieving 2017-01-21 00:00:00...done\n",
      "Retrieving 2017-01-28 00:00:00...done\n",
      "Retrieving 2017-02-04 00:00:00...done\n",
      "Retrieving 2017-02-11 00:00:00...done\n",
      "Retrieving 2017-02-18 00:00:00...done\n",
      "Retrieving 2017-02-25 00:00:00...done\n",
      "Retrieving 2017-03-04 00:00:00...done\n",
      "Retrieving 2017-03-11 00:00:00...done\n",
      "Retrieving 2017-03-18 00:00:00...done\n",
      "Retrieving 2017-03-25 00:00:00...done\n",
      "Retrieving 2017-04-01 00:00:00...done\n",
      "Retrieving 2017-04-08 00:00:00...done\n",
      "Retrieving 2017-04-15 00:00:00...done\n",
      "Retrieving 2017-04-22 00:00:00...done\n",
      "Retrieving 2017-04-29 00:00:00...done\n",
      "Retrieving 2017-05-06 00:00:00...done\n",
      "Retrieving 2017-05-13 00:00:00...done\n",
      "Retrieving 2017-05-20 00:00:00...done\n"
     ]
    }
   ],
   "source": [
    "# To prepare market data for our simulation, we need to extract and aggregate order information\n",
    "# for every date in our date range.  We collect the results into an array, then aggregate in\n",
    "# the next cell.\n",
    "#\n",
    "from evekit.marketdata import OrderBook\n",
    "#\n",
    "market_data_prep = {}\n",
    "\n",
    "for next_type in sim_types:\n",
    "    market_data_prep[next_type] = []\n",
    "\n",
    "for next_date in sat_date_range:\n",
    "    order_book = OrderBook.get_data_frame(dates=[next_date], types=sim_types, regions=[region_id], \n",
    "                                          config=dict(local_storage=\".\", tree=True, skip_missing=True, \n",
    "                                                      fill_gaps=True, verbose=True))\n",
    "    # Reduce to just the local station\n",
    "    order_book = order_book[order_book.location_id == station_id]\n",
    "    # Extract and save order information\n",
    "    for next_type in sim_types:\n",
    "        market_data_prep[next_type].append(collect_book_changes(next_type, next_date, order_book, volume_thresh_map))"
   ]
  },
  {
   "cell_type": "code",
   "execution_count": 8,
   "metadata": {
    "collapsed": false
   },
   "outputs": [],
   "source": [
    "# Our market simulation requires as input a reference price, a reference spread, a collection of order samples and\n",
    "# a collection of trade samples.  We generate the first two inputs by taking the average of the corresponding data\n",
    "# from the historic data we just aggregated.\n",
    "#\n",
    "avg_ref_price = {}\n",
    "avg_ref_spread = {}\n",
    "for next_type in sim_types:\n",
    "    avg_ref_price[next_type] = np.mean([x[0] for x in market_data_prep[next_type]])\n",
    "    avg_ref_spread[next_type] = np.mean([x[1] for x in market_data_prep[next_type]])\n",
    "#\n",
    "# Orders and trades require more care because dates will reference the date of the order book from which the\n",
    "# data was referenced.  However, as we demonstrated in the previous example, inter-arrival times are constructed\n",
    "# by computing the difference between subsequent events.  This will cause a problem between days in our date\n",
    "# range which are separated by a week.  Therefore, we'll adjust dates in our extracted data so that the collection\n",
    "# of orders and trades appear to occur on consecutive days.\n",
    "#\n",
    "order_collection = {}\n",
    "trade_collection = {}\n",
    "for next_type in sim_types:\n",
    "    order_collection[next_type] = [x.copy() for x in market_data_prep[next_type][0][2]]\n",
    "    trade_collection[next_type] = [x.copy() for x in market_data_prep[next_type][0][3]]\n",
    "    date_correction = [sat_date_range[x] - sat_date_range[0] - pd.Timedelta(days=x) for x in range(1, len(sat_date_range))]\n",
    "    for i in range(1, len(sat_date_range)):\n",
    "        for next_order in market_data_prep[next_type][i][2]:\n",
    "            order_copy = next_order.copy()\n",
    "            order_copy['time'] -= date_correction[i - 1]\n",
    "            order_collection[next_type].append(order_copy)\n",
    "        for next_trade in market_data_prep[next_type][i][3]:\n",
    "            trade_copy = next_trade.copy()\n",
    "            trade_copy['time'] -= date_correction[i - 1]\n",
    "            trade_collection[next_type].append(trade_copy)"
   ]
  },
  {
   "cell_type": "code",
   "execution_count": 9,
   "metadata": {
    "collapsed": true
   },
   "outputs": [],
   "source": [
    "# The simulator expects market data configuration as a map from type_id to the data we computed\n",
    "# above.  We create that map here:\n",
    "#\n",
    "market_data_map = {}\n",
    "for next_type in sim_types:\n",
    "    market_data_map[next_type] = {\n",
    "        'ref_price': avg_ref_price[next_type],\n",
    "        'ref_spread': avg_ref_spread[next_type],\n",
    "        'trades': trade_collection[next_type],\n",
    "        'orders': order_collection[next_type]\n",
    "    }"
   ]
  },
  {
   "cell_type": "code",
   "execution_count": 10,
   "metadata": {
    "collapsed": false
   },
   "outputs": [],
   "source": [
    "# We're now ready to design our market making strategy for test.  Instructions on how to implement \n",
    "# a strategy are given in the book text.  For this example, we'll implement a very simple strategy:\n",
    "#\n",
    "# 1. We start by waiting for an order book snapshot in which the spread is profitable for trading.\n",
    "# 2. Next, we'll buy a set number of units of the type we wish to trade.\n",
    "# 3. Until our buy is filled, we'll change our buy order as needed to ensure we capture the best bid.\n",
    "# 4. After our buy is filled, we'll immediately place a sell.\n",
    "# 5. Until our sell is filled, we'll change our sell order as needed to ensure we capture the best ask.\n",
    "# 6. Once our sell is filled, we'll go back to step one and repeat until the simulation completes.\n",
    "#\n",
    "# Here's the strategy:\n",
    "#\n",
    "class RoundTripStrategy(MMSimStrategyBase):\n",
    "\n",
    "    def __init__(self, oms, tax_rate, broker_rate, order_change_fee, type_id, units, verbose=False):\n",
    "        super().__init__(oms, tax_rate, broker_rate, order_change_fee)\n",
    "        self.type_id = type_id\n",
    "        self.units = units\n",
    "        self.verbose = verbose\n",
    "\n",
    "    def run(self, env):\n",
    "        # Save the appropriate price ratio we need before we should enter a round of market making.\n",
    "        # This is just the formula described in the text.\n",
    "        #\n",
    "        price_ratio_target = (1 + self.broker_rate) / (1 - self.tax_rate - self.broker_rate)\n",
    "        try:\n",
    "            while True:\n",
    "                #\n",
    "                # Wait for the first snapshot with a profitable spread ratio.\n",
    "                #\n",
    "                buy_order = None\n",
    "                while buy_order is None:\n",
    "                    order_book = yield self.oms.order_book(self.type_id)\n",
    "                    top_bid = self.best_bid(order_book)\n",
    "                    top_ask = self.best_ask(order_book)\n",
    "                    if top_bid is None or top_ask is None:\n",
    "                        # Spread not available\n",
    "                        continue\n",
    "                    if top_ask / top_bid <= price_ratio_target:\n",
    "                        # Spread not profitable\n",
    "                        continue\n",
    "                    price = top_bid + 0.01 if top_bid is not None else 0.01\n",
    "                    buy_order = self.tracked_order(self.type_id, 30, True, price, self.units, 1)\n",
    "                    if self.verbose:\n",
    "                        print(str(env.now) + \" Buy order placed at \" + str(price))\n",
    "                #\n",
    "                # Wait for buy order to be filled, making sure we always capture the best bid.\n",
    "                # When the order is filled, turn around and post a sale.\n",
    "                #\n",
    "                sell_order = None\n",
    "                c1, c2 = buy_order.closed(), self.oms.order_book(self.type_id)\n",
    "                while sell_order is None:\n",
    "                    result = yield c1 | c2\n",
    "                    # Check for order status change first to avoid racing with new order book\n",
    "                    if c1 in result:\n",
    "                        # Order closed, if it was filled then place our sell order\n",
    "                        if buy_order.status != MMOrderStatus.FILLED:\n",
    "                            # Something unexpected happened, exit sim\n",
    "                            raise Exception(\"Buy order in unexpected state: \" + str(buy_order.status))\n",
    "                        if self.verbose:\n",
    "                            print(str(env.now) + \" Buy order completed\")\n",
    "                        # The final price of our buy order gives us the minimum price for which we\n",
    "                        # must sell the assets.  This equation is also described in the text.\n",
    "                        minimum_sell_price = buy_order.price * (1 + self.broker_rate) / \\\n",
    "                                                               (1 - self.tax_rate - self.broker_rate)\n",
    "                        order_book = self.oms.get_current_order_book(self.type_id)\n",
    "                        top_ask = self.best_ask(order_book)\n",
    "                        price = top_ask - 0.01 if top_ask is not None else 1000000000\n",
    "                        price = max(price, minimum_sell_price)\n",
    "                        sell_order = self.tracked_order(self.type_id, 30, False, price, self.units, 1)\n",
    "                        if self.verbose:\n",
    "                            print(str(env.now) + \" Sell order placed at \" + str(price))\n",
    "\n",
    "                    if c2 in result and sell_order is None:\n",
    "                        # Make sure we still own the best bid\n",
    "                        order_book = result[c2]\n",
    "                        new_price = self.promote_order(buy_order, order_book)\n",
    "                        if self.verbose and new_price is not None:\n",
    "                            print(str(env.now) + \" Buy order price changed to \" + str(new_price))\n",
    "                        # Reset for next order book\n",
    "                        c2 = self.oms.order_book(self.type_id)\n",
    "                #\n",
    "                # Wait for sell order to be filled, making sure we always capture best ask.\n",
    "                #\n",
    "                c1, c2 = sell_order.closed(), self.oms.order_book(self.type_id)\n",
    "                while True:\n",
    "                    result = yield c1 | c2\n",
    "                    # Check for order status change first to avoid racing with new order book\n",
    "                    if c1 in result:\n",
    "                        if sell_order.status != MMOrderStatus.FILLED:\n",
    "                            # Something unexpected happened, exit sim\n",
    "                            raise Exception(\"Sell order in unexpected state: \" + str(sell_order.status))\n",
    "                        # Done, exit strategy\n",
    "                        if self.verbose:\n",
    "                            print(str(env.now) + \" Sell order completed\")\n",
    "                        break\n",
    "\n",
    "                    if c2 in result and sell_order.status == MMOrderStatus.OPEN:\n",
    "                        # Make sure we still own the best ask\n",
    "                        order_book = result[c2]\n",
    "                        new_price = self.promote_order(sell_order, order_book, side_limit=minimum_sell_price)\n",
    "                        if self.verbose and new_price is not None:\n",
    "                            print(str(env.now) + \" Sell order price changed to \" + str(new_price))\n",
    "                        # Reset for next order book\n",
    "                        c2 = self.oms.order_book(self.type_id)\n",
    "        except simpy.Interrupt:\n",
    "            # allow us to be interrupted, we just stop when this happens\n",
    "            pass"
   ]
  },
  {
   "cell_type": "code",
   "execution_count": 11,
   "metadata": {
    "collapsed": false,
    "scrolled": false
   },
   "outputs": [
    {
     "name": "stdout",
     "output_type": "stream",
     "text": [
      "300 Buy order placed at 1429103.32\n",
      "600 Buy order price changed to 1429103.34\n",
      "900 Buy order price changed to 1429103.36\n",
      "2100 Buy order price changed to 1429103.38\n",
      "2400 Buy order price changed to 1429103.41\n",
      "2700 Buy order price changed to 1429103.45\n",
      "3600 Buy order price changed to 1429103.47\n",
      "4237 Buy order completed\n",
      "4237 Sell order placed at 1561701.48\n",
      "4500 Sell order price changed to 1561701.46\n",
      "5100 Sell order price changed to 1561701.44\n",
      "5700 Sell order price changed to 1561701.42\n",
      "6000 Sell order price changed to 1561701.4\n",
      "6600 Sell order price changed to 1561701.38\n",
      "6900 Sell order price changed to 1561701.36\n",
      "7500 Sell order price changed to 1561701.34\n",
      "7800 Sell order price changed to 1561701.32\n",
      "8100 Sell order price changed to 1561701.3\n",
      "9300 Sell order price changed to 1561701.28\n",
      "10200 Sell order price changed to 1561701.26\n",
      "10800 Sell order price changed to 1561701.24\n",
      "11700 Sell order price changed to 1561701.22\n",
      "12300 Sell order price changed to 1561701.2\n",
      "12600 Sell order price changed to 1561701.18\n",
      "12900 Sell order price changed to 1561701.16\n",
      "13800 Sell order price changed to 1561701.14\n",
      "16243 Sell order completed\n",
      "16500 Buy order placed at 1429103.23\n",
      "19089 Buy order completed\n",
      "19089 Sell order placed at 1561701.19\n",
      "19200 Sell order price changed to 1561701.17\n",
      "19800 Sell order price changed to 1561701.15\n",
      "20066 Sell order completed\n",
      "20100 Buy order placed at 1429103.23\n",
      "20700 Buy order price changed to 1429103.25\n",
      "22500 Buy order price changed to 1429103.27\n",
      "23100 Buy order price changed to 1429103.29\n",
      "24000 Buy order price changed to 1429103.31\n",
      "24300 Buy order price changed to 1429103.33\n",
      "25500 Buy order price changed to 1429103.35\n",
      "25800 Buy order price changed to 1429103.37\n",
      "26174 Buy order completed\n",
      "26174 Sell order placed at 1561701.14\n",
      "26700 Sell order price changed to 1561701.12\n",
      "27900 Sell order price changed to 1561701.1\n",
      "28200 Sell order price changed to 1561701.08\n",
      "32199 Sell order completed\n",
      "41400 Buy order placed at 1298563.49\n",
      "43200 Buy order price changed to 1298563.51\n",
      "43545 Buy order completed\n",
      "43545 Sell order placed at 1561701.05\n",
      "44700 Sell order price changed to 1561701.03\n",
      "45900 Sell order price changed to 1561701.01\n",
      "47400 Sell order price changed to 1561700.99\n",
      "48900 Sell order price changed to 1561700.97\n",
      "50204 Sell order completed\n",
      "63900 Buy order placed at 1402150.76\n",
      "65122 Buy order completed\n",
      "65122 Sell order placed at 1561700.83\n",
      "66900 Sell order price changed to 1561700.82\n",
      "67200 Sell order price changed to 1561700.8\n",
      "67500 Sell order price changed to 1561700.78\n",
      "68100 Sell order price changed to 1561700.76\n",
      "68400 Sell order price changed to 1561700.74\n",
      "68700 Sell order price changed to 1561700.72\n",
      "69300 Sell order price changed to 1561700.7\n",
      "69600 Sell order price changed to 1561700.68\n",
      "70118 Sell order completed\n",
      "82800 Buy order placed at 1352719.57\n",
      "85323 Buy order completed\n",
      "85323 Sell order placed at 1561700.61\n",
      "85500 Sell order price changed to 1561700.59\n",
      "\n",
      "--------------------------------------------------------------------------------------\n",
      "                           OMS Trading Summary                            \n",
      "\n",
      "   Type ID |     Trades |          Volume |          Low |         High |         VWAP\n",
      "--------------------------------------------------------------------------------------\n",
      "      8027 |        117 |             308 |   1228006.74 |   1561701.52 |   1515979.87\n",
      "      8089 |        133 |             522 |    458629.11 |    516188.00 |    514598.13\n",
      "      8105 |        108 |             312 |   1618526.31 |   1906954.17 |   1889796.80\n",
      "      8433 |        100 |             279 |    350855.74 |    401637.61 |    398718.19\n",
      "      8529 |        114 |             571 |     61204.46 |     83423.44 |     83027.21\n",
      "     11105 |         98 |             274 |    121323.54 |    181382.70 |    179424.43\n",
      "     16303 |         96 |             255 |    274471.47 |    400202.46 |    395090.77\n",
      "     16527 |         94 |             234 |    301083.62 |    380783.08 |    376038.01\n",
      "\n",
      "\n",
      "--------------------------------------------------------------------------------------------------\n",
      "                                     Strategy Trading Summary                                     \n",
      "\n",
      "      Type | Status                    |     Side |      Price |          Volume |             PNL\n",
      "--------------------------------------------------------------------------------------------------\n",
      "      8027 | MMOrderStatus.FILLED      |      Buy | 1429103.47 |              10 |    -14648910.26\n",
      "      8027 | MMOrderStatus.FILLED      |     Sell | 1561701.14 |              10 |       419806.78\n",
      "      8027 | MMOrderStatus.FILLED      |      Buy | 1429103.23 |              10 |    -14228501.32\n",
      "      8027 | MMOrderStatus.FILLED      |     Sell | 1561701.15 |              10 |       841714.90\n",
      "      8027 | MMOrderStatus.FILLED      |      Buy | 1429103.37 |              10 |    -13807294.11\n",
      "      8027 | MMOrderStatus.FILLED      |     Sell | 1561701.08 |              10 |      1262821.64\n",
      "      8027 | MMOrderStatus.FILLED      |      Buy | 1298563.51 |              10 |    -12047554.16\n",
      "      8027 | MMOrderStatus.FILLED      |     Sell | 1561700.97 |              10 |      3022460.36\n",
      "      8027 | MMOrderStatus.FILLED      |      Buy | 1402150.76 |              10 |    -11349584.93\n",
      "      8027 | MMOrderStatus.FILLED      |     Sell | 1561700.68 |              10 |      3720026.72\n",
      "      8027 | MMOrderStatus.FILLED      |      Buy | 1352719.57 |              10 |    -10145348.88\n",
      "      8027 | MMOrderStatus.OPEN        |     Sell | 1561700.59 |              10 |     -4351539.69\n",
      "\n"
     ]
    }
   ],
   "source": [
    "# We're now ready to run our simulation.  The simulator requires a few constants and a small amount of setup.\n",
    "#\n",
    "# First, we need to define rate and fee constants:\n",
    "#\n",
    "sim_tax_rate = 0.01\n",
    "sim_broker_rate = 0.025\n",
    "sim_change_fee = 100\n",
    "#\n",
    "# Next, we need to choose a seed for our random number generators.  Later, we'll re-run our simulation several times\n",
    "# with different seeds in order to generate statistically significant results.\n",
    "#\n",
    "seed = 5678\n",
    "#\n",
    "# Finally, we can setup simpy and run a simulation for a day.  For this first run, we'll set verbose to True\n",
    "# so that simulation actions are clear.\n",
    "#\n",
    "env = simpy.Environment()\n",
    "#\n",
    "# Initialize order management system\n",
    "#\n",
    "sim_oms = MMSimOMS(env, market_data_map, sim_tax_rate, sim_broker_rate, sim_change_fee, seed)\n",
    "#\n",
    "# Initialize strategy to test.  For this first test, we'll simulate trading only the first of\n",
    "# the eight asset types we have data for.  The other asset types will trade, but our strategy will\n",
    "# not participate in those trades.  We've instructed the strategy to buy 10 units at a time.\n",
    "# We'll derive a better way to estimate the appropriate unit volume further below.\n",
    "# We've also turned on verbose mode so we can see the strategy operating.\n",
    "#\n",
    "strategy = RoundTripStrategy(sim_oms, sim_tax_rate, sim_broker_rate, sim_change_fee, sim_types[0], 10, True)\n",
    "#\n",
    "# Create a simpy process to drive the strategy\n",
    "#\n",
    "env.process(strategy.run(env))\n",
    "#\n",
    "# Kickoff the simulation.  Time values represent seconds.  In this case, we're running the simulation\n",
    "# for one simulated day of trading.\n",
    "#\n",
    "env.run(until=86400)\n",
    "#\n",
    "# Print sim results summaries\n",
    "#\n",
    "print()\n",
    "print(str(sim_oms))\n",
    "print()\n",
    "print(str(strategy.strategy_summary()))"
   ]
  },
  {
   "cell_type": "markdown",
   "metadata": {},
   "source": [
    "The OMS trade summary shows the overall stats for each asset type we simulated.  Although our strategy only traded one asset type, the simulator dutifully simulated all eight assets we provided data for, so there are eight rows.  The strategy trading summary replays our strategy's trade activity.  The same information is also available as a DataFrame which also includes information such as the timestamps when trades occured.  We'll use the DataFrame in a later cell.\n",
    "\n",
    "In terms of performance, our strategy ended the day with an open sell order.  If we backtrack to the last completed sell order, we show a total profit and loss \\(PNL\\) of about 3.7M ISK \\(we'll discuss how to report around open orders below\\).  It's interesting to note that in an entire day of trading, our strategy only traded a volume of 100 units \\(50 bought, and 50 sold\\), excluding the last buy and open sell.  These results may be an outlier, or they may be typical.  The only way to know for sure is to run more simulations with different random seeds to see if the results are different.  We'll do this next.  "
   ]
  },
  {
   "cell_type": "code",
   "execution_count": 12,
   "metadata": {
    "collapsed": false
   },
   "outputs": [
    {
     "data": {
      "text/html": [
       "<div>\n",
       "<table border=\"1\" class=\"dataframe\">\n",
       "  <thead>\n",
       "    <tr style=\"text-align: right;\">\n",
       "      <th></th>\n",
       "      <th>broker_fee</th>\n",
       "      <th>buy</th>\n",
       "      <th>gross</th>\n",
       "      <th>price</th>\n",
       "      <th>status</th>\n",
       "      <th>tax</th>\n",
       "      <th>time</th>\n",
       "      <th>type_id</th>\n",
       "      <th>volume</th>\n",
       "      <th>volume_remaining</th>\n",
       "    </tr>\n",
       "  </thead>\n",
       "  <tbody>\n",
       "    <tr>\n",
       "      <th>300</th>\n",
       "      <td>357875.8600</td>\n",
       "      <td>True</td>\n",
       "      <td>-14291034.40</td>\n",
       "      <td>1429103.47</td>\n",
       "      <td>MMOrderStatus.FILLED</td>\n",
       "      <td>0.0000</td>\n",
       "      <td>300</td>\n",
       "      <td>8027</td>\n",
       "      <td>10</td>\n",
       "      <td>0</td>\n",
       "    </tr>\n",
       "    <tr>\n",
       "      <th>4237</th>\n",
       "      <td>392125.3700</td>\n",
       "      <td>False</td>\n",
       "      <td>15617012.54</td>\n",
       "      <td>1561701.14</td>\n",
       "      <td>MMOrderStatus.FILLED</td>\n",
       "      <td>156170.1254</td>\n",
       "      <td>4237</td>\n",
       "      <td>8027</td>\n",
       "      <td>10</td>\n",
       "      <td>0</td>\n",
       "    </tr>\n",
       "    <tr>\n",
       "      <th>16500</th>\n",
       "      <td>357275.8075</td>\n",
       "      <td>True</td>\n",
       "      <td>-14291032.30</td>\n",
       "      <td>1429103.23</td>\n",
       "      <td>MMOrderStatus.FILLED</td>\n",
       "      <td>0.0000</td>\n",
       "      <td>16500</td>\n",
       "      <td>8027</td>\n",
       "      <td>10</td>\n",
       "      <td>0</td>\n",
       "    </tr>\n",
       "    <tr>\n",
       "      <th>19089</th>\n",
       "      <td>390625.2975</td>\n",
       "      <td>False</td>\n",
       "      <td>15617011.64</td>\n",
       "      <td>1561701.15</td>\n",
       "      <td>MMOrderStatus.FILLED</td>\n",
       "      <td>156170.1164</td>\n",
       "      <td>19089</td>\n",
       "      <td>8027</td>\n",
       "      <td>10</td>\n",
       "      <td>0</td>\n",
       "    </tr>\n",
       "    <tr>\n",
       "      <th>20100</th>\n",
       "      <td>357975.8295</td>\n",
       "      <td>True</td>\n",
       "      <td>-14291033.18</td>\n",
       "      <td>1429103.37</td>\n",
       "      <td>MMOrderStatus.FILLED</td>\n",
       "      <td>0.0000</td>\n",
       "      <td>20100</td>\n",
       "      <td>8027</td>\n",
       "      <td>10</td>\n",
       "      <td>0</td>\n",
       "    </tr>\n",
       "    <tr>\n",
       "      <th>26174</th>\n",
       "      <td>390725.2850</td>\n",
       "      <td>False</td>\n",
       "      <td>15617011.14</td>\n",
       "      <td>1561701.08</td>\n",
       "      <td>MMOrderStatus.FILLED</td>\n",
       "      <td>156170.1114</td>\n",
       "      <td>26174</td>\n",
       "      <td>8027</td>\n",
       "      <td>10</td>\n",
       "      <td>0</td>\n",
       "    </tr>\n",
       "    <tr>\n",
       "      <th>41400</th>\n",
       "      <td>324740.8730</td>\n",
       "      <td>True</td>\n",
       "      <td>-12985634.92</td>\n",
       "      <td>1298563.51</td>\n",
       "      <td>MMOrderStatus.FILLED</td>\n",
       "      <td>0.0000</td>\n",
       "      <td>41400</td>\n",
       "      <td>8027</td>\n",
       "      <td>10</td>\n",
       "      <td>0</td>\n",
       "    </tr>\n",
       "    <tr>\n",
       "      <th>43545</th>\n",
       "      <td>390825.2625</td>\n",
       "      <td>False</td>\n",
       "      <td>15617009.88</td>\n",
       "      <td>1561700.97</td>\n",
       "      <td>MMOrderStatus.FILLED</td>\n",
       "      <td>156170.0988</td>\n",
       "      <td>43545</td>\n",
       "      <td>8027</td>\n",
       "      <td>10</td>\n",
       "      <td>0</td>\n",
       "    </tr>\n",
       "    <tr>\n",
       "      <th>63900</th>\n",
       "      <td>350537.6900</td>\n",
       "      <td>True</td>\n",
       "      <td>-14021507.60</td>\n",
       "      <td>1402150.76</td>\n",
       "      <td>MMOrderStatus.FILLED</td>\n",
       "      <td>0.0000</td>\n",
       "      <td>63900</td>\n",
       "      <td>8027</td>\n",
       "      <td>10</td>\n",
       "      <td>0</td>\n",
       "    </tr>\n",
       "    <tr>\n",
       "      <th>65122</th>\n",
       "      <td>391225.2075</td>\n",
       "      <td>False</td>\n",
       "      <td>15617006.92</td>\n",
       "      <td>1561700.68</td>\n",
       "      <td>MMOrderStatus.FILLED</td>\n",
       "      <td>156170.0692</td>\n",
       "      <td>65122</td>\n",
       "      <td>8027</td>\n",
       "      <td>10</td>\n",
       "      <td>0</td>\n",
       "    </tr>\n",
       "    <tr>\n",
       "      <th>82800</th>\n",
       "      <td>338179.8925</td>\n",
       "      <td>True</td>\n",
       "      <td>-13527195.70</td>\n",
       "      <td>1352719.57</td>\n",
       "      <td>MMOrderStatus.FILLED</td>\n",
       "      <td>0.0000</td>\n",
       "      <td>82800</td>\n",
       "      <td>8027</td>\n",
       "      <td>10</td>\n",
       "      <td>0</td>\n",
       "    </tr>\n",
       "    <tr>\n",
       "      <th>85323</th>\n",
       "      <td>390525.1525</td>\n",
       "      <td>False</td>\n",
       "      <td>6246802.36</td>\n",
       "      <td>1561700.59</td>\n",
       "      <td>MMOrderStatus.OPEN</td>\n",
       "      <td>62468.0236</td>\n",
       "      <td>85323</td>\n",
       "      <td>8027</td>\n",
       "      <td>10</td>\n",
       "      <td>6</td>\n",
       "    </tr>\n",
       "  </tbody>\n",
       "</table>\n",
       "</div>"
      ],
      "text/plain": [
       "        broker_fee    buy        gross       price                status  \\\n",
       "300    357875.8600   True -14291034.40  1429103.47  MMOrderStatus.FILLED   \n",
       "4237   392125.3700  False  15617012.54  1561701.14  MMOrderStatus.FILLED   \n",
       "16500  357275.8075   True -14291032.30  1429103.23  MMOrderStatus.FILLED   \n",
       "19089  390625.2975  False  15617011.64  1561701.15  MMOrderStatus.FILLED   \n",
       "20100  357975.8295   True -14291033.18  1429103.37  MMOrderStatus.FILLED   \n",
       "26174  390725.2850  False  15617011.14  1561701.08  MMOrderStatus.FILLED   \n",
       "41400  324740.8730   True -12985634.92  1298563.51  MMOrderStatus.FILLED   \n",
       "43545  390825.2625  False  15617009.88  1561700.97  MMOrderStatus.FILLED   \n",
       "63900  350537.6900   True -14021507.60  1402150.76  MMOrderStatus.FILLED   \n",
       "65122  391225.2075  False  15617006.92  1561700.68  MMOrderStatus.FILLED   \n",
       "82800  338179.8925   True -13527195.70  1352719.57  MMOrderStatus.FILLED   \n",
       "85323  390525.1525  False   6246802.36  1561700.59    MMOrderStatus.OPEN   \n",
       "\n",
       "               tax   time  type_id  volume  volume_remaining  \n",
       "300         0.0000    300     8027      10                 0  \n",
       "4237   156170.1254   4237     8027      10                 0  \n",
       "16500       0.0000  16500     8027      10                 0  \n",
       "19089  156170.1164  19089     8027      10                 0  \n",
       "20100       0.0000  20100     8027      10                 0  \n",
       "26174  156170.1114  26174     8027      10                 0  \n",
       "41400       0.0000  41400     8027      10                 0  \n",
       "43545  156170.0988  43545     8027      10                 0  \n",
       "63900       0.0000  63900     8027      10                 0  \n",
       "65122  156170.0692  65122     8027      10                 0  \n",
       "82800       0.0000  82800     8027      10                 0  \n",
       "85323   62468.0236  85323     8027      10                 6  "
      ]
     },
     "execution_count": 12,
     "metadata": {},
     "output_type": "execute_result"
    }
   ],
   "source": [
    "# We'll run the simulation a total of 100 times, with random seeds, then we'll average the PNL results.\n",
    "# It's easier to collect this data using the DataFrame version of the strategy summary.  We can get that\n",
    "# information as follows.  The index here is the simulation type at which the buy or sell occurred.\n",
    "#\n",
    "strategy_df = strategy.order_dataframe()\n",
    "strategy_df"
   ]
  },
  {
   "cell_type": "code",
   "execution_count": 13,
   "metadata": {
    "collapsed": false
   },
   "outputs": [
    {
     "data": {
      "text/plain": [
       "'3,720,026.72'"
      ]
     },
     "execution_count": 13,
     "metadata": {},
     "output_type": "execute_result"
    }
   ],
   "source": [
    "# In this form of the data, the fees and gross returns are broken out separately.  We need to perform\n",
    "# a running sum to produce PNL which we can do as follows:\n",
    "#\n",
    "(strategy_df.gross - strategy_df.tax - strategy_df.broker_fee).sum()\n",
    "#\n",
    "# This computation works as long as the last order is a filled sell order.  Otherwise, the simulation\n",
    "# may end with an open buy or sell order.  We'll need to remove these trailing orders in order\n",
    "# to get a more accurate view of PNL.  The following function computes PNL from the results\n",
    "# DataFrame adjusting for such orders.\n",
    "#\n",
    "def compute_PNL(df):\n",
    "    if len(df.iloc[:]) == 0:\n",
    "        return 0\n",
    "    last_offset = len(df.iloc[:]) - 1\n",
    "    if df.iloc[last_offset]['status'] == MMOrderStatus.OPEN:\n",
    "        last_offset -= 1\n",
    "    if df.iloc[last_offset]['buy']:\n",
    "        last_offset -= 1\n",
    "    pnl_df = df.iloc[:last_offset + 1]\n",
    "    return (pnl_df.gross - pnl_df.tax - pnl_df.broker_fee).sum()\n",
    "\n",
    "# Now we can apply this function to show PNL\n",
    "#\n",
    "\"{0:,.2f}\".format(compute_PNL(strategy_df))"
   ]
  },
  {
   "cell_type": "code",
   "execution_count": 14,
   "metadata": {
    "collapsed": false
   },
   "outputs": [],
   "source": [
    "# We're now ready to run more simulations from which we'll aggregate results and look\n",
    "# at a few statistical performance measures.  We'll perform a total of 100 runs, each \n",
    "# with a random seed.\n",
    "#\n",
    "seed_generator = numpy.random.RandomState(seed)\n",
    "seeds = seed_generator.randint(1, 100000, 100)"
   ]
  },
  {
   "cell_type": "code",
   "execution_count": 15,
   "metadata": {
    "collapsed": false
   },
   "outputs": [
    {
     "name": "stdout",
     "output_type": "stream",
     "text": [
      "....................................................................................................\n"
     ]
    }
   ],
   "source": [
    "# Now we'll loop the simulator collecting PNL results for each run.  The loop will take several minutes to finish.\n",
    "# We'll use the same parameters as before, i.e. only simulating the first asset type with a unit size of 10.\n",
    "# We've turned off verbose output for these runs.\n",
    "#\n",
    "pnl_array = []\n",
    "for seed in seeds:\n",
    "    print(\".\", end='')\n",
    "    env = simpy.Environment()\n",
    "    sim_oms = MMSimOMS(env, market_data_map, sim_tax_rate, sim_broker_rate, sim_change_fee, seed)\n",
    "    strategy = RoundTripStrategy(sim_oms, sim_tax_rate, sim_broker_rate, sim_change_fee, sim_types[0], 10)\n",
    "    env.process(strategy.run(env))\n",
    "    env.run(until=86400)\n",
    "    pnl_array.append(compute_PNL(strategy.order_dataframe()))\n",
    "print()"
   ]
  },
  {
   "cell_type": "code",
   "execution_count": 16,
   "metadata": {
    "collapsed": false
   },
   "outputs": [
    {
     "name": "stdout",
     "output_type": "stream",
     "text": [
      "            min             max            mean          median             std\n",
      "     918,147.94   49,152,973.37   12,442,735.43   10,406,587.34    9,111,666.78\n"
     ]
    }
   ],
   "source": [
    "# Let's look at a summary of the results.\n",
    "#\n",
    "print(\"{0:>15s} {1:>15s} {2:>15s} {3:>15s} {4:>15s}\".format(\"min\", \"max\", \"mean\", \"median\", \"std\"))\n",
    "print(\"{0:15,.2f} {1:15,.2f} {2:15,.2f} {3:15,.2f} {4:15,.2f}\".format(np.min(pnl_array),\n",
    "                                                           np.max(pnl_array),\n",
    "                                                           np.mean(pnl_array),\n",
    "                                                           np.median(pnl_array),\n",
    "                                                           np.std(pnl_array)))"
   ]
  },
  {
   "cell_type": "markdown",
   "metadata": {},
   "source": [
    "Our span of 100 runs shows a wide range in performance.  The mean and median are reasonably close which suggests a well behaved distribution of results.  The standard deviation is rather large suggesting high variance around the mean.  Of course, we can simply build a histogram of the data to see if the shape matches our intuition."
   ]
  },
  {
   "cell_type": "code",
   "execution_count": 17,
   "metadata": {
    "collapsed": false
   },
   "outputs": [
    {
     "data": {
      "text/plain": [
       "<matplotlib.axes._subplots.AxesSubplot at 0x1b0dd00f828>"
      ]
     },
     "execution_count": 17,
     "metadata": {},
     "output_type": "execute_result"
    },
    {
     "data": {
      "image/png": "[encoded data removed]",
      "text/plain": [
       "<matplotlib.figure.Figure at 0x1b0dfb11ba8>"
      ]
     },
     "metadata": {},
     "output_type": "display_data"
    }
   ],
   "source": [
    "pd.Series(pnl_array).hist(figsize=[15,5])"
   ]
  },
  {
   "cell_type": "markdown",
   "metadata": {},
   "source": [
    "This shape suggests a slightly exponential distribution which would allow further predicative analysis given more simulation runs.  We'll leave such analysis as an exercise to the reader.\n",
    "\n",
    "Another dimension we can consider is the size of our orders.  For our initial run, we chose 10 units as the size of our market making round trips.  A better choice is to base the size according to the typical trade volume seen at our target station.  For a typical active asset, we might be able to capture 10% of the total volume for ourselves.  As we'll plan to make multiple market making round trips, that's still too large for a single order.  We might therefore plan to take 10% of that value as well, allowing us to make around 10 market making round trips in a typical trading session.  In other words, we might estimate a reasonable unit size to be 1% of total volume for a target asset.\n",
    "\n",
    "We can compute these values based on our raw input market data.  For this example, we'll set the unit size to 1% of the average daily trade volume across our raw input data:"
   ]
  },
  {
   "cell_type": "code",
   "execution_count": 18,
   "metadata": {
    "collapsed": true
   },
   "outputs": [],
   "source": [
    "# Create a map from asset type to a reasonable unit size for that type.\n",
    "#\n",
    "unit_size_map = {}\n",
    "for next_type in sim_types:\n",
    "    mdf = pd.DataFrame(market_data_map[next_type]['trades'], index=[x['time'] for x in market_data_map[next_type]['trades']])\n",
    "    unit_size_map[next_type] = int(max(1, mdf.groupby(pd.TimeGrouper('D')).volume.sum().mean() * 0.1 * 0.1))"
   ]
  },
  {
   "cell_type": "code",
   "execution_count": 19,
   "metadata": {
    "collapsed": false
   },
   "outputs": [
    {
     "name": "stdout",
     "output_type": "stream",
     "text": [
      "6: ....................................................................................................\n",
      "13: ....................................................................................................\n",
      "19: ....................................................................................................\n"
     ]
    }
   ],
   "source": [
    "# We can test this unit size with another round of simulations.  Here, we'll run\n",
    "# a series of simulations for half the recommended order size, the exact order size,\n",
    "# and 1.5 times the recommended order size, then compare results.  We'll execute these\n",
    "# simulations only for the first type again.\n",
    "#\n",
    "vol_size_mult = [0.5, 1, 1.5]\n",
    "size_pnl_array = []\n",
    "for size_mult in vol_size_mult:\n",
    "    next_pnl_array = []\n",
    "    unit_size = int(unit_size_map[sim_types[0]] * size_mult)\n",
    "    print(str(unit_size) + \": \", end='')\n",
    "    for seed in seeds:\n",
    "        print(\".\", end='')\n",
    "        env = simpy.Environment()\n",
    "        sim_oms = MMSimOMS(env, market_data_map, sim_tax_rate, sim_broker_rate, sim_change_fee, seed)\n",
    "        strategy = RoundTripStrategy(sim_oms, sim_tax_rate, sim_broker_rate, sim_change_fee, sim_types[0], unit_size)\n",
    "        env.process(strategy.run(env))\n",
    "        env.run(until=86400)\n",
    "        next_pnl_array.append(compute_PNL(strategy.order_dataframe()))\n",
    "    print()\n",
    "    size_pnl_array.append(next_pnl_array)"
   ]
  },
  {
   "cell_type": "code",
   "execution_count": 20,
   "metadata": {
    "collapsed": false
   },
   "outputs": [
    {
     "name": "stdout",
     "output_type": "stream",
     "text": [
      "units                  min             max            mean          median             std\n",
      "         6      644,484.19   36,942,660.55    9,957,026.52    8,478,984.56    6,934,248.07\n",
      "        13      986,024.52   55,380,153.10   13,509,221.82   11,958,664.38    9,685,283.65\n",
      "        19      842,152.71   68,490,842.59   16,083,875.50   13,144,513.62   11,322,466.41\n"
     ]
    }
   ],
   "source": [
    "# Let's look at a table of the results.\n",
    "#\n",
    "print(\"{0:10s} {1:>15s} {2:>15s} {3:>15s} {4:>15s} {5:>15s}\".format(\"units\", \"min\", \"max\", \"mean\", \"median\", \"std\"))\n",
    "for i in range(0, len(vol_size_mult)):\n",
    "    unit_size = int(unit_size_map[sim_types[0]] * vol_size_mult[i])\n",
    "    pnl_data = size_pnl_array[i]\n",
    "    print(\"{0:10d} {1:15,.2f} {2:15,.2f} {3:15,.2f} {4:15,.2f} {5:15,.2f}\".format(\n",
    "        unit_size, np.min(pnl_data), np.max(pnl_data), np.mean(pnl_data), \n",
    "        np.median(pnl_data), np.std(pnl_data)))"
   ]
  },
  {
   "cell_type": "markdown",
   "metadata": {
    "collapsed": true
   },
   "source": [
    "In general, larger order sizes produce larger average results, with apparently diminishing returns above our initial guess at the ideal unit size.  A case could be made for using a slightly larger unit size, but for this example we'll stick with our rough estimate of 1% of total volume."
   ]
  },
  {
   "cell_type": "code",
   "execution_count": 21,
   "metadata": {
    "collapsed": false
   },
   "outputs": [
    {
     "name": "stdout",
     "output_type": "stream",
     "text": [
      "....................................................................................................\n"
     ]
    }
   ],
   "source": [
    "# So far, we've focused on trading of a single asset.  Let's turn now to trading all eight\n",
    "# of our market making targets.  We can trade all assets by creating a separate instance of \n",
    "# our strategy for each asset type.  Once the simulation completes, we'll summarize the \n",
    "# results by aggregating the PNL of each strategy.  Note that we're using our estimated ideal \n",
    "# unit size for each asset we computed above.\n",
    "#\n",
    "# We know we'll need multiple simulation runs for a statistically significant characterization\n",
    "# of trading behavior.  Therefore, we'll move directly to running 100 simulations of our eight\n",
    "# asset trading strategy.\n",
    "#\n",
    "pnl_array = []\n",
    "for seed in seeds:\n",
    "    print(\".\", end='')\n",
    "    strategy_map = {}\n",
    "    env = simpy.Environment()\n",
    "    sim_oms = MMSimOMS(env, market_data_map, sim_tax_rate, sim_broker_rate, sim_change_fee, seed)\n",
    "    for next_type in sim_types:\n",
    "        strategy_map[next_type] = RoundTripStrategy(sim_oms, sim_tax_rate, sim_broker_rate, sim_change_fee, \n",
    "                                                    next_type, unit_size_map[next_type])\n",
    "        env.process(strategy_map[next_type].run(env))\n",
    "    env.run(until=86400)\n",
    "    total_pnl = np.sum([compute_PNL(strategy_map[x].order_dataframe()) for x in sim_types])\n",
    "    pnl_array.append(total_pnl)\n",
    "print()"
   ]
  },
  {
   "cell_type": "code",
   "execution_count": 22,
   "metadata": {
    "collapsed": false
   },
   "outputs": [
    {
     "name": "stdout",
     "output_type": "stream",
     "text": [
      "            min             max            mean          median             std\n",
      "   5,889,223.28  133,310,479.59   39,344,134.61   36,098,782.14   25,514,323.91\n"
     ]
    }
   ],
   "source": [
    "# Here's a summary of the aggregated results.\n",
    "#\n",
    "print(\"{0:>15s} {1:>15s} {2:>15s} {3:>15s} {4:>15s}\".format(\"min\", \"max\", \"mean\", \"median\", \"std\"))\n",
    "print(\"{0:15,.2f} {1:15,.2f} {2:15,.2f} {3:15,.2f} {4:15,.2f}\".format(np.min(pnl_array),\n",
    "                                                           np.max(pnl_array),\n",
    "                                                           np.mean(pnl_array),\n",
    "                                                           np.median(pnl_array),\n",
    "                                                           np.std(pnl_array)))"
   ]
  },
  {
   "cell_type": "markdown",
   "metadata": {},
   "source": [
    "Once again, we see a wide range of results with a high standard deviation.  Nonetheless, many players would be happy to obtain the average result in each market making session.\n",
    "\n",
    "The results we've shown so far represent an entire day of trading.  Most players, however, will not spend an entire day managing orders and making markets.  Therefore, we may wish to constrain our strategy so that trading only occurs during a subset of the day.  Results from a \"time block\" of trading are more likely to represent our actual results.  A second, slightly more technical, issue is that we've always started our strategy at the beginning of simulated time.  Although the simulator \"warms up\" the book by pre-populating orders, it does not simulate any trades until the simulation actually starts.  To make the simulation more realistic, we should allow the simulator to run for a \\(simulated\\) hour or so in order to give the book a chance to move to a more realistic state.  We consider both of these issues as we finish our analysis of market making simulation.\n",
    "\n",
    "To allow for a delayed start, and to simulate a block of trading, we'll implement an extension of our existing trading strategy which sleeps until a designated start time, and trades until a dedicated stop time.  We'll arbitrarily choose to trade a four hour block starting one hour after the start of the simulation.  Note that our simulation has no concept of time of day, so we can start our strategy any time we like after the warmup period has passed.  A more realistic simulation would incorporate time of day into the random order and trade generator model.  We leave that topic for future work."
   ]
  },
  {
   "cell_type": "code",
   "execution_count": 23,
   "metadata": {
    "collapsed": true
   },
   "outputs": [],
   "source": [
    "# Creating a timed variant is very easy to do with simpy.  We just inherit from the original\n",
    "# class and use timer events to wait until the appropriate time to start or stop trading.\n",
    "#\n",
    "class DelayedBlockRoundTripStrategy(RoundTripStrategy):\n",
    "\n",
    "    def __init__(self, start_time, end_time, oms, tax_rate, broker_rate, order_change_fee, type_id, units, verbose=False):\n",
    "        super().__init__(oms, tax_rate, broker_rate, order_change_fee, type_id, units, verbose)\n",
    "        self.start_time = start_time\n",
    "        self.end_time = end_time\n",
    "\n",
    "    def run(self, env):\n",
    "        # Wait until our start time\n",
    "        yield env.timeout(self.start_time - env.now)\n",
    "        if self.verbose:\n",
    "            print(str(env.now) + \" strategy starting\")\n",
    "        \n",
    "        # Now launch the strategy and interrupt when the end time occurs\n",
    "        stop_strategy = env.timeout(self.end_time - env.now)\n",
    "        run_strategy = env.process(super().run(env))\n",
    "        yield stop_strategy | run_strategy\n",
    "        if not run_strategy.triggered:\n",
    "            # Interrupt\n",
    "            run_strategy.interrupt()\n",
    "        if self.verbose:\n",
    "            print(str(env.now) + \" strategy stopped\")"
   ]
  },
  {
   "cell_type": "code",
   "execution_count": 24,
   "metadata": {
    "collapsed": false
   },
   "outputs": [
    {
     "name": "stdout",
     "output_type": "stream",
     "text": [
      "....................................................................................................\n"
     ]
    }
   ],
   "source": [
    "# We'll now simulate our strategy starting at 01:00 and ending at 05:00 EVE time.\n",
    "# We'll set the simulation to end just after 05:00 as well.  Note that it is possible\n",
    "# to leave the simulation running beyond the end time of the strategy.  This would allow\n",
    "# any open orders to fill even though the strategy has stopped trading.  We choose not\n",
    "# to do this for this particular analysis.\n",
    "#\n",
    "# As with previous tests, we'll perform 100 runs to generate more informative results.\n",
    "# Note that these simulations will run a bit faster since we're only simulating part of the day.\n",
    "#\n",
    "start_time = 1 * 60 * 60\n",
    "end_time = 5 * 60 * 60\n",
    "pnl_array = []\n",
    "for seed in seeds:\n",
    "    print(\".\", end='')\n",
    "    strategy_map = {}\n",
    "    env = simpy.Environment()\n",
    "    sim_oms = MMSimOMS(env, market_data_map, sim_tax_rate, sim_broker_rate, sim_change_fee, seed)\n",
    "    for next_type in sim_types:\n",
    "        strategy_map[next_type] = DelayedBlockRoundTripStrategy(start_time, end_time, sim_oms, sim_tax_rate, sim_broker_rate, \n",
    "                                                                sim_change_fee, next_type, unit_size_map[next_type])\n",
    "        env.process(strategy_map[next_type].run(env))\n",
    "    env.run(until=end_time + 1)\n",
    "    total_pnl = np.sum([compute_PNL(strategy_map[x].order_dataframe()) for x in sim_types])\n",
    "    pnl_array.append(total_pnl)\n",
    "print()"
   ]
  },
  {
   "cell_type": "code",
   "execution_count": 25,
   "metadata": {
    "collapsed": false
   },
   "outputs": [
    {
     "name": "stdout",
     "output_type": "stream",
     "text": [
      "            min             max            mean          median             std\n",
      "           0.00   39,138,535.28    6,324,317.71    4,658,979.02    6,573,796.41\n"
     ]
    }
   ],
   "source": [
    "# Here's a summary of the aggregated results.\n",
    "#\n",
    "print(\"{0:>15s} {1:>15s} {2:>15s} {3:>15s} {4:>15s}\".format(\"min\", \"max\", \"mean\", \"median\", \"std\"))\n",
    "print(\"{0:15,.2f} {1:15,.2f} {2:15,.2f} {3:15,.2f} {4:15,.2f}\".format(np.min(pnl_array),\n",
    "                                                           np.max(pnl_array),\n",
    "                                                           np.mean(pnl_array),\n",
    "                                                           np.median(pnl_array),\n",
    "                                                           np.std(pnl_array)))"
   ]
  },
  {
   "cell_type": "markdown",
   "metadata": {},
   "source": [
    "Over a four hour block, average trends slightly higher than the median but the standard deviation is quite large.  There are also some extreme runs with at least one run generating no profit.  You can vary the trading block size but note that smaller blocks will give your strategy very few opportunities to find and make good trades.  Another variant, which we discussed above, is to leave any open sell orders open for the remainder of the day.  This reflects what you'd likely do in actual trading: if you ended the day with open sell orders, you'd likely just leave them open on the off chance they would be filled later.\n",
    "\n",
    "We've only scratched the surface of market making strategy construction and simulation.  For example, we could place sell orders as soon as we have any assets to trade, instead of waiting for our buy order to complete first.  We leave these variants, and further investigation, as an exercise for the reader."
   ]
  }
 ],
 "metadata": {
  "kernelspec": {
   "display_name": "Python 3",
   "language": "python",
   "name": "python3"
  },
  "language_info": {
   "codemirror_mode": {
    "name": "ipython",
    "version": 3
   },
   "file_extension": ".py",
   "mimetype": "text/x-python",
   "name": "python",
   "nbconvert_exporter": "python",
   "pygments_lexer": "ipython3",
   "version": "3.6.0"
  }
 },
 "nbformat": 4,
 "nbformat_minor": 2
}
