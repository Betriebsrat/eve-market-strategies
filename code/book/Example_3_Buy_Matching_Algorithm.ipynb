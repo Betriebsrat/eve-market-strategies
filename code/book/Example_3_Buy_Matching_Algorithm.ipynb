{
 "cells": [
  {
   "cell_type": "markdown",
   "metadata": {},
   "source": [
    "### Example 3 - Trading Rules: Build a Buy Matching Algorithm\n",
    "\n",
    "In this example, we're going to implement a \"buy matching\" algorithm which will determine which sell orders are potential\n",
    "matches for a buy order placed in a particular station.  We'll use the Static Data Export \\(SDE\\) for most of our implementation, but we'll also need an additional 3rd party service if a player-owned structure is involved.\n"
   ]
  },
  {
   "cell_type": "code",
   "execution_count": 1,
   "metadata": {
    "collapsed": true
   },
   "outputs": [],
   "source": [
    "# Standard imports\n",
    "import pandas as pd\n",
    "import numpy as np\n",
    "from pandas import DataFrame, Series\n",
    "import matplotlib.pyplot as plt\n",
    "import datetime\n",
    "%matplotlib inline\n",
    "# EveKit imports\n",
    "from evekit.reference import Client\n",
    "from evekit.util import convert_raw_time"
   ]
  },
  {
   "cell_type": "code",
   "execution_count": 2,
   "metadata": {
    "collapsed": false
   },
   "outputs": [
    {
     "name": "stdout",
     "output_type": "stream",
     "text": [
      "Using type_id=34, region_id=10000002, station_id=60003760 at 2017-01-01 00:00:00\n"
     ]
    }
   ],
   "source": [
    "# Once again, we'll use the most popular station in Jita, Forge for testing\n",
    "# and we'll imagine we're attempting to sell Tritanium.  So let's retrieve various\n",
    "# static information.  We'll also set a date so we can grab some book data for testing.\n",
    "#\n",
    "sde_client = Client.SDE.get()\n",
    "type_query = \"{values: ['Tritanium']}\"\n",
    "region_query = \"{values: ['The Forge']}\"\n",
    "station_query = \"{values: ['Jita IV - Moon 4 - Caldari Navy Assembly Plant']}\"\n",
    "type_id = sde_client.Inventory.getTypes(typeName=type_query).result()[0][0]['typeID']\n",
    "region_id = sde_client.Map.getRegions(regionName=region_query).result()[0][0]['regionID']\n",
    "station_id = sde_client.Station.getStations(stationName=station_query).result()[0][0]['stationID']\n",
    "compute_date = convert_raw_time(1483228800000) # 2017-01-01 12:00 AM UTC\n",
    "print(\"Using type_id=%d, region_id=%d, station_id=%d at %s\" % (type_id, region_id, station_id, str(compute_date)))"
   ]
  },
  {
   "cell_type": "code",
   "execution_count": 3,
   "metadata": {
    "collapsed": false
   },
   "outputs": [],
   "source": [
    "# For this simple example, we'll just grab a book snapshot directly from the Orbital Enterprises market data service\n",
    "# \n",
    "mdc_client = Client.MarketData.get()\n",
    "sample_book = mdc_client.MarketData.book(typeID=type_id, regionID=region_id, date=str(compute_date) + \" UTC\").result()[0]\n"
   ]
  },
  {
   "cell_type": "code",
   "execution_count": 4,
   "metadata": {
    "collapsed": false
   },
   "outputs": [],
   "source": [
    "# Here's the basic buy matching algorithm with two functions we need to implement\n",
    "#\n",
    "def order_match(sell_station_id, buy_station_id, order_range):\n",
    "    \"\"\"\n",
    "    Returns true if a sell market order placed at sell_station_id could be matched\n",
    "    by a buy order at buy_station_id with the given order_range\n",
    "    \"\"\"\n",
    "    # Case 1 - \"region\"\n",
    "    if order_range == 'region':\n",
    "        return True\n",
    "    # Case 2 - \"station\"\n",
    "    if order_range == 'station':\n",
    "        return sell_station_id == buy_station_id\n",
    "    # Remaining checks require solar system IDs and distance between solar systems\n",
    "    sell_solar = get_solar_system_id(sell_station_id)\n",
    "    buy_solar = get_solar_system_id(buy_station_id)\n",
    "    # Make sure we actually found solar systems before continuing.\n",
    "    # We'll return False if we can't find both solar systems.\n",
    "    if sell_solar is None or buy_solar is None:\n",
    "        if sell_solar is None:\n",
    "            print(\"Missing solar system for sell station: %d\" % sell_station_id)\n",
    "        if buy_solar is None:\n",
    "            print(\"Missing solar system for buy station: %d\" % buy_station_id)\n",
    "        return False\n",
    "    # \n",
    "    # Case 3 - \"solarsystem\"\n",
    "    if order_range == 'solarsystem':\n",
    "        return sell_solar == buy_solar\n",
    "    # Case 4 - check jump range between solar systems\n",
    "    jump_count = compute_jumps(sell_solar, buy_solar)\n",
    "    return jump_count <= int(order_range)\n"
   ]
  },
  {
   "cell_type": "code",
   "execution_count": 5,
   "metadata": {
    "collapsed": false
   },
   "outputs": [
    {
     "data": {
      "text/plain": [
       "30000142"
      ]
     },
     "execution_count": 5,
     "metadata": {},
     "output_type": "execute_result"
    }
   ],
   "source": [
    "# Before we can use our order matcher, we need to implement the get_solar_system_id and compute_jumps functions.\n",
    "# For now, we'll assume both stations are not player-owned structures.  This makes the get_solar_system_id\n",
    "# function a simple SDE lookup.\n",
    "#\n",
    "def get_solar_system_id(station_id):\n",
    "    client = Client.SDE.get()\n",
    "    station_query = \"{values: [\" + str(station_id) + \"]}\"\n",
    "    result = client.Station.getStations(stationID=station_query).result()[0]\n",
    "    if len(result) > 0:\n",
    "        return result[0]['solarSystemID']\n",
    "    return None\n",
    "\n",
    "get_solar_system_id(station_id)"
   ]
  },
  {
   "cell_type": "code",
   "execution_count": 6,
   "metadata": {
    "collapsed": false
   },
   "outputs": [
    {
     "data": {
      "text/plain": [
       "array([[ 0.,  1.,  1., ...,  6.,  5.,  5.],\n",
       "       [ 1.,  0.,  2., ...,  7.,  6.,  6.],\n",
       "       [ 1.,  2.,  0., ...,  7.,  6.,  6.],\n",
       "       ..., \n",
       "       [ 6.,  7.,  7., ...,  0.,  8.,  3.],\n",
       "       [ 5.,  6.,  6., ...,  8.,  0.,  7.],\n",
       "       [ 5.,  6.,  6., ...,  3.,  7.,  0.]])"
      ]
     },
     "execution_count": 6,
     "metadata": {},
     "output_type": "execute_result"
    }
   ],
   "source": [
    "# Computing minimum jumps between solar systems is more complicated.\n",
    "# One way to perform this computation is to apply a bit of graph theory\n",
    "# and compute a spanning tree over the graph of all solar systems and their\n",
    "# links via jump gates.  We'll walk through how to do this here.\n",
    "\n",
    "# First we need some useful functions from the scipy package.\n",
    "# If you haven't already, you'll need to import these into your\n",
    "# python install.\n",
    "from scipy.sparse import csr_matrix\n",
    "from scipy.sparse.csgraph import shortest_path\n",
    "\n",
    "# We'll start by collecting all the solar systems in our target region.\n",
    "# We'll store the list of solar systems in a dictionary so we can start building\n",
    "# connectivity between solar systems.\n",
    "solar_list = sde_client.Map.getSolarSystems(regionID=\"{values:[\" + str(region_id) + \"]}\").result()[0]\n",
    "solar_list = [x['solarSystemID'] for x in solar_list]\n",
    "\n",
    "# Keys in this map are the solar system ID, values are the list of neighboring solar system IDs\n",
    "# in the same region.\n",
    "solar_map = {}\n",
    "for next_solar in solar_list:\n",
    "    solar_map[next_solar] = [next_solar]\n",
    "\n",
    "# For each solar system, we need to compute its neighbors in the same region.\n",
    "# The SDE stores this information as well.\n",
    "for next_solar in solar_list:\n",
    "    neighbors = sde_client.Map.getSolarSystemJumps(fromRegionID=\"{values:[\" + str(region_id) + \"]}\",\n",
    "                                                   toRegionID=\"{values:[\" + str(region_id) + \"]}\",\n",
    "                                                   fromSolarSystemID=\"{values:[\" + str(next_solar) + \"]}\").result()[0]\n",
    "    for next_neighbor in neighbors:\n",
    "        neighbor_id = next_neighbor['toSolarSystemID']\n",
    "        if neighbor_id not in solar_map[next_solar]:\n",
    "            solar_map[next_solar].append(neighbor_id)\n",
    "\n",
    "# Now we're ready to build an adjacency matrix based on computed neighbors.\n",
    "# We start with an array which scipy will turn into an efficient matrix.\n",
    "solar_count = len(solar_list)\n",
    "adj_array = []\n",
    "for i in range(solar_count):\n",
    "    next_row = []\n",
    "    source_solar = solar_list[i]\n",
    "    for j in range(solar_count):\n",
    "        dest_solar = solar_list[j]\n",
    "        if dest_solar in solar_map[source_solar]:\n",
    "            next_row.append(1)\n",
    "        else:\n",
    "            next_row.append(0)\n",
    "    adj_array.append(next_row)\n",
    "\n",
    "adj_matrix = csr_matrix(adj_array)\n",
    "\n",
    "# And finally, we can turn this into a shortest path matrix we can reference for our computations.\n",
    "shortest_matrix = shortest_path(adj_matrix, directed=False, return_predecessors=False, unweighted=True)\n",
    "\n",
    "shortest_matrix"
   ]
  },
  {
   "cell_type": "code",
   "execution_count": 7,
   "metadata": {
    "collapsed": false
   },
   "outputs": [
    {
     "data": {
      "text/plain": [
       "[{'fromConstellationID': 20000018,\n",
       "  'fromRegionID': 10000002,\n",
       "  'fromSolarSystemID': 30000129,\n",
       "  'toConstellationID': 20000020,\n",
       "  'toRegionID': 10000002,\n",
       "  'toSolarSystemID': 30000139}]"
      ]
     },
     "execution_count": 7,
     "metadata": {},
     "output_type": "execute_result"
    }
   ],
   "source": [
    "# With the shortest path matrix now computed, we can implement compute jumps\n",
    "#\n",
    "def compute_jumps(source_solar, dest_solar):\n",
    "    source_index = solar_list.index(source_solar)\n",
    "    dest_index = solar_list.index(dest_solar)\n",
    "    return shortest_matrix[source_index][dest_index]\n",
    "\n",
    "# We'll test our function on two random solar systems, e.g.\n",
    "#\n",
    "# solar_list[10] = 30000129 = Unpas\n",
    "# solar_list[20] = 30000139 = Urlen\n",
    "#\n",
    "# The SDE says these two solar systems are adjacent (share a jump gate):\n",
    "sde_client.Map.getSolarSystemJumps(fromRegionID=\"{values:[\" + str(region_id) + \"]}\",\n",
    "                                   toRegionID=\"{values:[\" + str(region_id) + \"]}\",\n",
    "                                   fromSolarSystemID=\"{values:[ 30000129 ]}\",\n",
    "                                   toSolarSystemID=\"{values:[ 30000139 ]}\").result()[0]"
   ]
  },
  {
   "cell_type": "code",
   "execution_count": 8,
   "metadata": {
    "collapsed": false
   },
   "outputs": [
    {
     "data": {
      "text/plain": [
       "1.0"
      ]
     },
     "execution_count": 8,
     "metadata": {},
     "output_type": "execute_result"
    }
   ],
   "source": [
    "# Our new function should agree and print 1\n",
    "#\n",
    "compute_jumps(solar_list[10], solar_list[20])"
   ]
  },
  {
   "cell_type": "code",
   "execution_count": 9,
   "metadata": {
    "collapsed": false
   },
   "outputs": [
    {
     "name": "stdout",
     "output_type": "stream",
     "text": [
      "Match: order 4733760768 in station 60003760\n",
      "Match: order 4701276671 in station 60003760\n",
      "Missing solar system for buy station: 1021705628874\n",
      "Match: order 4699131616 in station 60003760\n",
      "Match: order 4701158083 in station 60003760\n",
      "Missing solar system for buy station: 1021705628874\n",
      "Match: order 4731817819 in station 60003760\n",
      "Match: order 4725469328 in station 60003760\n",
      "Missing solar system for buy station: 1022719559274\n",
      "Match: order 4730119998 in station 60003760\n",
      "Match: order 4723166699 in station 60003760\n",
      "Missing solar system for buy station: 1021705628874\n",
      "Match: order 4732829596 in station 60003760\n",
      "Match: order 4733937435 in station 1021705628874\n",
      "Match: order 4696407011 in station 60003760\n",
      "Match: order 4722693092 in station 60003760\n",
      "Missing solar system for buy station: 1021705628874\n",
      "Match: order 4727051122 in station 60003760\n",
      "Match: order 4718854361 in station 60004051\n",
      "Match: order 4701331362 in station 60003760\n",
      "Match: order 4647080938 in station 60003760\n",
      "Match: order 4660693701 in station 60003760\n",
      "Match: order 4653737048 in station 60004048\n",
      "Match: order 4672262015 in station 60003760\n"
     ]
    }
   ],
   "source": [
    "# Let's try out our matcher on the order book we downloaded.\n",
    "# If you remember from the previous example, the \"orders\" field contains all the orders in this snapshot.\n",
    "# The \"buy\" field tells us which orders are buys.  Let's pull those out into an array.\n",
    "#\n",
    "buy_orders = [x for x in sample_book['orders'] if x['buy']]\n",
    "\n",
    "# Now let's check which buy orders could match a sell order placed at our target station:\n",
    "for next_order in buy_orders:\n",
    "    if order_match(station_id, next_order['locationID'], next_order['orderRange']):\n",
    "        print(\"Match: order %d in station %d\" % (next_order['orderID'], next_order['locationID']))\n"
   ]
  },
  {
   "cell_type": "code",
   "execution_count": 10,
   "metadata": {
    "collapsed": false
   },
   "outputs": [
    {
     "data": {
      "text/plain": [
       "{'1021705628874': {'firstSeen': datetime.datetime(2016, 8, 14, 22, 30, 36, tzinfo=tzutc()),\n",
       "  'lastSeen': datetime.datetime(2017, 1, 15, 23, 16, 8, tzinfo=tzutc()),\n",
       "  'location': {'x': -283964968049.0, 'y': -19214757869.0, 'z': -54106616563.0},\n",
       "  'name': 'Perimeter - ♔New Hub, Free Courier, See Info',\n",
       "  'public': False,\n",
       "  'regionId': 10000002,\n",
       "  'regionName': 'The Forge',\n",
       "  'systemId': 30000144,\n",
       "  'systemName': 'Perimeter',\n",
       "  'typeId': 35833,\n",
       "  'typeName': 'Fortizar'}}"
      ]
     },
     "execution_count": 10,
     "metadata": {},
     "output_type": "execute_result"
    }
   ],
   "source": [
    "# Our matcher works but note that we failed to resolve the solar system for some stations.\n",
    "# These are player-owned structures and are not recorded in the SDE.  Another way to tell\n",
    "# these are player-owned structures is from the station ID: station IDs greater than\n",
    "# 1,000,000,000,000 (1 trillion) are generally player-owned structures.\n",
    "#\n",
    "# The official way to look up the solar system for a player-owned structure is to use the\n",
    "# EVE Swagger Interface.  Specifically, the \"universe structures\" endpoint:\n",
    "#\n",
    "# https://esi.tech.ccp.is/latest/#!/Universe/get_universe_structures_structure_id\n",
    "#\n",
    "# However, this endpoint requires OAuth authentication which is beyond the scope of this example.\n",
    "# We'll cover how to use OAuth authenticated endpoints in a later appendix.  For now, we'll\n",
    "# use a third party service which tracks player-owned structures and provides access without\n",
    "# requiring authentication.  You can find more detail about this service here:\n",
    "#\n",
    "# https://stop.hammerti.me.uk/api/\n",
    "#\n",
    "# The EveKit Client module includes an endpoint for accessing this service.  Let's try it out:\n",
    "#\n",
    "po_structure_client = Client.Citadel.get()\n",
    "\n",
    "po_structure_client.Citadel.getCitadel(citadel_id=1021705628874).result()[0]"
   ]
  },
  {
   "cell_type": "code",
   "execution_count": 11,
   "metadata": {
    "collapsed": false
   },
   "outputs": [
    {
     "data": {
      "text/plain": [
       "30000144"
      ]
     },
     "execution_count": 11,
     "metadata": {},
     "output_type": "execute_result"
    }
   ],
   "source": [
    "# Using this new endpoint, we can now improve our our function to look up solar system IDs\n",
    "#\n",
    "def get_solar_system_id(station_id):\n",
    "    client = Client.SDE.get()\n",
    "    station_query = \"{values: [\" + str(station_id) + \"]}\"\n",
    "    result = client.Station.getStations(stationID=station_query).result()[0]\n",
    "    if len(result) > 0:\n",
    "        return result[0]['solarSystemID']\n",
    "    # Might be a player-owned structure.  Check for that as well\n",
    "    client = Client.Citadel.get()\n",
    "    result = client.Citadel.getCitadel(citadel_id=station_id).result()[0]\n",
    "    if str(station_id) in result:\n",
    "        return result[str(station_id)]['systemId']\n",
    "    return None\n",
    "\n",
    "get_solar_system_id(1021705628874)"
   ]
  },
  {
   "cell_type": "code",
   "execution_count": 12,
   "metadata": {
    "collapsed": false
   },
   "outputs": [
    {
     "name": "stdout",
     "output_type": "stream",
     "text": [
      "Match: order 4733760768 in station 60003760\n",
      "Match: order 4701276671 in station 60003760\n",
      "Match: order 4726038430 in station 1021705628874\n",
      "Match: order 4699131616 in station 60003760\n",
      "Match: order 4701158083 in station 60003760\n",
      "Match: order 4727637102 in station 1021705628874\n",
      "Match: order 4731817819 in station 60003760\n",
      "Match: order 4725469328 in station 60003760\n",
      "Match: order 4730065968 in station 1022719559274\n",
      "Match: order 4730119998 in station 60003760\n",
      "Match: order 4723166699 in station 60003760\n",
      "Match: order 4718867273 in station 1021705628874\n",
      "Match: order 4732829596 in station 60003760\n",
      "Match: order 4733937435 in station 1021705628874\n",
      "Match: order 4696407011 in station 60003760\n",
      "Match: order 4722693092 in station 60003760\n",
      "Match: order 4708497872 in station 1021705628874\n",
      "Match: order 4727051122 in station 60003760\n",
      "Match: order 4718854361 in station 60004051\n",
      "Match: order 4701331362 in station 60003760\n",
      "Match: order 4647080938 in station 60003760\n",
      "Match: order 4660693701 in station 60003760\n",
      "Match: order 4653737048 in station 60004048\n",
      "Match: order 4672262015 in station 60003760\n"
     ]
    }
   ],
   "source": [
    "# And, finally, we can try our order matcher again:\n",
    "#\n",
    "for next_order in buy_orders:\n",
    "    if order_match(station_id, next_order['locationID'], next_order['orderRange']):\n",
    "        print(\"Match: order %d in station %d\" % (next_order['orderID'], next_order['locationID']))"
   ]
  },
  {
   "cell_type": "code",
   "execution_count": 13,
   "metadata": {
    "collapsed": false
   },
   "outputs": [
    {
     "data": {
      "text/plain": [
       "{'constellation_id': 20000020,\n",
       " 'corporation_id': 1000035,\n",
       " 'docking_cost_per_volume': 0.0,\n",
       " 'max_ship_volume_dockable': 50000000.0,\n",
       " 'office_rental_cost': 10000.0,\n",
       " 'operation_id': 14,\n",
       " 'region_id': 10000002,\n",
       " 'region_name': 'Jita IV - Moon 4 - Caldari Navy Assembly Plant',\n",
       " 'reprocessing_efficiency': 0.5,\n",
       " 'reprocessing_hangar_flag': 4,\n",
       " 'reprocessing_stations_take': 0.05,\n",
       " 'security': 1.0,\n",
       " 'solar_system_id': 30000142,\n",
       " 'station_id': 60003760,\n",
       " 'station_type_id': 1529,\n",
       " 'x': -107303362560.0,\n",
       " 'y': -18744975360.0,\n",
       " 'z': 436489052160.0}"
      ]
     },
     "execution_count": 13,
     "metadata": {},
     "output_type": "execute_result"
    }
   ],
   "source": [
    "# Our new order matcher now properly resolves player-owned structures as well.  As in previous examples, we \n",
    "# now turn to EveKit library functions which simplify or eliminate some of the steps above.\n",
    "#\n",
    "# You'll often need to run the order matcher when developing your own trading strategies.  Since the order\n",
    "# matcher will frequently access map data, the EveKit libraries provide a few modules for making this easier.\n",
    "#\n",
    "# The first such library is the Region class which loads Region map information.  You can use this class\n",
    "# as a cache to speed up frequent solar system lookups.\n",
    "from evekit.map import Region\n",
    "region_cache = Region.get_region(region_id)\n",
    "\n",
    "# You can use this class for non-player-owned structure lookups, e.g.\n",
    "region_cache.station_map[station_id].__dict__\n"
   ]
  },
  {
   "cell_type": "code",
   "execution_count": 14,
   "metadata": {
    "collapsed": false
   },
   "outputs": [
    {
     "data": {
      "text/plain": [
       "1.0"
      ]
     },
     "execution_count": 14,
     "metadata": {},
     "output_type": "execute_result"
    }
   ],
   "source": [
    "# This class also computes solar system and constellation jump counts\n",
    "region_cache.solar_system_jump_count(30000129, 30000139)\n"
   ]
  },
  {
   "cell_type": "code",
   "execution_count": 15,
   "metadata": {
    "collapsed": false
   },
   "outputs": [
    {
     "name": "stdout",
     "output_type": "stream",
     "text": [
      "Match: order 4733760768 in station 60003760\n",
      "Match: order 4701276671 in station 60003760\n",
      "Match: order 4726038430 in station 1021705628874\n",
      "Match: order 4699131616 in station 60003760\n",
      "Match: order 4701158083 in station 60003760\n",
      "Match: order 4727637102 in station 1021705628874\n",
      "Match: order 4731817819 in station 60003760\n",
      "Match: order 4725469328 in station 60003760\n",
      "Match: order 4730065968 in station 1022719559274\n",
      "Match: order 4730119998 in station 60003760\n",
      "Match: order 4723166699 in station 60003760\n",
      "Match: order 4718867273 in station 1021705628874\n",
      "Match: order 4732829596 in station 60003760\n",
      "Match: order 4733937435 in station 1021705628874\n",
      "Match: order 4696407011 in station 60003760\n",
      "Match: order 4722693092 in station 60003760\n",
      "Match: order 4708497872 in station 1021705628874\n",
      "Match: order 4727051122 in station 60003760\n",
      "Match: order 4718854361 in station 60004051\n",
      "Match: order 4701331362 in station 60003760\n",
      "Match: order 4647080938 in station 60003760\n",
      "Match: order 4660693701 in station 60003760\n",
      "Match: order 4653737048 in station 60004048\n",
      "Match: order 4672262015 in station 60003760\n"
     ]
    }
   ],
   "source": [
    "# Since order matching is such a frequent need, we've turned it into an EveKit function call\n",
    "#\n",
    "from evekit.marketdata import TradingUtil\n",
    "\n",
    "# You can use TradingUtil.check_range without any other setup as follows:\n",
    "config = dict(use_citadel=True)\n",
    "for next_order in buy_orders:\n",
    "    if TradingUtil.check_range(region_id, station_id, next_order['locationID'], next_order['orderRange'], config):\n",
    "        print(\"Match: order %d in station %d\" % (next_order['orderID'], next_order['locationID']))"
   ]
  }
 ],
 "metadata": {
  "kernelspec": {
   "display_name": "Python 3",
   "language": "python",
   "name": "python3"
  },
  "language_info": {
   "codemirror_mode": {
    "name": "ipython",
    "version": 3
   },
   "file_extension": ".py",
   "mimetype": "text/x-python",
   "name": "python",
   "nbconvert_exporter": "python",
   "pygments_lexer": "ipython3",
   "version": "3.6.0"
  }
 },
 "nbformat": 4,
 "nbformat_minor": 2
}
