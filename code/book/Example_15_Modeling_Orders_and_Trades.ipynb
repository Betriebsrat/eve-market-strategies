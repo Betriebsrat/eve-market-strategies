{
 "cells": [
  {
   "cell_type": "markdown",
   "metadata": {},
   "source": [
    "### Example 15 - Modeling Orders and Trades\n",
    "\n",
    "As described in the text, our market making simulation relies on random order and trade generators.  The extent to which our simulator emulates realistic trading depends on how well our random event generators reflect actual market behavior.  We'll build our generators based on statistical properties of historical orders and trades.  From historical order book snapshots, we can model the arrival rate, side, size and price of orders as they arrive.  Likewise, we can infer or estimate trades \\(as described in Example 4\\) to model arrival rate, side and size of trades.  \n",
    "\n",
    "As described in the text, we'll need to create four event generators:\n",
    "\n",
    "1. **New Order**: an event with properties: arrival offset, side, duration, volume, minimum volume, \"top of book\", and price offset.\n",
    "2. **Change Order**: an event with properites: arrival offset, and side.\n",
    "3. **Cancel Order**: an event with properties: arrival offset, and side.\n",
    "4. **Trade**: an event with properties: arrival offset, side, and volume.\n",
    "\n",
    "For simplicity, our generators will be constructed for a single asset type using a single day of historic data.  A more realistic simulation would, of course, construct generators for all assets being traded over multiple days of historic data."
   ]
  },
  {
   "cell_type": "code",
   "execution_count": 1,
   "metadata": {
    "collapsed": false
   },
   "outputs": [],
   "source": [
    "# Standard imports\n",
    "import pandas as pd\n",
    "import numpy as np\n",
    "from pandas import DataFrame, Series\n",
    "import matplotlib.pyplot as plt\n",
    "import datetime\n",
    "import scipy.interpolate\n",
    "import numpy.random\n",
    "%matplotlib inline\n",
    "# EveKit imports\n",
    "from evekit.reference import Client\n",
    "from evekit.util import convert_raw_time"
   ]
  },
  {
   "cell_type": "code",
   "execution_count": 2,
   "metadata": {
    "collapsed": false
   },
   "outputs": [
    {
     "name": "stdout",
     "output_type": "stream",
     "text": [
      "Using region_id=10000002, station_id=60003760, type_id=34 at 2017-01-10 00:00:00\n"
     ]
    }
   ],
   "source": [
    "# As in previous examples, we'll consider opportunities in The Forge at the busiest station in Jita.\n",
    "# We've selected a specific station because we intend to model market making which buys and sells\n",
    "# from a single station.  A more general model would not be constrained to a single station.\n",
    "#\n",
    "# For this example, we'll build a trade model for Tritanium (type ID 34)\n",
    "#\n",
    "sde_client = Client.SDE.get()\n",
    "region_query = \"{values: ['The Forge']}\"\n",
    "station_query = \"{values: ['Jita IV - Moon 4 - Caldari Navy Assembly Plant']}\"\n",
    "region_id = sde_client.Map.getRegions(regionName=region_query).result()[0][0]['regionID']\n",
    "station_id = sde_client.Station.getStations(stationName=station_query).result()[0][0]['stationID']\n",
    "compute_date = datetime.datetime(2017, 1, 10)\n",
    "model_type = 34 # Type ID for Tritanium\n",
    "print(\"Using region_id=%d, station_id=%d, type_id=%d at %s\" % (region_id, station_id, model_type, str(compute_date)))"
   ]
  },
  {
   "cell_type": "code",
   "execution_count": 3,
   "metadata": {
    "collapsed": false
   },
   "outputs": [
    {
     "data": {
      "text/plain": [
       "1"
      ]
     },
     "execution_count": 3,
     "metadata": {},
     "output_type": "execute_result"
    }
   ],
   "source": [
    "# Retrieve type information for our type\n",
    "market_type_map = {}\n",
    "type_query = \"{values:[34]}\"\n",
    "for x in Client.SDE.load_complete(sde_client.Inventory.getTypes, typeID=type_query):\n",
    "    market_type_map[x['typeID']] = x\n",
    "len(market_type_map.keys())"
   ]
  },
  {
   "cell_type": "code",
   "execution_count": 4,
   "metadata": {
    "collapsed": false
   },
   "outputs": [
    {
     "name": "stdout",
     "output_type": "stream",
     "text": [
      "Retrieving 2016-12-11 00:00:00...done\n",
      "Retrieving 2016-12-12 00:00:00...done\n",
      "Retrieving 2016-12-13 00:00:00...done\n",
      "Retrieving 2016-12-14 00:00:00...done\n",
      "Retrieving 2016-12-15 00:00:00...done\n",
      "Retrieving 2016-12-16 00:00:00...done\n",
      "Retrieving 2016-12-17 00:00:00...done\n",
      "Retrieving 2016-12-18 00:00:00...done\n",
      "Retrieving 2016-12-19 00:00:00...done\n",
      "Retrieving 2016-12-20 00:00:00...done\n",
      "Retrieving 2016-12-21 00:00:00...done\n",
      "Retrieving 2016-12-22 00:00:00...done\n",
      "Retrieving 2016-12-23 00:00:00...done\n",
      "Retrieving 2016-12-24 00:00:00...done\n",
      "Retrieving 2016-12-25 00:00:00...done\n",
      "Retrieving 2016-12-26 00:00:00...done\n",
      "Retrieving 2016-12-27 00:00:00...done\n",
      "Retrieving 2016-12-28 00:00:00...done\n",
      "Retrieving 2016-12-29 00:00:00...done\n",
      "Retrieving 2016-12-30 00:00:00...done\n",
      "Retrieving 2016-12-31 00:00:00...done\n",
      "Retrieving 2017-01-01 00:00:00...done\n",
      "Retrieving 2017-01-02 00:00:00...done\n",
      "Retrieving 2017-01-03 00:00:00...done\n",
      "Retrieving 2017-01-04 00:00:00...done\n",
      "Retrieving 2017-01-05 00:00:00...done\n",
      "Retrieving 2017-01-06 00:00:00...done\n",
      "Retrieving 2017-01-07 00:00:00...done\n",
      "Retrieving 2017-01-08 00:00:00...done\n",
      "Retrieving 2017-01-09 00:00:00...done\n"
     ]
    }
   ],
   "source": [
    "# In order to build the trade portion of our fill simulator we need to infer trades.\n",
    "# We'll use the volume threshold trade infer function we developed in Example 4 which will\n",
    "# require market history.  We'll use thirty days prior to our target date which we load here.\n",
    "from evekit.marketdata import MarketHistory\n",
    "date_range = pd.date_range(compute_date - datetime.timedelta(days=30), compute_date - datetime.timedelta(days=1))\n",
    "market_history = MarketHistory.get_data_frame(dates=date_range, types=market_type_map.keys(), regions=[region_id], \n",
    "                                              config=dict(local_storage=\".\", tree=True, skip_missing=True, verbose=True))"
   ]
  },
  {
   "cell_type": "code",
   "execution_count": 5,
   "metadata": {
    "collapsed": false
   },
   "outputs": [
    {
     "name": "stdout",
     "output_type": "stream",
     "text": [
      "Retrieving 2017-01-10 00:00:00...done\n"
     ]
    }
   ],
   "source": [
    "# Finally, we need the order book for our sample day.\n",
    "from evekit.marketdata import OrderBook\n",
    "order_book = OrderBook.get_data_frame(dates=[compute_date], types=market_type_map.keys(), regions=[region_id], \n",
    "                                      config=dict(local_storage=\".\", tree=True, skip_missing=True, \n",
    "                                                  fill_gaps=True, verbose=True))"
   ]
  },
  {
   "cell_type": "code",
   "execution_count": 6,
   "metadata": {
    "collapsed": true
   },
   "outputs": [],
   "source": [
    "# Since we're only considering market making, we can filter the book down to\n",
    "# just our target station.\n",
    "order_book_local = order_book[order_book.location_id == station_id]"
   ]
  },
  {
   "cell_type": "code",
   "execution_count": 7,
   "metadata": {
    "collapsed": false
   },
   "outputs": [],
   "source": [
    "# In preparation for trade inference, we need to commpute a volume threshold series for each type\n",
    "# which will help us distinguish between large orders and cancels.\n",
    "volume_thresh_multiplier = 0.04\n",
    "volume_thresh_map = {}\n",
    "for next_type in market_history.groupby(market_history.type_id):\n",
    "    group_id = next_type[0]\n",
    "    group_df = next_type[1]\n",
    "    volume_thresh_map[group_id] = group_df.volume.rolling(window=5, center=False).mean() * volume_thresh_multiplier"
   ]
  },
  {
   "cell_type": "markdown",
   "metadata": {},
   "source": [
    "The essence of our trading model is that it is based on historical observations of orders and trades.  To that end, we'll need to extract and track the arrival of orders and trades for each asset type across all book snapshots.  We'll start with the first snapshot of the day as a given and track all changes after that.  For this example, we're only considering a single day of history.  In reality, we'll need to extract historic observations over multiple days and build our trade observations from that combined data.  Note that we don't bother recording price information for orders or trades as this is likely to change day to day and is not relevant for our simulation needs.  We do, however, extract a reference price and spread from the first order book snapshot.  These values are used to help prime simulated books with reasonable starting values."
   ]
  },
  {
   "cell_type": "code",
   "execution_count": 8,
   "metadata": {
    "collapsed": false
   },
   "outputs": [],
   "source": [
    "# The following function collects order book changes starting from the first snapshot for a given \n",
    "# asset type.  As part of this pricess, we also need to infer trades so that we can distinguish\n",
    "# complete fills from cancels.  We use the same technique for trade inference that we've used in\n",
    "# previous examples.\n",
    "#\n",
    "# The result of this function will be a tuple (ref_price, ref_spread, order_series, trade_series) \n",
    "# where ref_price is the reference price chosen for the day; ref_spread is the reference difference\n",
    "# between the best bid and ask for the chosen day; order_series is the series of orders \n",
    "# arriving, changed or canceled from the book; and, trade_series is the series of trades \n",
    "# inferred from the book.\n",
    "#\n",
    "def collect_book_changes(type_id, dt, order_book, volume_threshold_map):\n",
    "    order_series = []\n",
    "    trade_series = []\n",
    "    by_type = order_book[order_book.type_id == type_id]\n",
    "    vol_limit = volume_threshold_map[type_id][dt - datetime.timedelta(days=1)]\n",
    "    #\n",
    "    # Convenience function to copy an order\n",
    "    #\n",
    "    def copy_order(order):\n",
    "        return dict(buy=order['buy'], duration=order['duration'], issued=order['issued'], location_id=order['location_id'],\n",
    "                    min_volume=order['min_volume'], order_id=order['order_id'], region_id=order['region_id'], \n",
    "                    type_id=order['type_id'], volume=order['volume'], volume_entered=order['volume_entered'])\n",
    "    #\n",
    "    # Determine a reference price from the spread mid-point in the first snapshot.  The reference point can be\n",
    "    # arbitrary as long as we are consistent.\n",
    "    #\n",
    "    first_snap = by_type.ix[by_type.index[0]]\n",
    "    best_bid = first_snap[first_snap.buy == True]\n",
    "    best_ask = first_snap[first_snap.buy == False]\n",
    "    ref_price = 0\n",
    "    ref_spread = 0\n",
    "    if len(best_ask) > 0 and len(best_bid) > 0:\n",
    "        ref_price = (best_ask.ix[0].price + best_bid.ix[0].price) / 2\n",
    "        ref_spread = best_ask.ix[0].price - best_bid.ix[0].price\n",
    "    elif len(best_ask) > 0:\n",
    "        ref_price = best_ask.ix[0].price / 2\n",
    "        ref_spread = ref_price * 0.1\n",
    "    elif len(best_bid) > 0:\n",
    "        ref_price = best_bid.ix[0].price\n",
    "        ref_spread = ref_price * 0.1\n",
    "    #\n",
    "    # Iterate over consecutive book snapshots looking for order book changes.\n",
    "    #\n",
    "    snap_list = list(by_type.groupby(by_type.index))\n",
    "    snap_pairs = zip(snap_list, snap_list[1:])\n",
    "    for current, next in snap_pairs:\n",
    "        current_snap = current[1]\n",
    "        current_time = current[0]\n",
    "        next_snap = next[1]\n",
    "        next_time = next[0]\n",
    "        # Look for new orders added in the next snapshot\n",
    "        new_id_set = set(next_snap.order_id).difference(set(current_snap.order_id))\n",
    "        if len(new_id_set) > 0:\n",
    "            for next_row in next_snap.iterrows():\n",
    "                if next_row[1]['order_id'] in new_id_set:\n",
    "                    cp_order = copy_order(next_row[1])\n",
    "                    cp_order['time'] = next_time\n",
    "                    cp_order['action'] = 'new'\n",
    "                    # Indicate whether this order entereed at the top of the book\n",
    "                    by_side = next_snap[next_snap.buy == cp_order['buy']]\n",
    "                    cp_order['tob'] = by_side.ix[0]['order_id'] == cp_order['order_id']\n",
    "                    order_series.append(cp_order)\n",
    "        # Look for volume changes.  These are trades.\n",
    "        merged = pd.merge(current_snap, next_snap, on=\"order_id\")\n",
    "        changed_orders = merged[merged.volume_x != merged.volume_y]\n",
    "        for next_change in changed_orders.index:\n",
    "            # Create the trade object\n",
    "            next_line = changed_orders.ix[next_change]\n",
    "            amount = next_line.volume_x - next_line.volume_y \n",
    "            location = next_line.location_id_x\n",
    "            if next_line.buy_x and next_line.order_range_x != 'station':\n",
    "                # For buy orders, we can't be certain where the trade occurred unless the buy is limited to a station\n",
    "                location = None\n",
    "            trade_series.append(dict(time=next_time, buy=next_line.buy_x, order_id=next_line.order_id,\n",
    "                                     volume=amount, location=str(location)))\n",
    "        # Now handle order price changes.\n",
    "        changed_orders = merged[merged.price_x != merged.price_y]\n",
    "        for next_change in changed_orders.index:\n",
    "            # Create the order object\n",
    "            next_line = changed_orders.ix[next_change]\n",
    "            cp_order = dict(buy=next_line['buy_x'], duration=next_line['duration_x'], issued=next_line['issued_x'], \n",
    "                            location_id=next_line['location_id_x'], min_volume=next_line['min_volume_x'], \n",
    "                            order_id=next_line['order_id'], region_id=next_line['region_id_x'], \n",
    "                            type_id=next_line['type_id_x'], volume=next_line['volume_x'], \n",
    "                            volume_entered=next_line['volume_entered_x'], time=next_time, action='change')\n",
    "            order_series.append(cp_order)\n",
    "        # Look for removed orders.  These are either a fully filled order or a cancel.\n",
    "        removed_orders = set(current_snap.order_id).difference(set(next_snap.order_id))\n",
    "        for order_id in removed_orders:\n",
    "            next_line = current_snap[current_snap.order_id == order_id].ix[current[0]]\n",
    "            # If the volume of a removed order does not exceed the threshold, then keep it.\n",
    "            if next_line.volume <= vol_limit:\n",
    "                location = next_line.location_id\n",
    "                if next_line.buy and next_line.order_range != 'station':\n",
    "                    # See above\n",
    "                    location = None\n",
    "                trade_series.append(dict(time=next_time, buy=next_line.buy, order_id=next_line.order_id,\n",
    "                                         volume=next_line.volume, location=str(location)))\n",
    "            else:\n",
    "                # Save as a canceled order\n",
    "                cp_order = copy_order(next_line)\n",
    "                cp_order['time'] = next_time\n",
    "                cp_order['action'] = 'cancel'\n",
    "                order_series.append(cp_order)\n",
    "    # Return result\n",
    "    return (ref_price, ref_spread, order_series, trade_series)"
   ]
  },
  {
   "cell_type": "code",
   "execution_count": 9,
   "metadata": {
    "collapsed": false
   },
   "outputs": [],
   "source": [
    "# With our book change function in hand, we're ready to extract order and trade data for Tritanium.\n",
    "#\n",
    "(ref_price, ref_spread, orders, trades) = collect_book_changes(model_type, compute_date, order_book_local, volume_thresh_map)"
   ]
  },
  {
   "cell_type": "markdown",
   "metadata": {},
   "source": [
    "Our goal is to build a model of Tritanium which can generate a reasonable set of random orders and trades which emulate actual trading.  To do this, we'll build a number of distributions which we can sample to generate random orders and trades.  We'll start by creating a generator to produce random trades.  A trade has three characteristics we need to model:\n",
    "\n",
    "1. A side (either buy or sell); \n",
    "2. An arrival offset (delay from current time when trade will arrive); and, \n",
    "3. A volume\n",
    "\n",
    "One might wonder why we're not also computing a trade price.  This is because we assume trades always fill the top of the book.  Therefore, trade price is determined by existing orders: once we compute the side where the trade falls, we can compute the trade price."
   ]
  },
  {
   "cell_type": "code",
   "execution_count": 10,
   "metadata": {
    "collapsed": false
   },
   "outputs": [
    {
     "data": {
      "text/plain": [
       "(0, 100000000)"
      ]
     },
     "execution_count": 10,
     "metadata": {},
     "output_type": "execute_result"
    },
    {
     "data": {
      "image/png": "[encoded data removed]",
      "text/plain": [
       "<matplotlib.figure.Figure at 0x22db32127f0>"
      ]
     },
     "metadata": {},
     "output_type": "display_data"
    }
   ],
   "source": [
    "# We'll start by creating a generator to produce random trade volume.  We COULD try to model trade\n",
    "# volume in aggregate, but in reality it's likely that sell and buy volume have different\n",
    "# distributions.  We can verify our intuition by looking at the distribution of buy and sell trades\n",
    "# we inferred from our sample day.\n",
    "#\n",
    "fig = plt.figure()\n",
    "ax1 = fig.add_subplot(2, 1, 1)\n",
    "pd.Series([x['volume'] for x in trades if x['buy']]).hist(ax=ax1, figsize=[15,5], normed=True, bins=1000)\n",
    "ax1.set_xlim(0, 100000000)\n",
    "ax2 = fig.add_subplot(2, 1, 2)\n",
    "pd.Series([x['volume'] for x in trades if not x['buy']]).hist(ax=ax2, figsize=[15,5], normed=True, bins=1000)\n",
    "ax2.set_xlim(0, 100000000)"
   ]
  },
  {
   "cell_type": "markdown",
   "metadata": {},
   "source": [
    "There are more sell trades than buys which distorts the data, but there are also some clear differences in the distribution, especially in the tail.\n",
    "\n",
    "How can we model the distribution of trade volume for our simulation?  Normally, we would attempt to match the shape of our distribution to a well known statistical distribution.  However, we don't have enough data to make that possible in this example.  Also, market data at this granularity \\(i.e. very fine\\) is notoriously difficult to map to simple distributions.  To work around this problem, we'll instead resort to a rough approximation using a distribution based on the cumulative distribution function \\(CDF\\) inferred from the raw sample data.  We can create a CDF using a histogram with cumulative sums across the buckets.  Taking the inverse of this CDF gives a function we can randomly sample to generate values from the \n",
    "data population.  This is a well known technique which we implement in the next cell."
   ]
  },
  {
   "cell_type": "code",
   "execution_count": 11,
   "metadata": {
    "collapsed": true
   },
   "outputs": [],
   "source": [
    "# Create random sample generator from sample data and a random seed\n",
    "#\n",
    "def create_sample_generator(data, bin_count, seed):\n",
    "    # Compute CDF from histogram\n",
    "    counts, bins = np.histogram(data, bins=bin_count, density=True)\n",
    "    cum_values = np.zeros(bins.shape)\n",
    "    cum_values[1:] = np.cumsum(counts*np.diff(bins))\n",
    "    # Invert the CDF to create a sample function from [0,1] to our sample domain\n",
    "    inv_cdf = scipy.interpolate.interp1d(cum_values, bins)\n",
    "    rnd = numpy.random.RandomState(seed)\n",
    "    return lambda : int(inv_cdf(rnd.rand()))"
   ]
  },
  {
   "cell_type": "code",
   "execution_count": 12,
   "metadata": {
    "collapsed": false,
    "scrolled": false
   },
   "outputs": [
    {
     "data": {
      "text/plain": [
       "(0, 100000000)"
      ]
     },
     "execution_count": 12,
     "metadata": {},
     "output_type": "execute_result"
    },
    {
     "data": {
      "image/png": "[encoded data removed]",
      "text/plain": [
       "<matplotlib.figure.Figure at 0x22db2a7cdd8>"
      ]
     },
     "metadata": {},
     "output_type": "display_data"
    }
   ],
   "source": [
    "# With our sample generator in hand, we can now create volume generators for sell and buy trade volume.\n",
    "# The following code creates these generators, then plots samples drawn from these generators.\n",
    "#\n",
    "buy_trade_gen = create_sample_generator([x['volume'] for x in trades if x['buy']], 1000, 1)\n",
    "sell_trade_gen = create_sample_generator([x['volume'] for x in trades if not x['buy']], 1000, 1)\n",
    "#\n",
    "fig = plt.figure()\n",
    "ax1 = fig.add_subplot(2, 1, 1)\n",
    "pd.Series([buy_trade_gen() for x in range(10000)]).hist(ax=ax1, figsize=[15,5], normed=True, bins=1000)\n",
    "ax1.set_xlim(0, 100000000)\n",
    "ax2 = fig.add_subplot(2, 1, 2)\n",
    "pd.Series([sell_trade_gen() for x in range(10000)]).hist(ax=ax2, figsize=[15,5], normed=True, bins=1000)\n",
    "ax2.set_xlim(0, 100000000)"
   ]
  },
  {
   "cell_type": "markdown",
   "metadata": {},
   "source": [
    "Not surprisingly, samples drawn from these generators look very similar to our plots of the raw data above.\n",
    "\n",
    "Now let's turn to trade interarrival time.  We can use the same code from above to produce a trade interarrival generator.  There's one catch with interarrival times, however, which is that they will all be on five minute boundaries because we assign the trade time based on snapshot time.  This would make simulated interarrival time unrealistic and also easy to game in a strategy.  Therefore, we'll skew interarrival times by adding a uniformly distributed value between 0 and 300 seconds to each sample.  This will simulate a trade arriving sometime in the interval between two snapshots.  With that one small change, we're now ready to create our trade interarrival time generator in the next cell."
   ]
  },
  {
   "cell_type": "code",
   "execution_count": 13,
   "metadata": {
    "collapsed": false
   },
   "outputs": [],
   "source": [
    "# We'll create the interarrival time generator by extracting trade times, computing their difference\n",
    "# (thus creating an INTERarrival time), then randomly skewing the result as described above.\n",
    "#\n",
    "# Extract interarrival times, dropping the first value which will not be a diff\n",
    "trade_interarrival = pd.Series([x['time'] for x in trades]).diff()[1:].apply(lambda x: x.seconds)\n",
    "#\n",
    "# Skew each value randomly from 0 to 300 seconds\n",
    "trade_skewer = numpy.random.RandomState(1)\n",
    "trade_interarrival = trade_interarrival.apply(lambda x: x + int(trade_skewer.rand() * 300))\n",
    "#\n",
    "# Create sample generator\n",
    "trade_arrival_gen = create_sample_generator(list(trade_interarrival), 10000, 1)"
   ]
  },
  {
   "cell_type": "markdown",
   "metadata": {},
   "source": [
    "Finally, we're left with trade side.  Since there are only two sides, we can construct a much simpler generator based on the ratio of buys to sells."
   ]
  },
  {
   "cell_type": "code",
   "execution_count": 14,
   "metadata": {
    "collapsed": true
   },
   "outputs": [],
   "source": [
    "# Returns True if the next trade is a buy and False otherwise\n",
    "#\n",
    "def create_trade_side_generator(trades, seed):\n",
    "    buy_count = len([x for x in trades if x['buy']])\n",
    "    sell_count = len([x for x in trades if not x['buy']])\n",
    "    buy_threshold = buy_count / (buy_count + sell_count)\n",
    "    buy_gen = numpy.random.RandomState(seed)\n",
    "    return lambda: True if buy_gen.rand() <= buy_threshold else False\n",
    "\n",
    "trade_side_gen = create_trade_side_generator(trades, 1)"
   ]
  },
  {
   "cell_type": "code",
   "execution_count": 15,
   "metadata": {
    "collapsed": true
   },
   "outputs": [],
   "source": [
    "# We can put all of these pieces together to create a simulated trade generator\n",
    "#\n",
    "def trade_generator(side_gen, buy_vol_gen, sell_vol_gen, arrival_time_gen):\n",
    "    def get_next_trade():\n",
    "        next_side = side_gen()\n",
    "        next_volume = max(buy_vol_gen() if next_side else sell_vol_gen(), 1)\n",
    "        next_arrival = max(arrival_time_gen(), 1)\n",
    "        return dict(arrival=next_arrival, buy=next_side, volume=next_volume)\n",
    "    return get_next_trade\n",
    "\n",
    "sim_trade_gen = trade_generator(trade_side_gen, buy_trade_gen, sell_trade_gen, trade_arrival_gen)"
   ]
  },
  {
   "cell_type": "code",
   "execution_count": 16,
   "metadata": {
    "collapsed": false
   },
   "outputs": [
    {
     "data": {
      "text/plain": [
       "{'arrival': 259, 'buy': False, 'volume': 20780109}"
      ]
     },
     "execution_count": 16,
     "metadata": {},
     "output_type": "execute_result"
    }
   ],
   "source": [
    "# Here's a sample generated trade value\n",
    "sim_trade_gen()"
   ]
  },
  {
   "cell_type": "markdown",
   "metadata": {},
   "source": [
    "We'll turn now to constructing generators for random orders.  There are three order operations we need to simulate:\n",
    "\n",
    "1. New order arriving\n",
    "2. Order price change\n",
    "3. Order cancellation\n",
    "\n",
    "It's likely that order type \\(i.e. new vs. change vs. cancel\\) has an effect on the distributions which describe the properties of these orders.  Therefore, we'll model each order type separately.  We'll also make one additional simplification which is that we won't try to model order prices.  As described in the text, we'll instead price orders based on orders currently in the book, only using an explicit reference price when a side of the book is empty.  We'll explain how this affects each order type in the descriptions below.\n",
    "\n",
    "Starting with new orders, we need to model the following properties:\n",
    "\n",
    "* *side* - either buy or sell \n",
    "* *duration* - the number of days for which the order will be active\n",
    "* *interarrival time* - the time \\(in seconds\\) before the next order will arrive\n",
    "* *minimum volume* - minimum volume that must be transacted on each trade\n",
    "* *volume* - total volume to buy or sell\n",
    "* *top of book* - True if the order entered the snapshot as the new best bid or ask\n",
    "\n",
    "As discussed above, we've omitted a property for the new order price.  Instead, we'll determine price as follows \\(this is also described in the book text\\):\n",
    "\n",
    "1. If the side of the book where the order will appear is empty, then the new order is priced at a small random offset from a reference price.\n",
    "2. If the order is marked \"top of book\", then the new order is always priced just above the current best offer on the appropriate side.\n",
    "3. Otherwise, the order is placed randomly among the appropriate side with the position determined by an exponential distribution favoring the top of the book.  The price of the new order is just above the order which appears \"behind\" it in the book.\n",
    "\n",
    "We'll derive a generator for each of these properties, then assemble all generators into a function which generates new random orders.\n"
   ]
  },
  {
   "cell_type": "code",
   "execution_count": 17,
   "metadata": {
    "collapsed": true
   },
   "outputs": [],
   "source": [
    "# Extract new order data.\n",
    "#\n",
    "new_orders = [x for x in orders if x['action'] == 'new']\n",
    "#\n",
    "# For the side generator, we can re-use our code for trades.\n",
    "#\n",
    "new_order_side = create_trade_side_generator(new_orders, 1)\n",
    "#\n",
    "# For duration, we need to constrain the values to a specific set.  We build the generator from an index\n",
    "# into the allowable durations, then reverse the mapping when we generate sample values.\n",
    "#\n",
    "allowed_durations = [1, 3, 7, 14, 30, 90]\n",
    "def create_order_duration_generator(orders, seed):\n",
    "    durations = [allowed_durations.index(x['duration']) for x in new_orders if x['duration'] > 0]\n",
    "    gen = create_sample_generator(durations, 1000, seed)\n",
    "    return lambda: allowed_durations[gen()]\n",
    "\n",
    "new_order_duration = create_order_duration_generator(new_orders, 1)\n",
    "#\n",
    "# Unlike trades, we don't need to skew order interarrival time since we're basing on issue dates which\n",
    "# aren't constrained to five minute boundaries.\n",
    "#\n",
    "new_order_interarrival_samples = pd.Series([x['time'] for x in new_orders]).diff()[1:].apply(lambda x: x.seconds)\n",
    "new_order_interarrival = create_sample_generator(list(new_order_interarrival_samples), 10000, 1)\n",
    "#\n",
    "# Minimum volume and volume are straightforward.\n",
    "#\n",
    "new_order_min_volume = create_sample_generator([x['min_volume'] for x in new_orders], 1000, 1)\n",
    "new_order_volume = create_sample_generator([x['volume'] for x in new_orders], 1000, 1)\n",
    "#\n",
    "# Finally, top of book is handled similar to side in that we sample uniformly across the sample count.\n",
    "#\n",
    "# Returns True if the next order is \"top of book\" and False otherwise\n",
    "#\n",
    "def create_top_of_book_generator(orders, seed):\n",
    "    top_count = len([x for x in orders if x['tob']])\n",
    "    ntop_count = len([x for x in orders if not x['tob']])\n",
    "    top_threshold = top_count / (top_count + ntop_count)\n",
    "    top_gen = numpy.random.RandomState(seed)\n",
    "    return lambda: True if top_gen.rand() <= top_threshold else False\n",
    "\n",
    "new_order_tob = create_top_of_book_generator(new_orders, 1)"
   ]
  },
  {
   "cell_type": "code",
   "execution_count": 18,
   "metadata": {
    "collapsed": false
   },
   "outputs": [],
   "source": [
    "# We can put all of these pieces together to create a simulated new order generator\n",
    "#\n",
    "def new_order_generator(side_gen, duration_gen, arrival_time_gen, min_vol_gen, vol_gen, tob_gen):\n",
    "    def get_next_new_order():\n",
    "        next_side = side_gen()\n",
    "        next_duration = duration_gen()\n",
    "        next_arrival = max(arrival_time_gen(), 1)\n",
    "        next_min_vol = max(min_vol_gen(), 1)\n",
    "        next_vol = max(vol_gen(), 1)\n",
    "        next_tob = tob_gen()\n",
    "        return dict(arrival=next_arrival, buy=next_side, duration=next_duration, min_volume=next_min_vol,\n",
    "                    volume=next_vol, tob=next_tob)\n",
    "    return get_next_new_order\n",
    "\n",
    "sim_new_order_gen = new_order_generator(new_order_side, new_order_duration, new_order_interarrival, \n",
    "                                        new_order_min_volume, new_order_volume, new_order_tob)"
   ]
  },
  {
   "cell_type": "markdown",
   "metadata": {},
   "source": [
    "Order changes and cancels will have similar properties:\n",
    "\n",
    "* *side* - the side of the book the order will affect\n",
    "* *interarrival time* - the time in seconds until the next instance of this event type\n",
    "\n",
    "For change orders, we once again omit specific price targets and instead handle these orders as follows:\n",
    "\n",
    "1. If the side where the change will occur is empty, then the change order is silently discarded.\n",
    "2. Otherwise, an order is selected randomly using an exponential distribution which favors the top of the book.  The selected order is immediately repriced to the top of the book on the appropriate side.\n",
    "\n",
    "Our handling of change orders is based on the intuition that, in an active market, most order changes will be for the purpose of capturing the top of the book.  Therefore, most changed orders should become the new best bid or ask.\n",
    "\n",
    "For cancel orders, price is not relevant.  Instead, as described in the text, we'll randomly select an order to remove where the selection is exponentially distributed favoring the bottom of the appropriate side of the book.  Our intuition here is that in an active market, cancels are more likely to occur on orders well away from the top of book \\(i.e. orders very unlikely to fill soon\\).\n",
    "\n",
    "In the next few cells, we'll derive generators for these properties, then assemble the generators into functions which generate random change and cancel orders."
   ]
  },
  {
   "cell_type": "code",
   "execution_count": 19,
   "metadata": {
    "collapsed": true
   },
   "outputs": [],
   "source": [
    "# Extract change and cancel order data\n",
    "#\n",
    "change_orders = [x for x in orders if x['action'] == 'change']\n",
    "cancel_orders = [x for x in orders if x['action'] == 'cancel']\n",
    "\n",
    "# We can use our side generator from above for order side.\n",
    "#\n",
    "change_order_side = create_trade_side_generator(change_orders, 1)\n",
    "cancel_order_side = create_trade_side_generator(cancel_orders, 1)\n",
    "\n",
    "# Interarrival time is generated as before with no need to skew since order issue\n",
    "# times are already skewed appropriately.\n",
    "#\n",
    "change_order_interarrival_samples = pd.Series([x['time'] for x in change_orders]).diff()[1:].apply(lambda x: x.seconds)\n",
    "cancel_order_interarrival_samples = pd.Series([x['time'] for x in cancel_orders]).diff()[1:].apply(lambda x: x.seconds)\n",
    "change_order_interarrival = create_sample_generator(list(change_order_interarrival_samples), 10000, 1)\n",
    "cancel_order_interarrival = create_sample_generator(list(cancel_order_interarrival_samples), 10000, 1)"
   ]
  },
  {
   "cell_type": "code",
   "execution_count": 20,
   "metadata": {
    "collapsed": false
   },
   "outputs": [],
   "source": [
    "# Since change and cancel orders are so similar, we can use a generic generator function for both\n",
    "#\n",
    "def change_cancel_order_generator(side_gen, arrival_time_gen):\n",
    "    def get_next_order():\n",
    "        next_side = side_gen()\n",
    "        next_arrival = max(arrival_time_gen(), 1)\n",
    "        return dict(arrival=next_arrival, buy=next_side)\n",
    "    return get_next_order\n",
    "\n",
    "sim_change_order_gen = change_cancel_order_generator(change_order_side, change_order_interarrival)\n",
    "sim_cancel_order_gen = change_cancel_order_generator(cancel_order_side, cancel_order_interarrival)"
   ]
  },
  {
   "cell_type": "code",
   "execution_count": 21,
   "metadata": {
    "collapsed": false
   },
   "outputs": [
    {
     "name": "stdout",
     "output_type": "stream",
     "text": [
      "{'arrival': 424, 'buy': False, 'duration': 30, 'min_volume': 1, 'volume': 2546478, 'tob': True}\n",
      "{'arrival': 5936, 'buy': True}\n",
      "{'arrival': 2294, 'buy': True}\n"
     ]
    }
   ],
   "source": [
    "# Finally, we can test each of our new generators\n",
    "print(sim_new_order_gen())\n",
    "print(sim_change_order_gen())\n",
    "print(sim_cancel_order_gen())"
   ]
  },
  {
   "cell_type": "markdown",
   "metadata": {},
   "source": [
    "We'll use the techniques we derived in this example to create random order and trade generators in our simple market making simulator.  As discussed above, our simulator will use larger data sets for constructing random distributions of generator properties."
   ]
  }
 ],
 "metadata": {
  "kernelspec": {
   "display_name": "Python 3",
   "language": "python",
   "name": "python3"
  },
  "language_info": {
   "codemirror_mode": {
    "name": "ipython",
    "version": 3
   },
   "file_extension": ".py",
   "mimetype": "text/x-python",
   "name": "python",
   "nbconvert_exporter": "python",
   "pygments_lexer": "ipython3",
   "version": "3.6.0"
  }
 },
 "nbformat": 4,
 "nbformat_minor": 2
}
