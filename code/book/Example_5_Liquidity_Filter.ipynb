{
 "cells": [
  {
   "cell_type": "markdown",
   "metadata": {},
   "source": [
    "### Example 5 - Important Concepts: Build a Liquidity Filter\n",
    "\n",
    "In this example, we'll create a simple liquidity filter which finds liquid types for a given region\n",
    "based on configurable criteria.  This is the simplest of our introductory examples, but also one\n",
    "of the most important for future analysis."
   ]
  },
  {
   "cell_type": "code",
   "execution_count": 1,
   "metadata": {
    "collapsed": true
   },
   "outputs": [],
   "source": [
    "# Standard imports\n",
    "import pandas as pd\n",
    "import numpy as np\n",
    "from pandas import DataFrame, Series\n",
    "import matplotlib.pyplot as plt\n",
    "import datetime\n",
    "%matplotlib inline\n",
    "# EveKit imports\n",
    "from evekit.reference import Client\n",
    "from evekit.util import convert_raw_time"
   ]
  },
  {
   "cell_type": "code",
   "execution_count": 2,
   "metadata": {
    "collapsed": false
   },
   "outputs": [
    {
     "name": "stdout",
     "output_type": "stream",
     "text": [
      "Using region_id=10000002 from 2016-10-03 00:00:00 to 2017-01-01 00:00:00\n"
     ]
    }
   ],
   "source": [
    "# We'll use The Forge region to check for liquid assert types.  The set of liquid types\n",
    "# can vary from day to day.  So, we'll also specify a date range and focus on finding\n",
    "# types which are liquid over an acceptable portion of our date range.  For this example,\n",
    "# we'll use a 90 day date range backwards from our reference date.\n",
    "#\n",
    "# This cell initializes these settings.\n",
    "#\n",
    "sde_client = Client.SDE.get()\n",
    "region_query = \"{values: ['The Forge']}\"\n",
    "region_id = sde_client.Map.getRegions(regionName=region_query).result()[0][0]['regionID']\n",
    "compute_date = convert_raw_time(1483228800000) # 2017-01-01 12:00 AM UTC\n",
    "date_range = pd.date_range(compute_date - datetime.timedelta(days=90), compute_date)\n",
    "print(\"Using region_id=%d from %s to %s\" % (region_id, str(date_range[0]), str(date_range[-1])))"
   ]
  },
  {
   "cell_type": "code",
   "execution_count": 3,
   "metadata": {
    "collapsed": false
   },
   "outputs": [
    {
     "name": "stdout",
     "output_type": "stream",
     "text": [
      "Downloading 2016-10-03 00:00:00...done\n",
      "Downloading 2016-10-04 00:00:00...done\n",
      "Downloading 2016-10-05 00:00:00...done\n",
      "Downloading 2016-10-06 00:00:00...done\n",
      "Downloading 2016-10-07 00:00:00...done\n",
      "Downloading 2016-10-08 00:00:00...done\n",
      "Downloading 2016-10-09 00:00:00...done\n",
      "Downloading 2016-10-10 00:00:00...done\n",
      "Downloading 2016-10-11 00:00:00...done\n",
      "Downloading 2016-10-12 00:00:00...done\n",
      "Downloading 2016-10-13 00:00:00...done\n",
      "Downloading 2016-10-14 00:00:00...done\n",
      "Downloading 2016-10-15 00:00:00...done\n",
      "Downloading 2016-10-16 00:00:00...done\n",
      "Downloading 2016-10-17 00:00:00...done\n",
      "Downloading 2016-10-18 00:00:00...done\n",
      "Downloading 2016-10-19 00:00:00...done\n",
      "Downloading 2016-10-20 00:00:00...done\n",
      "Downloading 2016-10-21 00:00:00...done\n",
      "Downloading 2016-10-22 00:00:00...done\n",
      "Downloading 2016-10-23 00:00:00...done\n",
      "Downloading 2016-10-24 00:00:00...done\n",
      "Downloading 2016-10-25 00:00:00...done\n",
      "Downloading 2016-10-26 00:00:00...done\n",
      "Downloading 2016-10-27 00:00:00...done\n",
      "Downloading 2016-10-28 00:00:00...done\n",
      "Downloading 2016-10-29 00:00:00...done\n",
      "Downloading 2016-10-30 00:00:00...done\n",
      "Downloading 2016-10-31 00:00:00...done\n",
      "Downloading 2016-11-01 00:00:00...done\n",
      "Downloading 2016-11-02 00:00:00...done\n",
      "Downloading 2016-11-03 00:00:00...done\n",
      "Downloading 2016-11-04 00:00:00...done\n",
      "Downloading 2016-11-05 00:00:00...done\n",
      "Downloading 2016-11-06 00:00:00...done\n",
      "Downloading 2016-11-07 00:00:00...done\n",
      "Downloading 2016-11-08 00:00:00...done\n",
      "Downloading 2016-11-09 00:00:00...done\n",
      "Downloading 2016-11-10 00:00:00...done\n",
      "Downloading 2016-11-11 00:00:00...done\n",
      "Downloading 2016-11-12 00:00:00...done\n",
      "Downloading 2016-11-13 00:00:00...done\n",
      "Downloading 2016-11-14 00:00:00...done\n",
      "Downloading 2016-11-15 00:00:00...done\n",
      "Downloading 2016-11-16 00:00:00...done\n",
      "Downloading 2016-11-17 00:00:00...done\n",
      "Downloading 2016-11-18 00:00:00...done\n",
      "Downloading 2016-11-19 00:00:00...done\n",
      "Downloading 2016-11-20 00:00:00...done\n",
      "Downloading 2016-11-21 00:00:00...done\n",
      "Downloading 2016-11-22 00:00:00...done\n",
      "Downloading 2016-11-23 00:00:00...done\n",
      "Downloading 2016-11-24 00:00:00...done\n",
      "Downloading 2016-11-25 00:00:00...done\n",
      "Downloading 2016-11-26 00:00:00...done\n",
      "Downloading 2016-11-27 00:00:00...done\n",
      "Downloading 2016-11-28 00:00:00...done\n",
      "Downloading 2016-11-29 00:00:00...done\n",
      "Downloading 2016-11-30 00:00:00...done\n",
      "Downloading 2016-12-01 00:00:00...done\n",
      "Downloading 2016-12-02 00:00:00...done\n",
      "Downloading 2016-12-03 00:00:00...done\n",
      "Downloading 2016-12-04 00:00:00...done\n",
      "Downloading 2016-12-05 00:00:00...done\n",
      "Downloading 2016-12-06 00:00:00...done\n",
      "Downloading 2016-12-07 00:00:00...done\n",
      "Downloading 2016-12-08 00:00:00...done\n",
      "Downloading 2016-12-09 00:00:00...done\n",
      "Downloading 2016-12-10 00:00:00...done\n",
      "Downloading 2016-12-11 00:00:00...done\n",
      "Downloading 2016-12-12 00:00:00...done\n",
      "Downloading 2016-12-13 00:00:00...done\n",
      "Downloading 2016-12-14 00:00:00...done\n",
      "Downloading 2016-12-15 00:00:00...done\n",
      "Downloading 2016-12-16 00:00:00...done\n",
      "Downloading 2016-12-17 00:00:00...done\n",
      "Downloading 2016-12-18 00:00:00...done\n",
      "Downloading 2016-12-19 00:00:00...done\n",
      "Downloading 2016-12-20 00:00:00...done\n",
      "Downloading 2016-12-21 00:00:00...done\n",
      "Downloading 2016-12-22 00:00:00...done\n",
      "Downloading 2016-12-23 00:00:00...done\n",
      "Downloading 2016-12-24 00:00:00...done\n",
      "Downloading 2016-12-25 00:00:00...done\n",
      "Downloading 2016-12-26 00:00:00...done\n",
      "Downloading 2016-12-27 00:00:00...done\n",
      "Downloading 2016-12-28 00:00:00...done\n",
      "Downloading 2016-12-29 00:00:00...done\n",
      "Downloading 2016-12-30 00:00:00...done\n",
      "Downloading 2016-12-31 00:00:00...done\n",
      "Downloading 2017-01-01 00:00:00...done\n"
     ]
    }
   ],
   "source": [
    "#\n",
    "# WARNING: this cell will take some time to evaluate if your connection is slow\n",
    "#\n",
    "# We'll find liquid types by analyzing market history which we download to local storage\n",
    "# for convenience.  This isn't mandatory and if you'd prefer to load everything online on demand,\n",
    "# you can remove the \"local_storage\" argument from the market history functions below.\n",
    "# However, we strongly recommend downloading history to local storage to allow you to iterate\n",
    "# more easily as you experiment with different filters.\n",
    "#\n",
    "from evekit.online.Download import download_market_history_range\n",
    "download_market_history_range(date_range, \".\", dict(skip_missing=True, tree=True, verbose=True))"
   ]
  },
  {
   "cell_type": "code",
   "execution_count": 4,
   "metadata": {
    "collapsed": false
   },
   "outputs": [
    {
     "data": {
      "text/plain": [
       "11677"
      ]
     },
     "execution_count": 4,
     "metadata": {},
     "output_type": "execute_result"
    }
   ],
   "source": [
    "# We'll need all market types for this example.  We'll retrieve the set of market types from the SDE.\n",
    "# The EveKit libraries include a convenience function for iterating over a large set of results\n",
    "# (like the set of all market types).\n",
    "#\n",
    "market_types = Client.SDE.load_complete(sde_client.Inventory.getTypes, marketGroupID=\"{start: 0, end: 1000000000}\")\n",
    "market_types = [x['typeID'] for x in market_types]\n",
    "len(market_types)"
   ]
  },
  {
   "cell_type": "code",
   "execution_count": 5,
   "metadata": {
    "collapsed": false
   },
   "outputs": [
    {
     "name": "stdout",
     "output_type": "stream",
     "text": [
      "Retrieving 2016-10-03 00:00:00...done\n",
      "Retrieving 2016-10-04 00:00:00...done\n",
      "Retrieving 2016-10-05 00:00:00...done\n",
      "Retrieving 2016-10-06 00:00:00...done\n",
      "Retrieving 2016-10-07 00:00:00...done\n",
      "Retrieving 2016-10-08 00:00:00...done\n",
      "Retrieving 2016-10-09 00:00:00...done\n",
      "Retrieving 2016-10-10 00:00:00...done\n",
      "Retrieving 2016-10-11 00:00:00...done\n",
      "Retrieving 2016-10-12 00:00:00...done\n",
      "Retrieving 2016-10-13 00:00:00...done\n",
      "Retrieving 2016-10-14 00:00:00...done\n",
      "Retrieving 2016-10-15 00:00:00...done\n",
      "Retrieving 2016-10-16 00:00:00...done\n",
      "Retrieving 2016-10-17 00:00:00...done\n",
      "Retrieving 2016-10-18 00:00:00...done\n",
      "Retrieving 2016-10-19 00:00:00...done\n",
      "Retrieving 2016-10-20 00:00:00...done\n",
      "Retrieving 2016-10-21 00:00:00...done\n",
      "Retrieving 2016-10-22 00:00:00...done\n",
      "Retrieving 2016-10-23 00:00:00...done\n",
      "Retrieving 2016-10-24 00:00:00...done\n",
      "Retrieving 2016-10-25 00:00:00...done\n",
      "Retrieving 2016-10-26 00:00:00...done\n",
      "Retrieving 2016-10-27 00:00:00...done\n",
      "Retrieving 2016-10-28 00:00:00...done\n",
      "Retrieving 2016-10-29 00:00:00...done\n",
      "Retrieving 2016-10-30 00:00:00...done\n",
      "Retrieving 2016-10-31 00:00:00...done\n",
      "Retrieving 2016-11-01 00:00:00...done\n",
      "Retrieving 2016-11-02 00:00:00...done\n",
      "Retrieving 2016-11-03 00:00:00...done\n",
      "Retrieving 2016-11-04 00:00:00...done\n",
      "Retrieving 2016-11-05 00:00:00...done\n",
      "Retrieving 2016-11-06 00:00:00...done\n",
      "Retrieving 2016-11-07 00:00:00...done\n",
      "Retrieving 2016-11-08 00:00:00...done\n",
      "Retrieving 2016-11-09 00:00:00...done\n",
      "Retrieving 2016-11-10 00:00:00...done\n",
      "Retrieving 2016-11-11 00:00:00...done\n",
      "Retrieving 2016-11-12 00:00:00...done\n",
      "Retrieving 2016-11-13 00:00:00...done\n",
      "Retrieving 2016-11-14 00:00:00...done\n",
      "Retrieving 2016-11-15 00:00:00...done\n",
      "Retrieving 2016-11-16 00:00:00...done\n",
      "Retrieving 2016-11-17 00:00:00...done\n",
      "Retrieving 2016-11-18 00:00:00...done\n",
      "Retrieving 2016-11-19 00:00:00...done\n",
      "Retrieving 2016-11-20 00:00:00...done\n",
      "Retrieving 2016-11-21 00:00:00...done\n",
      "Retrieving 2016-11-22 00:00:00...done\n",
      "Retrieving 2016-11-23 00:00:00...done\n",
      "Retrieving 2016-11-24 00:00:00...done\n",
      "Retrieving 2016-11-25 00:00:00...done\n",
      "Retrieving 2016-11-26 00:00:00...done\n",
      "Retrieving 2016-11-27 00:00:00...done\n",
      "Retrieving 2016-11-28 00:00:00...done\n",
      "Retrieving 2016-11-29 00:00:00...done\n",
      "Retrieving 2016-11-30 00:00:00...done\n",
      "Retrieving 2016-12-01 00:00:00...done\n",
      "Retrieving 2016-12-02 00:00:00...done\n",
      "Retrieving 2016-12-03 00:00:00...done\n",
      "Retrieving 2016-12-04 00:00:00...done\n",
      "Retrieving 2016-12-05 00:00:00...done\n",
      "Retrieving 2016-12-06 00:00:00...done\n",
      "Retrieving 2016-12-07 00:00:00...done\n",
      "Retrieving 2016-12-08 00:00:00...done\n",
      "Retrieving 2016-12-09 00:00:00...done\n",
      "Retrieving 2016-12-10 00:00:00...done\n",
      "Retrieving 2016-12-11 00:00:00...done\n",
      "Retrieving 2016-12-12 00:00:00...done\n",
      "Retrieving 2016-12-13 00:00:00...done\n",
      "Retrieving 2016-12-14 00:00:00...done\n",
      "Retrieving 2016-12-15 00:00:00...done\n",
      "Retrieving 2016-12-16 00:00:00...done\n",
      "Retrieving 2016-12-17 00:00:00...done\n",
      "Retrieving 2016-12-18 00:00:00...done\n",
      "Retrieving 2016-12-19 00:00:00...done\n",
      "Retrieving 2016-12-20 00:00:00...done\n",
      "Retrieving 2016-12-21 00:00:00...done\n",
      "Retrieving 2016-12-22 00:00:00...done\n",
      "Retrieving 2016-12-23 00:00:00...done\n",
      "Retrieving 2016-12-24 00:00:00...done\n",
      "Retrieving 2016-12-25 00:00:00...done\n",
      "Retrieving 2016-12-26 00:00:00...done\n",
      "Retrieving 2016-12-27 00:00:00...done\n",
      "Retrieving 2016-12-28 00:00:00...done\n",
      "Retrieving 2016-12-29 00:00:00...done\n",
      "Retrieving 2016-12-30 00:00:00...done\n",
      "Retrieving 2016-12-31 00:00:00...done\n",
      "Retrieving 2017-01-01 00:00:00...done\n"
     ]
    }
   ],
   "source": [
    "# Now we'll load market history into a DataFrame.  Note that we're loading for all types in a single\n",
    "# region for 90 days so this may take a few minutes.  You can reduce the set of types if memory or \n",
    "# speed is an issue for your installation.\n",
    "#\n",
    "from evekit.marketdata import MarketHistory\n",
    "market_history = MarketHistory.get_data_frame(dates=date_range, types=market_types, regions=[region_id], \n",
    "                                              config=dict(local_storage=\".\", tree=True, skip_missing=True, verbose=True))"
   ]
  },
  {
   "cell_type": "code",
   "execution_count": 6,
   "metadata": {
    "collapsed": false
   },
   "outputs": [],
   "source": [
    "# We'll want to experiment with various liquidity filters.  So we'll create a generic \n",
    "# liquidity evaluator which accepts a market history object and a generic filter.\n",
    "# The evaluator will apply the filter to each asset type in each region and record which\n",
    "# types the filter marks as liquid.  The result of the evaluator is a map from region to\n",
    "# the set of liquid types in that region.\n",
    "#\n",
    "# The signature of the liquidity filter is:\n",
    "#\n",
    "# boolean liquidp(region_id, type_id, history)\n",
    "#\n",
    "# where the history DataFrame will be pre-filtered to the selected region and type.\n",
    "# The filter should return True if the given type should be considered liquid in \n",
    "# the given region, and False otherwise.\n",
    "#\n",
    "def liquid_types(history, liquidp, verbose=False):\n",
    "    # Result is map from region to set of liquid types for that region\n",
    "    # Iterate through all types contained in the history object\n",
    "    liquid_map = {}\n",
    "    count = 0\n",
    "    # Iterate through all regions and types\n",
    "    for next_region in history.region_id.unique():\n",
    "        liquid_set = set()\n",
    "        by_region = history[history.region_id == next_region]\n",
    "        for next_type in by_region.type_id.unique():\n",
    "            by_type = by_region[by_region.type_id == next_type]\n",
    "            if liquidp(next_region, next_type, by_type):\n",
    "                liquid_set.add(next_type)\n",
    "            count += 1\n",
    "            if count % 1000 == 0 and verbose:\n",
    "                print(\"Tested %d (region, type) pairs\" % count)\n",
    "        liquid_map[next_region] = liquid_set\n",
    "    return liquid_map"
   ]
  },
  {
   "cell_type": "code",
   "execution_count": 7,
   "metadata": {
    "collapsed": true
   },
   "outputs": [],
   "source": [
    "# There are many ways to define liquidity.  For our first filter, we'll treat a type as liquid if:\n",
    "#\n",
    "# 1. Market history exists for a minimum number of days\n",
    "# 2. Each day of market history meets an order count threshold\n",
    "# 3. Each day of market history meets an ISK volume threshold\n",
    "#\n",
    "# It is convenient to express our filter as a functor (a function which returns a function) so that\n",
    "# it is easier to experiment with different thresholds.\n",
    "#\n",
    "def liquidity_filter(min_days, min_order_count, min_isk_volume):\n",
    "    def liquidp(region_id, type_id, history):\n",
    "        return len(history) >= min_days and \\\n",
    "               len(history[history.order_count < min_order_count]) == 0 and \\\n",
    "               len(history[(history.avg_price * history.volume) < min_isk_volume]) == 0\n",
    "    return liquidp"
   ]
  },
  {
   "cell_type": "code",
   "execution_count": 8,
   "metadata": {
    "collapsed": false
   },
   "outputs": [
    {
     "data": {
      "text/plain": [
       "True"
      ]
     },
     "execution_count": 8,
     "metadata": {},
     "output_type": "execute_result"
    }
   ],
   "source": [
    "# Let's start with a simple parameterization.  We'll expect a liquid type to:\n",
    "#\n",
    "# 1. Be traded at least 70% of the days in the date range;\n",
    "# 2. Have at least 100 orders a day; and,\n",
    "# 3. Have at least 100m ISK of activity\n",
    "#\n",
    "day_min = int(len(date_range) * 0.7)\n",
    "order_min = 100\n",
    "volume_min = 100000000\n",
    "\n",
    "# We can hand test our filter on a sample type.  For example, Tritanium (type 34) is almost certainly liquid over this range:\n",
    "(liquidity_filter(day_min, order_min, volume_min))(region_id, 34, market_history[market_history.region_id == region_id]\\\n",
    "                                                                                [market_history.type_id == 34])"
   ]
  },
  {
   "cell_type": "code",
   "execution_count": 9,
   "metadata": {
    "collapsed": false,
    "scrolled": false
   },
   "outputs": [
    {
     "name": "stdout",
     "output_type": "stream",
     "text": [
      "Tested 1000 (region, type) pairs\n",
      "Tested 2000 (region, type) pairs\n",
      "Tested 3000 (region, type) pairs\n",
      "Tested 4000 (region, type) pairs\n",
      "Tested 5000 (region, type) pairs\n",
      "Tested 6000 (region, type) pairs\n",
      "Tested 7000 (region, type) pairs\n",
      "Tested 8000 (region, type) pairs\n",
      "Tested 9000 (region, type) pairs\n",
      "Tested 10000 (region, type) pairs\n",
      "{10000002: {34, 35, 36, 37, 38, 39, 40, 203, 438, 440, 448, 519, 527, 621, 1183,\n",
      "            1228, 1230, 1236, 1248, 1319, 1335, 1355, 1405, 1422, 1447, 1541,\n",
      "            1877, 1952, 1978, 1999, 2024, 2032, 2048, 2175, 2185, 2205, 2281,\n",
      "            2299, 2301, 2303, 2333, 2364, 2404, 2410, 2446, 2456, 2466, 2488,\n",
      "            2539, 2553, 2605, 2629, 2679, 2876, 2889, 2977, 3146, 3178, 3244,\n",
      "            3530, 3568, 3578, 3645, 3689, 3828, 3831, 3841, 3888, 4051, 4254,\n",
      "            4383, 4403, 4405, 5839, 5945, 5955, 5973, 8027, 8089, 8105, 8117,\n",
      "            8433, 8517, 8641, 9668, 9728, 9772, 9832, 9834, 9842, 9848, 9899,\n",
      "            9941, 9942, 9943, 9956, 10190, 10208, 10212, 10216, 10221, 10631,\n",
      "            11269, 11317, 11319, 11325, 11327, 11370, 11399, 11563, 11577,\n",
      "            11578, 11640, 11646, 11648, 12058, 12076, 12267, 13001, 13003,\n",
      "            15331, 15681, 15729, 16272, 16273, 16275, 16303, 16457, 16527,\n",
      "            16670, 16678, 16679, 16680, 16681, 16682, 16683, 17455, 17456,\n",
      "            17459, 17463, 17470, 17471, 17482, 17559, 17715, 17843, 17887,\n",
      "            17888, 17912, 19407, 19421, 19739, 20171, 20353, 20411, 20413,\n",
      "            20414, 20415, 20416, 20418, 20419, 20420, 20421, 20424, 21096,\n",
      "            21638, 21640, 21894, 21896, 21898, 21906, 21922, 21924, 22291,\n",
      "            23009, 23025, 23071, 23527, 24348, 24417, 24427, 24438, 25588,\n",
      "            25589, 25590, 25591, 25594, 25595, 25596, 25598, 25599, 25600,\n",
      "            25601, 25602, 25603, 25604, 25605, 25606, 25607, 25608, 25609,\n",
      "            25610, 25611, 25612, 25613, 25614, 25615, 25617, 25618, 25619,\n",
      "            25620, 25621, 25622, 25623, 25624, 25625, 25715, 25887, 25948,\n",
      "            27361, 27371, 27381, 27387, 27441, 28576, 28668, 28756, 28758,\n",
      "            29668, 30021, 30248, 30251, 30254, 30259, 30486, 30488, 30744,\n",
      "            30745, 30746, 31047, 31055, 31059, 31119, 31177, 31358, 31360,\n",
      "            31366, 31372, 31378, 31724, 31788, 31790, 31794, 31796, 31884,\n",
      "            31900, 31928, 31932, 32006, 32014, 32780, 33076, 33468, 33474,\n",
      "            33475, 33681, 34201, 34202, 34203, 34204, 34205, 34206, 35657,\n",
      "            35661, 35662, 35790, 37608, 37610, 37611, 40519, 40520, 41054,\n",
      "            41055, 41056, 41218, 41490}}\n"
     ]
    }
   ],
   "source": [
    "# Let's collect the list of all liquid types for this data.  This may take a few minutes\n",
    "# to run due to the size of the data.\n",
    "l_set = liquid_types(market_history, liquidity_filter(day_min, order_min, volume_min), verbose=True)\n",
    "\n",
    "import pprint\n",
    "pprint.pprint(l_set, compact=True)"
   ]
  },
  {
   "cell_type": "code",
   "execution_count": 10,
   "metadata": {
    "collapsed": false
   },
   "outputs": [
    {
     "name": "stdout",
     "output_type": "stream",
     "text": [
      "['Tritanium', 'Pyerite', 'Mexallon', 'Isogen', 'Nocxium', 'Zydrine', 'Megacyte',\n",
      " 'Scourge Cruise Missile', '1MN Afterburner II', '5MN Microwarpdrive II',\n",
      " 'Warp Scrambler II', 'Gyrostabilizer II', 'Stasis Webifier II', 'Caracal',\n",
      " 'Small Armor Repairer II', 'Scordite', 'Veldspar',\n",
      " 'Overdrive Injector System II', 'Capacitor Flux Coil II',\n",
      " 'Expanded Cargohold II', 'Reinforced Bulkheads II', 'Reactor Control Unit II',\n",
      " 'Inertial Stabilizers II', 'Shield Power Relay II', 'Capacitor Power Relay II',\n",
      " 'Power Diagnostic System II', 'Rapid Light Missile Launcher II',\n",
      " 'Sensor Booster II', 'Tracking Computer II', 'Tracking Enhancer II',\n",
      " 'Medium Capacitor Booster II', 'Cap Recharger II', 'Damage Control II',\n",
      " 'Infiltrator II', 'Hammerhead II', 'Acolyte II',\n",
      " 'Adaptive Invulnerability Field II', 'Kinetic Deflection Field II',\n",
      " 'EM Ward Field II', 'Thermal Dissipation Field II', 'Survey Scanner II',\n",
      " 'Heat Sink II', 'Light Missile Launcher II', 'Heavy Missile Launcher II',\n",
      " 'Ogre II', 'Hobgoblin II', 'Hornet II', 'Warrior II',\n",
      " 'Thermal Dissipation Amplifier II', 'EM Ward Amplifier II',\n",
      " 'Nanofiber Internal Structure II', 'Scourge Fury Heavy Missile',\n",
      " 'Scourge Rage Heavy Assault Missile', 'Wetware Mainframe',\n",
      " '200mm AutoCannon II', '280mm Howitzer Artillery II',\n",
      " 'Heavy Neutron Blaster II', 'Light Neutron Blaster II', 'Warp Disruptor II',\n",
      " 'Medium Armor Repairer II', 'Small Capacitor Booster II',\n",
      " 'Heavy Capacitor Booster II', 'Water', 'Mechanical Parts',\n",
      " 'Construction Blocks', 'Medium Shield Extender II', 'Large Shield Extender II',\n",
      " 'Co-Processor II', 'Nitrogen Fuel Block', 'Micro Auxiliary Power Core II',\n",
      " 'Large Micro Jump Drive', 'Reactive Armor Hardener',\n",
      " 'Drone Damage Amplifier II', 'IFFA Compact Damage Control',\n",
      " '500MN Cold-Gas Enduring Microwarpdrive',\n",
      " '100MN Monopropellant Enduring Afterburner', '5MN Y-T8 Compact Microwarpdrive',\n",
      " \"Prototype 'Arbalest' Rapid Light Missile Launcher\",\n",
      " 'Arbalest Compact Light Missile Launcher', \"'Arbalest' Heavy Missile Launcher\",\n",
      " \"Prototype 'Arbalest' Torpedo Launcher\",\n",
      " 'Medium Azeotropic Restrained Shield Extender',\n",
      " 'Medium F-S9 Regolith Compact Shield Extender',\n",
      " 'Large S95a Scoped Remote Shield Booster',\n",
      " 'Large Rudimentary Concussion Bomb I', 'Medium Rudimentary Concussion Bomb I',\n",
      " \"Large 'Notos' Explosive Charge I\", 'Coolant', 'Guidance Systems',\n",
      " 'Miniature Electronics', 'Robotics', 'Ocular Filter - Basic',\n",
      " 'Memory Augmentation - Basic', 'Neural Boost - Basic',\n",
      " 'Cybernetic Subprocessor - Basic', 'Social Adaptation Chip - Basic',\n",
      " 'Magnetic Field Stabilizer II', 'Memory Augmentation - Standard',\n",
      " 'Neural Boost - Standard', 'Ocular Filter - Standard',\n",
      " 'Cybernetic Subprocessor - Standard', 'Rocket Launcher II',\n",
      " 'Energized Adaptive Nano Membrane II', '800mm Rolled Tungsten Compact Plates',\n",
      " '800mm Crystalline Carbonide Restrained Plates',\n",
      " '1600mm Rolled Tungsten Compact Plates',\n",
      " '1600mm Crystalline Carbonide Restrained Plates',\n",
      " 'Prototype Cloaking Device I', 'Morphite', 'Micro Auxiliary Power Core I',\n",
      " 'Improved Cloaking Device II', 'Covert Ops Cloaking Device II',\n",
      " 'Warp Core Stabilizer II', 'Armor Explosive Hardener II',\n",
      " 'Armor Thermal Hardener II', '10MN Afterburner II', '50MN Microwarpdrive II',\n",
      " 'Medium Energy Neutralizer II', 'Small Energy Nosferatu II',\n",
      " 'Small Energy Neutralizer II', 'Metal Scraps',\n",
      " 'Caldari Navy Ballistic Control System',\n",
      " 'Imperial Navy Energized Adaptive Nano Membrane', 'Heavy Water',\n",
      " 'Liquid Ozone', 'Strontium Clathrates', \"'Halcyon' Core Equalizer I\",\n",
      " 'Crosslink Compact Ballistic Control System', \"'Arbalest' Rocket Launcher I\",\n",
      " 'Crystalline Carbonide', 'Sylramic Fibers', 'Fullerides',\n",
      " 'Phenolic Composites', 'Nanotransistors', 'Hypersynaptic Fibers', 'Ferrogel',\n",
      " 'Azure Plagioclase', 'Rich Plagioclase', 'Solid Pyroxeres',\n",
      " 'Condensed Scordite', 'Concentrated Veldspar', 'Dense Veldspar',\n",
      " 'Strip Miner I', 'Federation Navy Stasis Webifier', 'Gila', 'Vexor Navy Issue',\n",
      " 'Oxygen Isotopes', 'Nitrogen Isotopes', 'Modulated Strip Miner II',\n",
      " \"8th Tier Overseer's Personal Effects\",\n",
      " \"23rd Tier Overseer's Personal Effects\", 'Cruise Missile Launcher II',\n",
      " 'Datacore - Hydromagnetic Physics', '1600mm Steel Plates II',\n",
      " 'Datacore - High Energy Physics', 'Datacore - Laser Physics',\n",
      " 'Datacore - Quantum Physics', 'Datacore - Molecular Engineering',\n",
      " 'Datacore - Nanite Engineering', 'Datacore - Electronic Engineering',\n",
      " 'Datacore - Graviton Physics', 'Datacore - Rocket Science',\n",
      " 'Datacore - Amarrian Starship Engineering',\n",
      " 'Datacore - Mechanical Engineering', 'Cynosural Field Generator I', 'Vespa II',\n",
      " 'Valkyrie II', 'Republic Fleet EMP L', 'Republic Fleet EMP M',\n",
      " 'Republic Fleet EMP S', 'Republic Fleet Fusion S',\n",
      " 'Republic Fleet Phased Plasma M', 'Republic Fleet Phased Plasma S',\n",
      " 'Ballistic Control System II', 'Caldari Navy Antimatter Charge S',\n",
      " 'Caldari Navy Antimatter Charge M', 'Imperial Navy Multifrequency S',\n",
      " 'Drone Link Augmentor I', 'Small Tractor Beam I',\n",
      " 'Drone Navigation Computer II', 'Drone Link Augmentor II',\n",
      " 'Omnidirectional Tracking Link II', 'Scorched Telemetry Processor',\n",
      " 'Malfunctioning Shield Emitter', 'Contaminated Nanite Compound',\n",
      " 'Contaminated Lorentz Fluid', 'Tangled Power Conduit', 'Alloyed Tritanium Bar',\n",
      " 'Broken Drone Transceiver', 'Tripped Power Circuit', 'Charred Micro Circuit',\n",
      " 'Burned Logic Circuit', 'Fried Interface Circuit', 'Thruster Console',\n",
      " 'Melted Capacitor Console', 'Conductive Polymer', 'Armor Plates',\n",
      " 'Ward Console', 'Telemetry Processor', 'Intact Shield Emitter',\n",
      " 'Nanite Compound', 'Lorentz Fluid', 'Current Pump', 'Trigger Unit',\n",
      " 'Power Conduit', 'Single-crystal Superalloy I-beam', 'Drone Transceiver',\n",
      " 'Power Circuit', 'Micro Circuit', 'Logic Circuit', 'Interface Circuit',\n",
      " 'Impetus Console', 'Capacitor Console', 'Conductive Thermoplastic',\n",
      " 'Intact Armor Plates', 'Enhanced Ward Console',\n",
      " 'Heavy Assault Missile Launcher II', 'Datacore - Caldari Starship Engineering',\n",
      " 'Large Capacitor Control Circuit I', 'Caldari Navy Scourge Light Missile',\n",
      " 'Caldari Navy Inferno Light Missile', 'Caldari Navy Nova Light Missile',\n",
      " 'Caldari Navy Mjolnir Light Missile', 'Caldari Navy Scourge Heavy Missile',\n",
      " 'Mining Laser Upgrade II', 'Nanite Repair Paste',\n",
      " 'Sisters Expanded Probe Launcher', 'Sisters Core Probe Launcher',\n",
      " \"30 Day Pilot's License Extension (PLEX)\", 'Modified Fluid Router',\n",
      " 'Emergent Combat Analyzer', 'Neurovisual Input Matrix',\n",
      " 'Electromechanical Hull Sheeting', 'Melted Nanoribbons',\n",
      " 'Sisters Combat Scanner Probe', 'Sisters Core Scanner Probe',\n",
      " 'Neural Network Analyzer', 'Sleeper Data Library',\n",
      " 'Ancient Coordinates Database', 'Medium Auxiliary Nano Pump I',\n",
      " 'Medium Trimark Armor Pump I', 'Medium Trimark Armor Pump II',\n",
      " 'Medium Cargohold Optimization I', 'Small Polycarbon Engine Housing I',\n",
      " 'Small Ancillary Current Router I', 'Medium Ancillary Current Router I',\n",
      " 'Medium Ancillary Current Router II', 'Medium Capacitor Control Circuit I',\n",
      " 'Medium Capacitor Control Circuit II', 'Medium Anti-EM Screen Reinforcer II',\n",
      " 'Small Core Defense Field Extender I', 'Medium Core Defense Field Extender I',\n",
      " 'Small Core Defense Field Extender II',\n",
      " 'Medium Core Defense Field Extender II', 'Federation Navy Ogre',\n",
      " 'Imperial Navy 1600mm Steel Plates', 'Republic Fleet Medium Shield Extender',\n",
      " 'Republic Fleet Large Shield Extender', 'Navy Cap Booster 400',\n",
      " 'Navy Cap Booster 800', 'X-Large Ancillary Shield Booster',\n",
      " 'Small Ancillary Armor Repairer', 'Astero', 'Mobile Depot',\n",
      " 'Mobile Tractor Unit', 'Gecko', 'Accelerant Decryptor', 'Attainment Decryptor',\n",
      " 'Augmentation Decryptor', 'Parity Decryptor', 'Process Decryptor',\n",
      " 'Symmetry Decryptor', '100MN Y-S8 Compact Afterburner',\n",
      " '500MN Y-T8 Compact Microwarpdrive',\n",
      " '500MN Quad LiF Restrained Microwarpdrive', 'Missile Guidance Computer II',\n",
      " 'Pitfall Compact Warp Disruption Field Generator',\n",
      " 'Clutch Restrained Warp Disruption Field Generator',\n",
      " 'M-36 Enduring Warp Disruption Field Generator', 'Skill Extractor',\n",
      " 'Skill Injector', 'Heavy Gunnar Compact Stasis Grappler',\n",
      " 'Heavy Karelin Scoped Stasis Grappler',\n",
      " 'Heavy Jigoro Enduring Stasis Grappler', 'Republic Fleet Large Cap Battery',\n",
      " 'Navy Cap Booster 3200']\n"
     ]
    }
   ],
   "source": [
    "# You can use the SDE if you want to see type names for these types as follows.\n",
    "#\n",
    "type_name_query = \"{values:[\" + \",\".join(map(str, l_set[region_id])) + \"]}\"\n",
    "type_name_results = Client.SDE.load_complete(sde_client.Inventory.getTypes, typeID=type_name_query)\n",
    "pprint.pprint([x['typeName'] for x in type_name_results], compact=True)"
   ]
  },
  {
   "cell_type": "code",
   "execution_count": 11,
   "metadata": {
    "collapsed": false
   },
   "outputs": [
    {
     "data": {
      "text/plain": [
       "<matplotlib.axes._subplots.AxesSubplot at 0x1d78aba7be0>"
      ]
     },
     "execution_count": 11,
     "metadata": {},
     "output_type": "execute_result"
    },
    {
     "data": {
      "image/png": "[encoded data removed]",
      "text/plain": [
       "<matplotlib.figure.Figure at 0x1d78aba7b00>"
      ]
     },
     "metadata": {},
     "output_type": "display_data"
    }
   ],
   "source": [
    "# Our first filter selected across the entire date range.  However, many assets are more active on weekends.\n",
    "# For example, here is Tritanium ISK volume with week days and week ends (friday through saturday) \n",
    "# rendered in different colors.\n",
    "#\n",
    "weekends = [x for x in date_range if x.weekday() in (4,5,6)]\n",
    "weekdays = [x for x in date_range if x not in weekends]\n",
    "tritanium = market_history[market_history.region_id == region_id][market_history.type_id == 34].copy()\n",
    "tritanium['weekday_volume'] = tritanium.volume.ix[weekdays]\n",
    "tritanium['weekend_volume'] = tritanium.volume.ix[weekends]\n",
    "tritanium[['weekday_volume','weekend_volume']].plot(kind='bar', figsize=[18,5])"
   ]
  },
  {
   "cell_type": "code",
   "execution_count": 12,
   "metadata": {
    "collapsed": false
   },
   "outputs": [],
   "source": [
    "# Note that weekend volume is usually slightly higher than weekday volume.  We can write a liquidity\n",
    "# filter which only considers weekends as shown below. \n",
    "#\n",
    "def liquidity_filter_2(min_days, min_order_count, min_isk_volume):\n",
    "    def liquidp(region_id, type_id, history):\n",
    "        by_weekend = history.ix[[x for x in history.index.unique() if x.weekday() in (4, 5, 6)]]\n",
    "        return len(by_weekend) >= min_days and \\\n",
    "               len(by_weekend[by_weekend.order_count < min_order_count]) == 0 and \\\n",
    "               len(by_weekend[(by_weekend.avg_price * by_weekend.volume) < min_isk_volume]) == 0\n",
    "    return liquidp"
   ]
  },
  {
   "cell_type": "code",
   "execution_count": 13,
   "metadata": {
    "collapsed": false
   },
   "outputs": [
    {
     "name": "stdout",
     "output_type": "stream",
     "text": [
      "Tested 1000 (region, type) pairs\n",
      "Tested 2000 (region, type) pairs\n",
      "Tested 3000 (region, type) pairs\n",
      "Tested 4000 (region, type) pairs\n",
      "Tested 5000 (region, type) pairs\n",
      "Tested 6000 (region, type) pairs\n",
      "Tested 7000 (region, type) pairs\n",
      "Tested 8000 (region, type) pairs\n",
      "Tested 9000 (region, type) pairs\n",
      "Tested 10000 (region, type) pairs\n",
      "{10000002: {18, 34, 35, 36, 37, 38, 39, 40, 203, 230, 380, 438, 440, 448, 519,\n",
      "            527, 621, 1183, 1224, 1228, 1230, 1236, 1248, 1306, 1319, 1335,\n",
      "            1355, 1405, 1422, 1447, 1541, 1877, 1952, 1978, 1999, 2024, 2032,\n",
      "            2048, 2175, 2185, 2195, 2205, 2281, 2299, 2301, 2303, 2333, 2364,\n",
      "            2404, 2410, 2446, 2456, 2466, 2488, 2539, 2553, 2605, 2629, 2679,\n",
      "            2876, 2889, 2913, 2977, 3082, 3146, 3178, 3244, 3520, 3530, 3568,\n",
      "            3578, 3645, 3689, 3828, 3831, 3841, 3888, 4051, 4254, 4383, 4403,\n",
      "            4405, 5839, 5945, 5955, 5973, 8027, 8089, 8105, 8117, 8433, 8517,\n",
      "            8641, 9668, 9678, 9728, 9772, 9800, 9832, 9834, 9842, 9848, 9899,\n",
      "            9941, 9942, 9943, 9956, 10190, 10208, 10212, 10216, 10221, 10225,\n",
      "            10631, 10850, 11269, 11317, 11319, 11325, 11327, 11370, 11399,\n",
      "            11563, 11577, 11578, 11640, 11646, 11648, 12058, 12068, 12076,\n",
      "            12267, 12818, 13001, 13003, 15331, 15681, 15729, 16272, 16273,\n",
      "            16274, 16275, 16303, 16457, 16527, 16670, 16678, 16679, 16680,\n",
      "            16681, 16682, 16683, 17455, 17456, 17459, 17463, 17464, 17470,\n",
      "            17471, 17482, 17559, 17715, 17843, 17887, 17888, 17912, 19406,\n",
      "            19407, 19421, 19739, 19806, 20171, 20353, 20411, 20413, 20414,\n",
      "            20415, 20416, 20417, 20418, 20419, 20420, 20421, 20424, 21096,\n",
      "            21638, 21640, 21894, 21896, 21898, 21904, 21906, 21922, 21924,\n",
      "            22291, 23009, 23025, 23071, 23089, 23527, 24348, 24417, 24427,\n",
      "            24438, 25588, 25589, 25590, 25591, 25594, 25595, 25596, 25598,\n",
      "            25599, 25600, 25601, 25602, 25603, 25604, 25605, 25606, 25607,\n",
      "            25608, 25609, 25610, 25611, 25612, 25613, 25614, 25615, 25617,\n",
      "            25618, 25619, 25620, 25621, 25622, 25623, 25624, 25625, 25715,\n",
      "            25887, 25948, 27333, 27361, 27371, 27381, 27387, 27441, 28211,\n",
      "            28576, 28668, 28756, 28758, 29668, 29984, 30021, 30248, 30251,\n",
      "            30254, 30259, 30486, 30488, 30744, 30745, 30746, 30987, 31047,\n",
      "            31055, 31059, 31119, 31165, 31177, 31358, 31360, 31364, 31366,\n",
      "            31372, 31378, 31722, 31724, 31760, 31788, 31790, 31794, 31796,\n",
      "            31802, 31884, 31900, 31928, 31932, 32006, 32014, 32772, 32780,\n",
      "            33076, 33468, 33474, 33475, 33681, 33824, 34201, 34202, 34203,\n",
      "            34204, 34205, 34206, 35657, 35661, 35662, 35790, 37608, 37610,\n",
      "            37611, 40519, 40520, 41054, 41055, 41056, 41218, 41490}}\n"
     ]
    }
   ],
   "source": [
    "# Since there are many fewer days under consideration, we'll need to adjust our day minimum,\n",
    "# but otherwise we can keep the same parameters from before.\n",
    "#\n",
    "day_min = int(len(weekends) * 0.7)\n",
    "order_min = 100\n",
    "volume_min = 100000000\n",
    "\n",
    "# And now we can apply the filter...\n",
    "l_set_2 = liquid_types(market_history, liquidity_filter_2(day_min, order_min, volume_min), verbose=True)\n",
    "pprint.pprint(l_set_2, compact=True)"
   ]
  },
  {
   "cell_type": "code",
   "execution_count": 14,
   "metadata": {
    "collapsed": false
   },
   "outputs": [
    {
     "name": "stdout",
     "output_type": "stream",
     "text": [
      "Full Date Range: 286  Weekends Only: 319\n",
      "New liquid types:\n",
      "['Plagioclase', 'Antimatter Charge M', 'Small Shield Extender II', 'Pyroxeres',\n",
      " 'Adaptive Nano Plating II', 'Praetor II', '425mm AutoCannon II',\n",
      " '250mm Railgun II', 'Heavy Pulse Laser II',\n",
      " \"Large 'Vehemence' Shockwave Charge\", 'Medium YF-12a Smartbomb',\n",
      " 'Social Adaptation Chip - Standard', 'Medium Shield Booster II',\n",
      " '100MN Afterburner II', 'Scorch M', 'Helium Isotopes', 'Massive Scordite',\n",
      " \"7th Tier Overseer's Personal Effects\", 'Target Painter II',\n",
      " 'Datacore - Electromagnetic Physics', 'Republic Fleet Fusion M',\n",
      " 'Imperial Navy Multifrequency M', 'Caldari Navy Scourge Rocket', 'Garde II',\n",
      " 'Tengu', 'Small Trimark Armor Pump I',\n",
      " 'Small Hyperspatial Velocity Optimizer II',\n",
      " 'Small Ancillary Current Router II', 'Small Anti-EM Screen Reinforcer II',\n",
      " 'Medium Anti-Thermal Screen Reinforcer II',\n",
      " 'Medium Core Defense Field Purger I', 'Medium Ancillary Shield Booster',\n",
      " 'Omnidirectional Tracking Enhancer II']\n"
     ]
    }
   ],
   "source": [
    "# As we might expect, there are more liquid types when we only consider weekends:\n",
    "print(\"Full Date Range: %d  Weekends Only: %d\" % (len(l_set[region_id]), len(l_set_2[region_id])))\n",
    "new_liquid_types = l_set_2[region_id].difference(l_set[region_id])\n",
    "type_name_query = \"{values:[\" + \",\".join(map(str, new_liquid_types)) + \"]}\"\n",
    "type_name_results = Client.SDE.load_complete(sde_client.Inventory.getTypes, typeID=type_name_query)\n",
    "print(\"New liquid types:\")\n",
    "pprint.pprint([x['typeName'] for x in type_name_results], compact=True)"
   ]
  },
  {
   "cell_type": "markdown",
   "metadata": {
    "collapsed": false
   },
   "source": [
    "Although this example was relatively simple, we'll see in later chapters that most trading strategies\n",
    "only work well on liquid assets.  Your time will be well spent finding a liquidity filter that works\n",
    "well for your strategies."
   ]
  }
 ],
 "metadata": {
  "kernelspec": {
   "display_name": "Python 3",
   "language": "python",
   "name": "python3"
  },
  "language_info": {
   "codemirror_mode": {
    "name": "ipython",
    "version": 3
   },
   "file_extension": ".py",
   "mimetype": "text/x-python",
   "name": "python",
   "nbconvert_exporter": "python",
   "pygments_lexer": "ipython3",
   "version": "3.6.0"
  }
 },
 "nbformat": 4,
 "nbformat_minor": 2
}
